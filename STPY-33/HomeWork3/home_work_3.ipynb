{
 "cells": [
  {
   "cell_type": "code",
   "execution_count": 89,
   "metadata": {
    "collapsed": true
   },
   "outputs": [],
   "source": [
    "import matplotlib.pyplot as plt\n",
    "import numpy as np"
   ]
  },
  {
   "cell_type": "markdown",
   "source": [
    "Смоделировать игру против лотерейного автомата типа “777”. Игрок платит 1 руб., после чего выпадает случайное целое число, равномерно распределенное от 0 до 999. При некоторых значениях числа игрок получает выигрыш.\n",
    "\n",
    "777: 200 руб.\n",
    "999: 100 руб.\n",
    "555: 50 руб.\n",
    "333: 15 руб.\n",
    "111: 10 руб.\n",
    "*77: 5 руб.\n",
    "**7: 3 руб.\n",
    "*00: 2 руб.\n",
    "**0: 1 руб.\n",
    "\n",
    "Вопросы:\n",
    "\n",
    "Выгодна ли игра игроку?\n",
    "Сколько в среднем приобретает или теряет игрок за одну игру?\n",
    "**Дополнительное задание повышенной сложности. **\n",
    "\n",
    "Теоретически рассчитать средний выигрыш (проигрыш) и сравнить с результатами моделирования"
   ],
   "metadata": {
    "collapsed": false
   }
  },
  {
   "cell_type": "code",
   "execution_count": 251,
   "outputs": [
    {
     "name": "stdout",
     "output_type": "stream",
     "text": [
      "Потратил 1000000 руб, выигрыш 807507 руб,  0.807507\n",
      "В среднем игрок с 1 рубля \"выигрывает\" 0.62 руб, убыток составит 0.38\n",
      " 22.5\n"
     ]
    }
   ],
   "source": [
    "import pandas as pd\n",
    "# 777, 999, 555, 333, 111 - вероятность 1/1000 = 0.001\n",
    "# *77 - 10/1000 = 1/100 = 0.01\n",
    "# **7 - 100/1000 = 1/10 = 0.1\n",
    "# *00 - 10/1000 = 1/100 = 0.01\n",
    "# **0 - 100/1000 = 1/100 = 0.1\n",
    "# общая вероятность выпадения выигрышных комбинаций 225/1000 = 0.225\n",
    "# проигрышей 775/1000= 0.775\n",
    "prizes = {\n",
    "    '777': 200,\n",
    "    '999': 100,\n",
    "    '555': 50,\n",
    "    '333': 15,\n",
    "    '111': 10,\n",
    "    '*77': 5,\n",
    "    '**7': 3,\n",
    "    '*00': 2,\n",
    "    '**0': 1\n",
    "}\n",
    "win_prob = 0.225\n",
    "triple_prob = 0.001\n",
    "double_prob = 0.01\n",
    "single_prob = 0.1\n",
    "\n",
    "tries = 1000000 # раз каждая игра 1 руб то эта сумма и будет потрачено\n",
    "win = 0\n",
    "res = np.random.randint(0, 1000, tries)\n",
    "for i in res:\n",
    "    if i == 777:\n",
    "        win += 200\n",
    "    elif i == 999:\n",
    "        win += 100\n",
    "    elif i == 555:\n",
    "        win += 50\n",
    "    elif i == 333:\n",
    "        win += 15\n",
    "    elif i == 111:\n",
    "        win += 10\n",
    "    elif i % 100 == 77:\n",
    "        win += 5\n",
    "    elif i % 10 == 7:\n",
    "        win += 3\n",
    "    elif i % 100 == 0:\n",
    "        win += 2\n",
    "    elif i % 10 == 0:\n",
    "        win += 1\n",
    "\n",
    "print(f'Потратил {tries} руб, выигрыш {win} руб,  {win/tries}')\n",
    "# Среднее значение будет:\n",
    "# т.к. каждый ход стоит 1 руб, нужно вычесть его из приза\n",
    "H1 = (prizes['777'] - 1)*triple_prob\n",
    "H2 = (prizes['999'] - 1)*triple_prob\n",
    "H3 = (prizes['555'] - 1)*triple_prob\n",
    "H4 = (prizes['333'] - 1)*triple_prob\n",
    "H5 = (prizes['111'] - 1)*triple_prob\n",
    "H6 = (prizes['*77'] - 1)*double_prob\n",
    "H7 = (prizes['**7'] - 1)*single_prob\n",
    "H8 = (prizes['*00'] - 1)*double_prob\n",
    "H9 = (prizes['**0'] - 1)*single_prob\n",
    "\n",
    "avg_prob =  H1 + H2 + H3 + H4 + H5 + H6 + H7 + H8 + H9\n",
    "print(f'В среднем игрок с 1 рубля \"выигрывает\" {round(avg_prob, 3)} руб, убыток составит {round(1 - avg_prob, 3)}')\n",
    "\n",
    "# Полная вероятность\n",
    "# A - игрок выиграл\n",
    "# H1-H9 - вероятности определенного выигрыша (777,999 ... **0)\n",
    "A = 5 * triple_prob + 2 * double_prob + 2 * single_prob\n",
    "print('Полная вероятность выигрыша', A*100)\n"
   ],
   "metadata": {
    "collapsed": false,
    "pycharm": {
     "name": "#%%\n"
    }
   }
  }
 ],
 "metadata": {
  "kernelspec": {
   "display_name": "Python 3",
   "language": "python",
   "name": "python3"
  },
  "language_info": {
   "codemirror_mode": {
    "name": "ipython",
    "version": 2
   },
   "file_extension": ".py",
   "mimetype": "text/x-python",
   "name": "python",
   "nbconvert_exporter": "python",
   "pygments_lexer": "ipython2",
   "version": "2.7.6"
  }
 },
 "nbformat": 4,
 "nbformat_minor": 0
}