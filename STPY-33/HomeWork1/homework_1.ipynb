{
 "cells": [
  {
   "cell_type": "markdown",
   "source": [
    "## Обязательная часть\n",
    "\n",
    "Будем осуществлять работу с непростым [набором данных](https://raw.githubusercontent.com/obulygin/pyda_homeworks/master/statistics_basics/horse_data.csv) о состоянии здоровья лошадей, испытывающих кишечные колики.\n",
    "\n",
    "### Задание 1. Базовое изучение\n",
    "\n",
    "Изучить представленный набор данных на основе [описания его столбцов](https://raw.githubusercontent.com/obulygin/pyda_homeworks/master/statistics_basics/horse_data.names) и выбрать 8 столбцов для дальнейшего изучения (среди них должны быть как числовые, так и категориальные). Провести расчет базовых метрик для них, кратко описать результаты.\n",
    "\n",
    "### Задание 2. Работа с выбросами\n",
    "Проанализировать значения по столбцам, рассчитать базовые статистики, найти выбросы.\n",
    "\n",
    "### Задание 3. Работа с пропусками\n",
    "Рассчитать количество пропусков для всех выбранных столбцов. Принять и обосновать решение о методе заполнения пропусков по каждому столбцу на основе рассчитанных статистик и возможной взаимосвязи значений в них. Сформировать датафрейм, в котором пропуски будут отсутствовать."
   ],
   "metadata": {
    "collapsed": false
   }
  },
  {
   "cell_type": "code",
   "execution_count": 28,
   "outputs": [],
   "source": [
    "import pandas as pd\n",
    "import numpy as np"
   ],
   "metadata": {
    "collapsed": false,
    "pycharm": {
     "name": "#%%\n"
    }
   }
  },
  {
   "cell_type": "code",
   "execution_count": null,
   "metadata": {
    "collapsed": true,
    "pycharm": {
     "is_executing": true
    }
   },
   "outputs": [],
   "source": [
    "# добавим наименование столбцов согласно описанию\n",
    "with open('./data/horse_data.csv', 'r') as original:\n",
    "    f = original.read()\n",
    "with open('./data/horse_data_modified.csv', 'w') as withcolums:\n",
    "    withcolums.write('surgery?,Age,Hospital Number,rectal temperature,pulse,respiratory rate,temperature of extremities,peripheral pulse,mucous membranes,capillary refill time,pain,peristalsis,abdominal distension,nasogastric tube,nasogastric reflux,nasogastric reflux PH,rectal examination - feces,abdomen,packed cell volume,total protein,abdominocentesis appearance,abdomcentesis total protein,outcome,surgical lesion?,number is site of lesion,number is type,number is subtype,cp_data\\n' + f)\n",
    "    print('add columns names done')"
   ]
  },
  {
   "cell_type": "code",
   "execution_count": 179,
   "outputs": [
    {
     "data": {
      "text/plain": "    surgery?  Age  Hospital Number rectal temperature pulse respiratory rate  \\\n0          2    1           530101              38.50    66               28   \n1          1    1           534817               39.2    88               20   \n2          2    1           530334              38.30    40               24   \n3          1    9          5290409              39.10   164               84   \n4          2    1           530255              37.30   104               35   \n..       ...  ...              ...                ...   ...              ...   \n295        1    1           533886                  ?   120               70   \n296        2    1           527702              37.20    72               24   \n297        1    1           529386              37.50    72               30   \n298        1    1           530612              36.50   100               24   \n299        1    1           534618               37.2    40               20   \n\n    temperature of extremities peripheral pulse mucous membranes  \\\n0                            3                3                ?   \n1                            ?                ?                4   \n2                            1                1                3   \n3                            4                1                6   \n4                            ?                ?                6   \n..                         ...              ...              ...   \n295                          4                ?                4   \n296                          3                2                4   \n297                          4                3                4   \n298                          3                3                3   \n299                          ?                ?                ?   \n\n    capillary refill time  ... packed cell volume total protein  \\\n0                       2  ...              45.00          8.40   \n1                       1  ...                 50            85   \n2                       1  ...              33.00          6.70   \n3                       2  ...              48.00          7.20   \n4                       2  ...              74.00          7.40   \n..                    ...  ...                ...           ...   \n295                     2  ...                 55            65   \n296                     2  ...              44.00             ?   \n297                     1  ...              60.00          6.80   \n298                     1  ...              50.00          6.00   \n299                     ?  ...                 36            62   \n\n    abdominocentesis appearance abdomcentesis total protein outcome  \\\n0                             ?                           ?       2   \n1                             2                           2       3   \n2                             ?                           ?       1   \n3                             3                        5.30       2   \n4                             ?                           ?       2   \n..                          ...                         ...     ...   \n295                           ?                           ?       3   \n296                           3                        3.30       3   \n297                           ?                           ?       2   \n298                           3                        3.40       1   \n299                           1                           1       3   \n\n    surgical lesion? number is site of lesion number is type  \\\n0                  2                    11300              0   \n1                  2                     2208              0   \n2                  2                        0              0   \n3                  1                     2208              0   \n4                  2                     4300              0   \n..               ...                      ...            ...   \n295                2                     3205              0   \n296                1                     2208              0   \n297                1                     3205              0   \n298                1                     2208              0   \n299                2                     6112              0   \n\n    number is subtype cp_data  \n0                   0       2  \n1                   0       2  \n2                   0       1  \n3                   0       1  \n4                   0       2  \n..                ...     ...  \n295                 0       2  \n296                 0       1  \n297                 0       2  \n298                 0       1  \n299                 0       2  \n\n[300 rows x 28 columns]",
      "text/html": "<div>\n<style scoped>\n    .dataframe tbody tr th:only-of-type {\n        vertical-align: middle;\n    }\n\n    .dataframe tbody tr th {\n        vertical-align: top;\n    }\n\n    .dataframe thead th {\n        text-align: right;\n    }\n</style>\n<table border=\"1\" class=\"dataframe\">\n  <thead>\n    <tr style=\"text-align: right;\">\n      <th></th>\n      <th>surgery?</th>\n      <th>Age</th>\n      <th>Hospital Number</th>\n      <th>rectal temperature</th>\n      <th>pulse</th>\n      <th>respiratory rate</th>\n      <th>temperature of extremities</th>\n      <th>peripheral pulse</th>\n      <th>mucous membranes</th>\n      <th>capillary refill time</th>\n      <th>...</th>\n      <th>packed cell volume</th>\n      <th>total protein</th>\n      <th>abdominocentesis appearance</th>\n      <th>abdomcentesis total protein</th>\n      <th>outcome</th>\n      <th>surgical lesion?</th>\n      <th>number is site of lesion</th>\n      <th>number is type</th>\n      <th>number is subtype</th>\n      <th>cp_data</th>\n    </tr>\n  </thead>\n  <tbody>\n    <tr>\n      <th>0</th>\n      <td>2</td>\n      <td>1</td>\n      <td>530101</td>\n      <td>38.50</td>\n      <td>66</td>\n      <td>28</td>\n      <td>3</td>\n      <td>3</td>\n      <td>?</td>\n      <td>2</td>\n      <td>...</td>\n      <td>45.00</td>\n      <td>8.40</td>\n      <td>?</td>\n      <td>?</td>\n      <td>2</td>\n      <td>2</td>\n      <td>11300</td>\n      <td>0</td>\n      <td>0</td>\n      <td>2</td>\n    </tr>\n    <tr>\n      <th>1</th>\n      <td>1</td>\n      <td>1</td>\n      <td>534817</td>\n      <td>39.2</td>\n      <td>88</td>\n      <td>20</td>\n      <td>?</td>\n      <td>?</td>\n      <td>4</td>\n      <td>1</td>\n      <td>...</td>\n      <td>50</td>\n      <td>85</td>\n      <td>2</td>\n      <td>2</td>\n      <td>3</td>\n      <td>2</td>\n      <td>2208</td>\n      <td>0</td>\n      <td>0</td>\n      <td>2</td>\n    </tr>\n    <tr>\n      <th>2</th>\n      <td>2</td>\n      <td>1</td>\n      <td>530334</td>\n      <td>38.30</td>\n      <td>40</td>\n      <td>24</td>\n      <td>1</td>\n      <td>1</td>\n      <td>3</td>\n      <td>1</td>\n      <td>...</td>\n      <td>33.00</td>\n      <td>6.70</td>\n      <td>?</td>\n      <td>?</td>\n      <td>1</td>\n      <td>2</td>\n      <td>0</td>\n      <td>0</td>\n      <td>0</td>\n      <td>1</td>\n    </tr>\n    <tr>\n      <th>3</th>\n      <td>1</td>\n      <td>9</td>\n      <td>5290409</td>\n      <td>39.10</td>\n      <td>164</td>\n      <td>84</td>\n      <td>4</td>\n      <td>1</td>\n      <td>6</td>\n      <td>2</td>\n      <td>...</td>\n      <td>48.00</td>\n      <td>7.20</td>\n      <td>3</td>\n      <td>5.30</td>\n      <td>2</td>\n      <td>1</td>\n      <td>2208</td>\n      <td>0</td>\n      <td>0</td>\n      <td>1</td>\n    </tr>\n    <tr>\n      <th>4</th>\n      <td>2</td>\n      <td>1</td>\n      <td>530255</td>\n      <td>37.30</td>\n      <td>104</td>\n      <td>35</td>\n      <td>?</td>\n      <td>?</td>\n      <td>6</td>\n      <td>2</td>\n      <td>...</td>\n      <td>74.00</td>\n      <td>7.40</td>\n      <td>?</td>\n      <td>?</td>\n      <td>2</td>\n      <td>2</td>\n      <td>4300</td>\n      <td>0</td>\n      <td>0</td>\n      <td>2</td>\n    </tr>\n    <tr>\n      <th>...</th>\n      <td>...</td>\n      <td>...</td>\n      <td>...</td>\n      <td>...</td>\n      <td>...</td>\n      <td>...</td>\n      <td>...</td>\n      <td>...</td>\n      <td>...</td>\n      <td>...</td>\n      <td>...</td>\n      <td>...</td>\n      <td>...</td>\n      <td>...</td>\n      <td>...</td>\n      <td>...</td>\n      <td>...</td>\n      <td>...</td>\n      <td>...</td>\n      <td>...</td>\n      <td>...</td>\n    </tr>\n    <tr>\n      <th>295</th>\n      <td>1</td>\n      <td>1</td>\n      <td>533886</td>\n      <td>?</td>\n      <td>120</td>\n      <td>70</td>\n      <td>4</td>\n      <td>?</td>\n      <td>4</td>\n      <td>2</td>\n      <td>...</td>\n      <td>55</td>\n      <td>65</td>\n      <td>?</td>\n      <td>?</td>\n      <td>3</td>\n      <td>2</td>\n      <td>3205</td>\n      <td>0</td>\n      <td>0</td>\n      <td>2</td>\n    </tr>\n    <tr>\n      <th>296</th>\n      <td>2</td>\n      <td>1</td>\n      <td>527702</td>\n      <td>37.20</td>\n      <td>72</td>\n      <td>24</td>\n      <td>3</td>\n      <td>2</td>\n      <td>4</td>\n      <td>2</td>\n      <td>...</td>\n      <td>44.00</td>\n      <td>?</td>\n      <td>3</td>\n      <td>3.30</td>\n      <td>3</td>\n      <td>1</td>\n      <td>2208</td>\n      <td>0</td>\n      <td>0</td>\n      <td>1</td>\n    </tr>\n    <tr>\n      <th>297</th>\n      <td>1</td>\n      <td>1</td>\n      <td>529386</td>\n      <td>37.50</td>\n      <td>72</td>\n      <td>30</td>\n      <td>4</td>\n      <td>3</td>\n      <td>4</td>\n      <td>1</td>\n      <td>...</td>\n      <td>60.00</td>\n      <td>6.80</td>\n      <td>?</td>\n      <td>?</td>\n      <td>2</td>\n      <td>1</td>\n      <td>3205</td>\n      <td>0</td>\n      <td>0</td>\n      <td>2</td>\n    </tr>\n    <tr>\n      <th>298</th>\n      <td>1</td>\n      <td>1</td>\n      <td>530612</td>\n      <td>36.50</td>\n      <td>100</td>\n      <td>24</td>\n      <td>3</td>\n      <td>3</td>\n      <td>3</td>\n      <td>1</td>\n      <td>...</td>\n      <td>50.00</td>\n      <td>6.00</td>\n      <td>3</td>\n      <td>3.40</td>\n      <td>1</td>\n      <td>1</td>\n      <td>2208</td>\n      <td>0</td>\n      <td>0</td>\n      <td>1</td>\n    </tr>\n    <tr>\n      <th>299</th>\n      <td>1</td>\n      <td>1</td>\n      <td>534618</td>\n      <td>37.2</td>\n      <td>40</td>\n      <td>20</td>\n      <td>?</td>\n      <td>?</td>\n      <td>?</td>\n      <td>?</td>\n      <td>...</td>\n      <td>36</td>\n      <td>62</td>\n      <td>1</td>\n      <td>1</td>\n      <td>3</td>\n      <td>2</td>\n      <td>6112</td>\n      <td>0</td>\n      <td>0</td>\n      <td>2</td>\n    </tr>\n  </tbody>\n</table>\n<p>300 rows × 28 columns</p>\n</div>"
     },
     "execution_count": 179,
     "metadata": {},
     "output_type": "execute_result"
    }
   ],
   "source": [
    "horses_df = pd.read_csv('./data/horse_data_modified.csv')\n",
    "horses_df"
   ],
   "metadata": {
    "collapsed": false,
    "pycharm": {
     "name": "#%%\n"
    }
   }
  },
  {
   "cell_type": "code",
   "execution_count": 114,
   "outputs": [
    {
     "name": "stdout",
     "output_type": "stream",
     "text": [
      "<class 'pandas.core.frame.DataFrame'>\n",
      "RangeIndex: 300 entries, 0 to 299\n",
      "Data columns (total 8 columns):\n",
      " #   Column                      Non-Null Count  Dtype  \n",
      "---  ------                      --------------  -----  \n",
      " 0   surgery?                    299 non-null    Int32  \n",
      " 1   Age                         300 non-null    int64  \n",
      " 2   rectal temperature          240 non-null    float64\n",
      " 3   pulse                       276 non-null    Int32  \n",
      " 4   respiratory rate            242 non-null    Int32  \n",
      " 5   temperature of extremities  244 non-null    Int32  \n",
      " 6   pain                        245 non-null    Int32  \n",
      " 7   outcome                     299 non-null    Int32  \n",
      "dtypes: Int32(6), float64(1), int64(1)\n",
      "memory usage: 13.6 KB\n"
     ]
    }
   ],
   "source": [
    "# меняем типы данных\n",
    "horses_df['rectal temperature'] = pd.to_numeric(horses_df['rectal temperature'], errors='coerce')\n",
    "horses_df['pulse'] = pd.to_numeric(horses_df['pulse'], errors='coerce')\n",
    "horses_df['respiratory rate'] = pd.to_numeric(horses_df['respiratory rate'], errors='coerce')\n",
    "horses_df['temperature of extremities'] = pd.to_numeric(horses_df['temperature of extremities'], errors='coerce')\n",
    "horses_df['pain'] = pd.to_numeric(horses_df['pain'], errors='coerce')\n",
    "horses_df['outcome'] = pd.to_numeric(horses_df['outcome'], errors='coerce')\n",
    "horses_df['pulse'] = horses_df['pulse'].astype(\"Int32\")\n",
    "horses_df['respiratory rate'] = horses_df['respiratory rate'].astype(\"Int32\")\n",
    "horses_df['temperature of extremities'] = horses_df['temperature of extremities'].astype(\"Int32\")\n",
    "horses_df['pain'] = horses_df['pain'].astype(\"Int32\")\n",
    "horses_df['outcome'] = horses_df['outcome'].astype(\"Int32\")\n",
    "# точно определяем пустые значения в дата-сете\n",
    "horses_df.replace('?', np.nan, inplace=True)\n",
    "# забираем нужные столбцы для анализа\n",
    "df = horses_df[['surgery?','Age', 'rectal temperature', 'pulse', 'respiratory rate', 'temperature of extremities', 'pain', 'outcome']]\n",
    "df.info()\n"
   ],
   "metadata": {
    "collapsed": false,
    "pycharm": {
     "name": "#%%\n"
    }
   }
  },
  {
   "cell_type": "code",
   "execution_count": 210,
   "outputs": [
    {
     "data": {
      "text/plain": "     surgery?  Age  rectal temperature  pulse  respiratory rate  \\\n0           2    1                38.5     66                28   \n1           1    1                39.2     88                20   \n2           2    1                38.3     40                24   \n3           1    2                39.1    164                84   \n4           2    1                37.3    104                35   \n..        ...  ...                 ...    ...               ...   \n295         1    1                 NaN    120                70   \n296         2    1                37.2     72                24   \n297         1    1                37.5     72                30   \n298         1    1                36.5    100                24   \n299         1    1                37.2     40                20   \n\n     temperature of extremities  pain  outcome  \n0                             3     5        2  \n1                          <NA>     3        3  \n2                             1     3        1  \n3                             4     2        2  \n4                          <NA>  <NA>        2  \n..                          ...   ...      ...  \n295                           4     2        3  \n296                           3     4        3  \n297                           4     4        2  \n298                           3     3        1  \n299                        <NA>  <NA>        3  \n\n[300 rows x 8 columns]",
      "text/html": "<div>\n<style scoped>\n    .dataframe tbody tr th:only-of-type {\n        vertical-align: middle;\n    }\n\n    .dataframe tbody tr th {\n        vertical-align: top;\n    }\n\n    .dataframe thead th {\n        text-align: right;\n    }\n</style>\n<table border=\"1\" class=\"dataframe\">\n  <thead>\n    <tr style=\"text-align: right;\">\n      <th></th>\n      <th>surgery?</th>\n      <th>Age</th>\n      <th>rectal temperature</th>\n      <th>pulse</th>\n      <th>respiratory rate</th>\n      <th>temperature of extremities</th>\n      <th>pain</th>\n      <th>outcome</th>\n    </tr>\n  </thead>\n  <tbody>\n    <tr>\n      <th>0</th>\n      <td>2</td>\n      <td>1</td>\n      <td>38.5</td>\n      <td>66</td>\n      <td>28</td>\n      <td>3</td>\n      <td>5</td>\n      <td>2</td>\n    </tr>\n    <tr>\n      <th>1</th>\n      <td>1</td>\n      <td>1</td>\n      <td>39.2</td>\n      <td>88</td>\n      <td>20</td>\n      <td>&lt;NA&gt;</td>\n      <td>3</td>\n      <td>3</td>\n    </tr>\n    <tr>\n      <th>2</th>\n      <td>2</td>\n      <td>1</td>\n      <td>38.3</td>\n      <td>40</td>\n      <td>24</td>\n      <td>1</td>\n      <td>3</td>\n      <td>1</td>\n    </tr>\n    <tr>\n      <th>3</th>\n      <td>1</td>\n      <td>2</td>\n      <td>39.1</td>\n      <td>164</td>\n      <td>84</td>\n      <td>4</td>\n      <td>2</td>\n      <td>2</td>\n    </tr>\n    <tr>\n      <th>4</th>\n      <td>2</td>\n      <td>1</td>\n      <td>37.3</td>\n      <td>104</td>\n      <td>35</td>\n      <td>&lt;NA&gt;</td>\n      <td>&lt;NA&gt;</td>\n      <td>2</td>\n    </tr>\n    <tr>\n      <th>...</th>\n      <td>...</td>\n      <td>...</td>\n      <td>...</td>\n      <td>...</td>\n      <td>...</td>\n      <td>...</td>\n      <td>...</td>\n      <td>...</td>\n    </tr>\n    <tr>\n      <th>295</th>\n      <td>1</td>\n      <td>1</td>\n      <td>NaN</td>\n      <td>120</td>\n      <td>70</td>\n      <td>4</td>\n      <td>2</td>\n      <td>3</td>\n    </tr>\n    <tr>\n      <th>296</th>\n      <td>2</td>\n      <td>1</td>\n      <td>37.2</td>\n      <td>72</td>\n      <td>24</td>\n      <td>3</td>\n      <td>4</td>\n      <td>3</td>\n    </tr>\n    <tr>\n      <th>297</th>\n      <td>1</td>\n      <td>1</td>\n      <td>37.5</td>\n      <td>72</td>\n      <td>30</td>\n      <td>4</td>\n      <td>4</td>\n      <td>2</td>\n    </tr>\n    <tr>\n      <th>298</th>\n      <td>1</td>\n      <td>1</td>\n      <td>36.5</td>\n      <td>100</td>\n      <td>24</td>\n      <td>3</td>\n      <td>3</td>\n      <td>1</td>\n    </tr>\n    <tr>\n      <th>299</th>\n      <td>1</td>\n      <td>1</td>\n      <td>37.2</td>\n      <td>40</td>\n      <td>20</td>\n      <td>&lt;NA&gt;</td>\n      <td>&lt;NA&gt;</td>\n      <td>3</td>\n    </tr>\n  </tbody>\n</table>\n<p>300 rows × 8 columns</p>\n</div>"
     },
     "execution_count": 210,
     "metadata": {},
     "output_type": "execute_result"
    }
   ],
   "source": [
    "# определенно в Age ошибка со значением 9 т.к. в описании есть категории 1 и 2\n",
    "df['Age'] = df['Age'].replace(9, 2)\n",
    "df"
   ],
   "metadata": {
    "collapsed": false,
    "pycharm": {
     "name": "#%%\n"
    }
   }
  },
  {
   "cell_type": "markdown",
   "source": [
    "# Задание 1\n",
    "## Анализ колонок дата-сета\n",
    "### Категории\n",
    "surgery?\n",
    "Age\n",
    "temperature of extremities\n",
    "pain\n",
    "outcome\n",
    "\n",
    "\n",
    "### Числовые\n",
    "rectal temperature\n",
    "pulse\n",
    "respiratory rate\n"
   ],
   "metadata": {
    "collapsed": false
   }
  },
  {
   "cell_type": "code",
   "execution_count": 128,
   "outputs": [
    {
     "data": {
      "text/plain": "         surgery?         Age  rectal temperature       pulse  \\\ncount  299.000000  300.000000          240.000000  276.000000   \nmean     1.397993    1.080000           38.167917   71.913043   \nstd      0.490305    0.271746            0.732289   28.630557   \nmin      1.000000    1.000000           35.400000   30.000000   \n25%      1.000000    1.000000           37.800000   48.000000   \n50%      1.000000    1.000000           38.200000   64.000000   \n75%      2.000000    1.000000           38.500000   88.000000   \nmax      2.000000    2.000000           40.800000  184.000000   \n\n       respiratory rate  temperature of extremities       pain     outcome  \ncount        242.000000                  244.000000  245.00000  299.000000  \nmean          30.417355                    2.348361    2.95102    1.551839  \nstd           17.642231                    1.045054    1.30794    0.737187  \nmin            8.000000                    1.000000    1.00000    1.000000  \n25%           18.500000                    1.000000    2.00000    1.000000  \n50%           24.500000                    3.000000    3.00000    1.000000  \n75%           36.000000                    3.000000    4.00000    2.000000  \nmax           96.000000                    4.000000    5.00000    3.000000  ",
      "text/html": "<div>\n<style scoped>\n    .dataframe tbody tr th:only-of-type {\n        vertical-align: middle;\n    }\n\n    .dataframe tbody tr th {\n        vertical-align: top;\n    }\n\n    .dataframe thead th {\n        text-align: right;\n    }\n</style>\n<table border=\"1\" class=\"dataframe\">\n  <thead>\n    <tr style=\"text-align: right;\">\n      <th></th>\n      <th>surgery?</th>\n      <th>Age</th>\n      <th>rectal temperature</th>\n      <th>pulse</th>\n      <th>respiratory rate</th>\n      <th>temperature of extremities</th>\n      <th>pain</th>\n      <th>outcome</th>\n    </tr>\n  </thead>\n  <tbody>\n    <tr>\n      <th>count</th>\n      <td>299.000000</td>\n      <td>300.000000</td>\n      <td>240.000000</td>\n      <td>276.000000</td>\n      <td>242.000000</td>\n      <td>244.000000</td>\n      <td>245.00000</td>\n      <td>299.000000</td>\n    </tr>\n    <tr>\n      <th>mean</th>\n      <td>1.397993</td>\n      <td>1.080000</td>\n      <td>38.167917</td>\n      <td>71.913043</td>\n      <td>30.417355</td>\n      <td>2.348361</td>\n      <td>2.95102</td>\n      <td>1.551839</td>\n    </tr>\n    <tr>\n      <th>std</th>\n      <td>0.490305</td>\n      <td>0.271746</td>\n      <td>0.732289</td>\n      <td>28.630557</td>\n      <td>17.642231</td>\n      <td>1.045054</td>\n      <td>1.30794</td>\n      <td>0.737187</td>\n    </tr>\n    <tr>\n      <th>min</th>\n      <td>1.000000</td>\n      <td>1.000000</td>\n      <td>35.400000</td>\n      <td>30.000000</td>\n      <td>8.000000</td>\n      <td>1.000000</td>\n      <td>1.00000</td>\n      <td>1.000000</td>\n    </tr>\n    <tr>\n      <th>25%</th>\n      <td>1.000000</td>\n      <td>1.000000</td>\n      <td>37.800000</td>\n      <td>48.000000</td>\n      <td>18.500000</td>\n      <td>1.000000</td>\n      <td>2.00000</td>\n      <td>1.000000</td>\n    </tr>\n    <tr>\n      <th>50%</th>\n      <td>1.000000</td>\n      <td>1.000000</td>\n      <td>38.200000</td>\n      <td>64.000000</td>\n      <td>24.500000</td>\n      <td>3.000000</td>\n      <td>3.00000</td>\n      <td>1.000000</td>\n    </tr>\n    <tr>\n      <th>75%</th>\n      <td>2.000000</td>\n      <td>1.000000</td>\n      <td>38.500000</td>\n      <td>88.000000</td>\n      <td>36.000000</td>\n      <td>3.000000</td>\n      <td>4.00000</td>\n      <td>2.000000</td>\n    </tr>\n    <tr>\n      <th>max</th>\n      <td>2.000000</td>\n      <td>2.000000</td>\n      <td>40.800000</td>\n      <td>184.000000</td>\n      <td>96.000000</td>\n      <td>4.000000</td>\n      <td>5.00000</td>\n      <td>3.000000</td>\n    </tr>\n  </tbody>\n</table>\n</div>"
     },
     "execution_count": 128,
     "metadata": {},
     "output_type": "execute_result"
    }
   ],
   "source": [
    "# Сводная по параметрам\n",
    "df.describe()\n",
    "# в таком виде по категориальным типам данные бессмысленны, далее посчитаем отдельно"
   ],
   "metadata": {
    "collapsed": false,
    "pycharm": {
     "name": "#%%\n"
    }
   }
  },
  {
   "cell_type": "markdown",
   "source": [
    "# Задание 2\n",
    "С категориями можно работать в рамках группировки дата-сета, по числовым можно проводить аналитику после обработки данных\n",
    "\n",
    "Посчитаем основные метрики и выбросы для числовых столбцов"
   ],
   "metadata": {
    "collapsed": false
   }
  },
  {
   "cell_type": "code",
   "execution_count": 204,
   "outputs": [
    {
     "data": {
      "text/plain": "Age  surgery?\n1    1           162\n     2           113\n2    1            18\n     2             6\nName: surgery?, dtype: int64"
     },
     "execution_count": 204,
     "metadata": {},
     "output_type": "execute_result"
    }
   ],
   "source": [
    "# Например, посмотреть зависимость возраста лошади и необходимости проведения операций\n",
    "df.groupby('Age')['surgery?'].value_counts()"
   ],
   "metadata": {
    "collapsed": false,
    "pycharm": {
     "name": "#%%\n"
    }
   }
  },
  {
   "cell_type": "code",
   "execution_count": 156,
   "outputs": [],
   "source": [
    "def calc_params(column):\n",
    "    q1 = column.quantile(0.25)\n",
    "    q3 = column.quantile(0.75)\n",
    "    iqr = q3 - q1\n",
    "    return {\n",
    "        'mean': column.mean(),\n",
    "        'moda': column.mode()[0],\n",
    "        \"median\": column.median(),\n",
    "        \"disp\": column.var(),\n",
    "        'min': column.min(),\n",
    "        'max': column.max(),\n",
    "        'std': column.std(),\n",
    "        'q1': q1,\n",
    "        'q3': q3,\n",
    "        'IQR': iqr,\n",
    "        'lower outlier': q1 - (1.5*iqr),\n",
    "        'higher outlier': q3 + (1.5*iqr)\n",
    "    }"
   ],
   "metadata": {
    "collapsed": false,
    "pycharm": {
     "name": "#%%\n"
    }
   }
  },
  {
   "cell_type": "code",
   "execution_count": 168,
   "outputs": [
    {
     "name": "stdout",
     "output_type": "stream",
     "text": [
      "rectal temperature:\n",
      "    mean: 38.16791666666667 \n",
      "    moda: 38.0 \n",
      "    median: 38.2 \n",
      "    disp: 0.5362466875871686 \n",
      "    min: 35.4 \n",
      "    max: 40.8 \n",
      "    std: 0.7322886641121578 \n",
      "    q1: 37.8 \n",
      "    q3: 38.5 \n",
      "    IQR: 0.7000000000000028 \n",
      "    lower outlier: 36.74999999999999 \n",
      "    higher outlier: 39.550000000000004 \n",
      "pulse:\n",
      "    mean: 71.91304347826087 \n",
      "    moda: 48 \n",
      "    median: 64.0 \n",
      "    disp: 819.7087747035573 \n",
      "    min: 30 \n",
      "    max: 184 \n",
      "    std: 28.630556660735 \n",
      "    q1: 48 \n",
      "    q3: 88 \n",
      "    IQR: 40 \n",
      "    lower outlier: -12.0 \n",
      "    higher outlier: 148.0 \n",
      "respiratory rate:\n",
      "    mean: 30.417355371900825 \n",
      "    moda: 20 \n",
      "    median: 24.5 \n",
      "    disp: 311.2483282466308 \n",
      "    min: 8 \n",
      "    max: 96 \n",
      "    std: 17.64223138513467 \n",
      "    q1: 18.5 \n",
      "    q3: 36 \n",
      "    IQR: 17.5 \n",
      "    lower outlier: -7.75 \n",
      "    higher outlier: 62.25 \n"
     ]
    }
   ],
   "source": [
    "# rectal temperature\n",
    "columns = df[['rectal temperature', 'pulse', 'respiratory rate']]\n",
    "for col in columns:\n",
    "    res = calc_params(df[col])\n",
    "    print(f'{col}:')\n",
    "    for key, val in res.items():\n",
    "        print(f'    {key}: {val} ')"
   ],
   "metadata": {
    "collapsed": false,
    "pycharm": {
     "name": "#%%\n"
    }
   }
  },
  {
   "cell_type": "code",
   "execution_count": 212,
   "outputs": [
    {
     "name": "stdout",
     "output_type": "stream",
     "text": [
      "{'mean': 38.16791666666667, 'moda': 38.0, 'median': 38.2, 'disp': 0.5362466875871686, 'min': 35.4, 'max': 40.8, 'std': 0.7322886641121578, 'q1': 37.8, 'q3': 38.5, 'IQR': 0.7000000000000028, 'lower outlier': 36.74999999999999, 'higher outlier': 39.550000000000004}\n"
     ]
    },
    {
     "data": {
      "text/plain": "     surgery?  Age  rectal temperature  pulse  respiratory rate  \\\n20          1    1                39.9     72                60   \n44          1    1                35.4    140                24   \n54          2    1                40.3    114                36   \n75          1    2                39.7    100              <NA>   \n80          1    1                36.4     98                35   \n91          2    1                40.3    114                36   \n99          2    1                39.6    108                51   \n118         1    1                36.5     78                30   \n141         2    1                36.0     42                30   \n238         2    1                36.1     88              <NA>   \n251         2    1                36.6     42                18   \n259         1    1                40.8     72                42   \n281         2    1                40.0     78              <NA>   \n298         1    1                36.5    100                24   \n\n     temperature of extremities  pain  outcome  \n20                            1     5        1  \n44                            3     4        3  \n54                            3     2        3  \n75                            3     2        3  \n80                            3     4        2  \n91                            3     2        2  \n99                            3     2        1  \n118                           1     5        1  \n141                        <NA>  <NA>        2  \n238                           3     3        3  \n251                           3     1        2  \n259                           3     2        2  \n281                           3     2        2  \n298                           3     3        1  ",
      "text/html": "<div>\n<style scoped>\n    .dataframe tbody tr th:only-of-type {\n        vertical-align: middle;\n    }\n\n    .dataframe tbody tr th {\n        vertical-align: top;\n    }\n\n    .dataframe thead th {\n        text-align: right;\n    }\n</style>\n<table border=\"1\" class=\"dataframe\">\n  <thead>\n    <tr style=\"text-align: right;\">\n      <th></th>\n      <th>surgery?</th>\n      <th>Age</th>\n      <th>rectal temperature</th>\n      <th>pulse</th>\n      <th>respiratory rate</th>\n      <th>temperature of extremities</th>\n      <th>pain</th>\n      <th>outcome</th>\n    </tr>\n  </thead>\n  <tbody>\n    <tr>\n      <th>20</th>\n      <td>1</td>\n      <td>1</td>\n      <td>39.9</td>\n      <td>72</td>\n      <td>60</td>\n      <td>1</td>\n      <td>5</td>\n      <td>1</td>\n    </tr>\n    <tr>\n      <th>44</th>\n      <td>1</td>\n      <td>1</td>\n      <td>35.4</td>\n      <td>140</td>\n      <td>24</td>\n      <td>3</td>\n      <td>4</td>\n      <td>3</td>\n    </tr>\n    <tr>\n      <th>54</th>\n      <td>2</td>\n      <td>1</td>\n      <td>40.3</td>\n      <td>114</td>\n      <td>36</td>\n      <td>3</td>\n      <td>2</td>\n      <td>3</td>\n    </tr>\n    <tr>\n      <th>75</th>\n      <td>1</td>\n      <td>2</td>\n      <td>39.7</td>\n      <td>100</td>\n      <td>&lt;NA&gt;</td>\n      <td>3</td>\n      <td>2</td>\n      <td>3</td>\n    </tr>\n    <tr>\n      <th>80</th>\n      <td>1</td>\n      <td>1</td>\n      <td>36.4</td>\n      <td>98</td>\n      <td>35</td>\n      <td>3</td>\n      <td>4</td>\n      <td>2</td>\n    </tr>\n    <tr>\n      <th>91</th>\n      <td>2</td>\n      <td>1</td>\n      <td>40.3</td>\n      <td>114</td>\n      <td>36</td>\n      <td>3</td>\n      <td>2</td>\n      <td>2</td>\n    </tr>\n    <tr>\n      <th>99</th>\n      <td>2</td>\n      <td>1</td>\n      <td>39.6</td>\n      <td>108</td>\n      <td>51</td>\n      <td>3</td>\n      <td>2</td>\n      <td>1</td>\n    </tr>\n    <tr>\n      <th>118</th>\n      <td>1</td>\n      <td>1</td>\n      <td>36.5</td>\n      <td>78</td>\n      <td>30</td>\n      <td>1</td>\n      <td>5</td>\n      <td>1</td>\n    </tr>\n    <tr>\n      <th>141</th>\n      <td>2</td>\n      <td>1</td>\n      <td>36.0</td>\n      <td>42</td>\n      <td>30</td>\n      <td>&lt;NA&gt;</td>\n      <td>&lt;NA&gt;</td>\n      <td>2</td>\n    </tr>\n    <tr>\n      <th>238</th>\n      <td>2</td>\n      <td>1</td>\n      <td>36.1</td>\n      <td>88</td>\n      <td>&lt;NA&gt;</td>\n      <td>3</td>\n      <td>3</td>\n      <td>3</td>\n    </tr>\n    <tr>\n      <th>251</th>\n      <td>2</td>\n      <td>1</td>\n      <td>36.6</td>\n      <td>42</td>\n      <td>18</td>\n      <td>3</td>\n      <td>1</td>\n      <td>2</td>\n    </tr>\n    <tr>\n      <th>259</th>\n      <td>1</td>\n      <td>1</td>\n      <td>40.8</td>\n      <td>72</td>\n      <td>42</td>\n      <td>3</td>\n      <td>2</td>\n      <td>2</td>\n    </tr>\n    <tr>\n      <th>281</th>\n      <td>2</td>\n      <td>1</td>\n      <td>40.0</td>\n      <td>78</td>\n      <td>&lt;NA&gt;</td>\n      <td>3</td>\n      <td>2</td>\n      <td>2</td>\n    </tr>\n    <tr>\n      <th>298</th>\n      <td>1</td>\n      <td>1</td>\n      <td>36.5</td>\n      <td>100</td>\n      <td>24</td>\n      <td>3</td>\n      <td>3</td>\n      <td>1</td>\n    </tr>\n  </tbody>\n</table>\n</div>"
     },
     "execution_count": 212,
     "metadata": {},
     "output_type": "execute_result"
    }
   ],
   "source": [
    "# отдельно по колонкам\n",
    "\n",
    "# rectal temperature\n",
    "\n",
    "rt = calc_params(df['rectal temperature'])\n",
    "print(rt)\n",
    "# какие значения попали в выбросы\n",
    "df[~(df['rectal temperature'].between(rt['lower outlier'], rt['higher outlier'])) & (~df['rectal temperature'].isnull())]"
   ],
   "metadata": {
    "collapsed": false,
    "pycharm": {
     "name": "#%%\n"
    }
   }
  },
  {
   "cell_type": "markdown",
   "source": [
    "***rectal temperature***\n",
    "\n",
    "14 значений выброса.\n",
    "Работать с этими данными можно, т.к. температура вполне может превышать норму, а значения не являются аномально высокими или низкими, что исключает вариант неверных данных, а скорее всего является причиной заболевания."
   ],
   "metadata": {
    "collapsed": false
   }
  },
  {
   "cell_type": "code",
   "execution_count": 182,
   "outputs": [
    {
     "name": "stdout",
     "output_type": "stream",
     "text": [
      "{'mean': 71.91304347826087, 'moda': 48, 'median': 64.0, 'disp': 819.7087747035573, 'min': 30, 'max': 184, 'std': 28.630556660735, 'q1': 48, 'q3': 88, 'IQR': 40, 'lower outlier': -12.0, 'higher outlier': 148.0}\n"
     ]
    },
    {
     "data": {
      "text/plain": "     surgery?  Age  rectal temperature  pulse  respiratory rate  \\\n3           1    2                39.1    164                84   \n41          2    2                39.0    150                72   \n55          1    2                38.6    160                20   \n255         1    2                38.8    184                84   \n275         1    2                38.8    150                50   \n\n     temperature of extremities  pain  outcome  \n3                             4     2        2  \n41                         <NA>  <NA>        1  \n55                            3     3        2  \n255                           1     4        2  \n275                           1     5        2  ",
      "text/html": "<div>\n<style scoped>\n    .dataframe tbody tr th:only-of-type {\n        vertical-align: middle;\n    }\n\n    .dataframe tbody tr th {\n        vertical-align: top;\n    }\n\n    .dataframe thead th {\n        text-align: right;\n    }\n</style>\n<table border=\"1\" class=\"dataframe\">\n  <thead>\n    <tr style=\"text-align: right;\">\n      <th></th>\n      <th>surgery?</th>\n      <th>Age</th>\n      <th>rectal temperature</th>\n      <th>pulse</th>\n      <th>respiratory rate</th>\n      <th>temperature of extremities</th>\n      <th>pain</th>\n      <th>outcome</th>\n    </tr>\n  </thead>\n  <tbody>\n    <tr>\n      <th>3</th>\n      <td>1</td>\n      <td>2</td>\n      <td>39.1</td>\n      <td>164</td>\n      <td>84</td>\n      <td>4</td>\n      <td>2</td>\n      <td>2</td>\n    </tr>\n    <tr>\n      <th>41</th>\n      <td>2</td>\n      <td>2</td>\n      <td>39.0</td>\n      <td>150</td>\n      <td>72</td>\n      <td>&lt;NA&gt;</td>\n      <td>&lt;NA&gt;</td>\n      <td>1</td>\n    </tr>\n    <tr>\n      <th>55</th>\n      <td>1</td>\n      <td>2</td>\n      <td>38.6</td>\n      <td>160</td>\n      <td>20</td>\n      <td>3</td>\n      <td>3</td>\n      <td>2</td>\n    </tr>\n    <tr>\n      <th>255</th>\n      <td>1</td>\n      <td>2</td>\n      <td>38.8</td>\n      <td>184</td>\n      <td>84</td>\n      <td>1</td>\n      <td>4</td>\n      <td>2</td>\n    </tr>\n    <tr>\n      <th>275</th>\n      <td>1</td>\n      <td>2</td>\n      <td>38.8</td>\n      <td>150</td>\n      <td>50</td>\n      <td>1</td>\n      <td>5</td>\n      <td>2</td>\n    </tr>\n  </tbody>\n</table>\n</div>"
     },
     "execution_count": 182,
     "metadata": {},
     "output_type": "execute_result"
    }
   ],
   "source": [
    "# отдельно по колонкам\n",
    "\n",
    "# pulse\n",
    "\n",
    "pulse = calc_params(df['pulse'])\n",
    "print(pulse)\n",
    "# какие значения попали в выбросы\n",
    "df[(df['pulse'] < pulse['lower outlier']) | (df['pulse'] > pulse['higher outlier'])]"
   ],
   "metadata": {
    "collapsed": false,
    "pycharm": {
     "name": "#%%\n"
    }
   }
  },
  {
   "cell_type": "markdown",
   "source": [
    "***pulse***\n",
    "5 значений выброса. Работать с этими данными можно, т.к. пульс вполне может превышать норму, а значения не являются аномально высокими или низкими, что исключает вариант неверных данных, а скорее всего является причиной заболевания."
   ],
   "metadata": {
    "collapsed": false,
    "pycharm": {
     "name": "#%% md\n"
    }
   }
  },
  {
   "cell_type": "code",
   "execution_count": 199,
   "outputs": [
    {
     "name": "stdout",
     "output_type": "stream",
     "text": [
      "{'mean': 30.417355371900825, 'moda': 20, 'median': 24.5, 'disp': 311.2483282466308, 'min': 8, 'max': 96, 'std': 17.64223138513467, 'q1': 18.5, 'q3': 36, 'IQR': 17.5, 'lower outlier': -7.75, 'higher outlier': 62.25}\n"
     ]
    },
    {
     "data": {
      "text/plain": "     surgery?  Age  rectal temperature  pulse  respiratory rate  \\\n3           1    2                39.1    164                84   \n39          1    2                39.2    146                96   \n41          2    2                39.0    150                72   \n82          1    2                38.1    100                80   \n84          1    1                37.8     60                80   \n103         1    2                38.0    140                68   \n106         1    1                38.3     52                96   \n120         1    1                39.4     54                66   \n125         1    1                38.0     42                68   \n186         1    1                39.3     64                90   \n208         1    1                37.8     88                80   \n229         1    2                38.5    120                70   \n244         1    2                38.2    124                88   \n255         1    2                38.8    184                84   \n265         2    1                 NaN     56                68   \n269         1    1                39.3     64                90   \n295         1    1                 NaN    120                70   \n\n     temperature of extremities  pain  outcome  \n3                             4     2        2  \n39                         <NA>  <NA>        2  \n41                         <NA>  <NA>        1  \n82                            3     3        1  \n84                            1     2        1  \n103                           1     3        1  \n106                        <NA>  <NA>        1  \n120                           1     2        1  \n125                           4     3        1  \n186                           2  <NA>        1  \n208                           3  <NA>        3  \n229                        <NA>  <NA>        1  \n244                           1     2        1  \n255                           1     4        2  \n265                           3     3        3  \n269                           2  <NA>        1  \n295                           4     2        3  ",
      "text/html": "<div>\n<style scoped>\n    .dataframe tbody tr th:only-of-type {\n        vertical-align: middle;\n    }\n\n    .dataframe tbody tr th {\n        vertical-align: top;\n    }\n\n    .dataframe thead th {\n        text-align: right;\n    }\n</style>\n<table border=\"1\" class=\"dataframe\">\n  <thead>\n    <tr style=\"text-align: right;\">\n      <th></th>\n      <th>surgery?</th>\n      <th>Age</th>\n      <th>rectal temperature</th>\n      <th>pulse</th>\n      <th>respiratory rate</th>\n      <th>temperature of extremities</th>\n      <th>pain</th>\n      <th>outcome</th>\n    </tr>\n  </thead>\n  <tbody>\n    <tr>\n      <th>3</th>\n      <td>1</td>\n      <td>2</td>\n      <td>39.1</td>\n      <td>164</td>\n      <td>84</td>\n      <td>4</td>\n      <td>2</td>\n      <td>2</td>\n    </tr>\n    <tr>\n      <th>39</th>\n      <td>1</td>\n      <td>2</td>\n      <td>39.2</td>\n      <td>146</td>\n      <td>96</td>\n      <td>&lt;NA&gt;</td>\n      <td>&lt;NA&gt;</td>\n      <td>2</td>\n    </tr>\n    <tr>\n      <th>41</th>\n      <td>2</td>\n      <td>2</td>\n      <td>39.0</td>\n      <td>150</td>\n      <td>72</td>\n      <td>&lt;NA&gt;</td>\n      <td>&lt;NA&gt;</td>\n      <td>1</td>\n    </tr>\n    <tr>\n      <th>82</th>\n      <td>1</td>\n      <td>2</td>\n      <td>38.1</td>\n      <td>100</td>\n      <td>80</td>\n      <td>3</td>\n      <td>3</td>\n      <td>1</td>\n    </tr>\n    <tr>\n      <th>84</th>\n      <td>1</td>\n      <td>1</td>\n      <td>37.8</td>\n      <td>60</td>\n      <td>80</td>\n      <td>1</td>\n      <td>2</td>\n      <td>1</td>\n    </tr>\n    <tr>\n      <th>103</th>\n      <td>1</td>\n      <td>2</td>\n      <td>38.0</td>\n      <td>140</td>\n      <td>68</td>\n      <td>1</td>\n      <td>3</td>\n      <td>1</td>\n    </tr>\n    <tr>\n      <th>106</th>\n      <td>1</td>\n      <td>1</td>\n      <td>38.3</td>\n      <td>52</td>\n      <td>96</td>\n      <td>&lt;NA&gt;</td>\n      <td>&lt;NA&gt;</td>\n      <td>1</td>\n    </tr>\n    <tr>\n      <th>120</th>\n      <td>1</td>\n      <td>1</td>\n      <td>39.4</td>\n      <td>54</td>\n      <td>66</td>\n      <td>1</td>\n      <td>2</td>\n      <td>1</td>\n    </tr>\n    <tr>\n      <th>125</th>\n      <td>1</td>\n      <td>1</td>\n      <td>38.0</td>\n      <td>42</td>\n      <td>68</td>\n      <td>4</td>\n      <td>3</td>\n      <td>1</td>\n    </tr>\n    <tr>\n      <th>186</th>\n      <td>1</td>\n      <td>1</td>\n      <td>39.3</td>\n      <td>64</td>\n      <td>90</td>\n      <td>2</td>\n      <td>&lt;NA&gt;</td>\n      <td>1</td>\n    </tr>\n    <tr>\n      <th>208</th>\n      <td>1</td>\n      <td>1</td>\n      <td>37.8</td>\n      <td>88</td>\n      <td>80</td>\n      <td>3</td>\n      <td>&lt;NA&gt;</td>\n      <td>3</td>\n    </tr>\n    <tr>\n      <th>229</th>\n      <td>1</td>\n      <td>2</td>\n      <td>38.5</td>\n      <td>120</td>\n      <td>70</td>\n      <td>&lt;NA&gt;</td>\n      <td>&lt;NA&gt;</td>\n      <td>1</td>\n    </tr>\n    <tr>\n      <th>244</th>\n      <td>1</td>\n      <td>2</td>\n      <td>38.2</td>\n      <td>124</td>\n      <td>88</td>\n      <td>1</td>\n      <td>2</td>\n      <td>1</td>\n    </tr>\n    <tr>\n      <th>255</th>\n      <td>1</td>\n      <td>2</td>\n      <td>38.8</td>\n      <td>184</td>\n      <td>84</td>\n      <td>1</td>\n      <td>4</td>\n      <td>2</td>\n    </tr>\n    <tr>\n      <th>265</th>\n      <td>2</td>\n      <td>1</td>\n      <td>NaN</td>\n      <td>56</td>\n      <td>68</td>\n      <td>3</td>\n      <td>3</td>\n      <td>3</td>\n    </tr>\n    <tr>\n      <th>269</th>\n      <td>1</td>\n      <td>1</td>\n      <td>39.3</td>\n      <td>64</td>\n      <td>90</td>\n      <td>2</td>\n      <td>&lt;NA&gt;</td>\n      <td>1</td>\n    </tr>\n    <tr>\n      <th>295</th>\n      <td>1</td>\n      <td>1</td>\n      <td>NaN</td>\n      <td>120</td>\n      <td>70</td>\n      <td>4</td>\n      <td>2</td>\n      <td>3</td>\n    </tr>\n  </tbody>\n</table>\n</div>"
     },
     "execution_count": 199,
     "metadata": {},
     "output_type": "execute_result"
    }
   ],
   "source": [
    "# отдельно по колонкам\n",
    "\n",
    "# pulse\n",
    "\n",
    "rr = calc_params(df['respiratory rate'])\n",
    "print(rr)\n",
    "# какие значения попали в выбросы\n",
    "df[(df['respiratory rate'] < rr['lower outlier']) | (df['respiratory rate'] > rr['higher outlier'])]"
   ],
   "metadata": {
    "collapsed": false,
    "pycharm": {
     "name": "#%%\n"
    }
   }
  },
  {
   "cell_type": "markdown",
   "source": [
    "***respiratory rate***\n",
    "17 значений выброса. Работать с этими данными можно, т.к. дыхание вполне может превышать норму, а значения не являются аномально высокими или низкими, что исключает вариант неверных данных, а скорее всего является причиной заболевания."
   ],
   "metadata": {
    "collapsed": false
   }
  },
  {
   "cell_type": "markdown",
   "source": [],
   "metadata": {
    "collapsed": false
   }
  },
  {
   "cell_type": "code",
   "execution_count": 219,
   "outputs": [
    {
     "data": {
      "text/plain": "58"
     },
     "execution_count": 219,
     "metadata": {},
     "output_type": "execute_result"
    }
   ],
   "source": [
    "df[df['rectal temperature'].isna()].count()\n",
    "df[df['pulse'].isna()].count()\n",
    "df[df['respiratory rate'].isna()]"
   ],
   "metadata": {
    "collapsed": false,
    "pycharm": {
     "name": "#%%\n"
    }
   }
  }
 ],
 "metadata": {
  "kernelspec": {
   "display_name": "Python 3",
   "language": "python",
   "name": "python3"
  },
  "language_info": {
   "codemirror_mode": {
    "name": "ipython",
    "version": 2
   },
   "file_extension": ".py",
   "mimetype": "text/x-python",
   "name": "python",
   "nbconvert_exporter": "python",
   "pygments_lexer": "ipython2",
   "version": "2.7.6"
  }
 },
 "nbformat": 4,
 "nbformat_minor": 0
}