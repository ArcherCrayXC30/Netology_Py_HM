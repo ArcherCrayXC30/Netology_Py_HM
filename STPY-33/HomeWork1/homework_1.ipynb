{
 "cells": [
  {
   "cell_type": "markdown",
   "source": [
    "## Обязательная часть\n",
    "\n",
    "Будем осуществлять работу с непростым [набором данных](https://raw.githubusercontent.com/obulygin/pyda_homeworks/master/statistics_basics/horse_data.csv) о состоянии здоровья лошадей, испытывающих кишечные колики.\n",
    "\n",
    "### Задание 1. Базовое изучение\n",
    "\n",
    "Изучить представленный набор данных на основе [описания его столбцов](https://raw.githubusercontent.com/obulygin/pyda_homeworks/master/statistics_basics/horse_data.names) и выбрать 8 столбцов для дальнейшего изучения (среди них должны быть как числовые, так и категориальные). Провести расчет базовых метрик для них, кратко описать результаты.\n",
    "\n",
    "### Задание 2. Работа с выбросами\n",
    "Проанализировать значения по столбцам, рассчитать базовые статистики, найти выбросы.\n",
    "\n",
    "### Задание 3. Работа с пропусками\n",
    "Рассчитать количество пропусков для всех выбранных столбцов. Принять и обосновать решение о методе заполнения пропусков по каждому столбцу на основе рассчитанных статистик и возможной взаимосвязи значений в них. Сформировать датафрейм, в котором пропуски будут отсутствовать."
   ],
   "metadata": {
    "collapsed": false
   }
  },
  {
   "cell_type": "code",
   "execution_count": 28,
   "outputs": [],
   "source": [
    "import pandas as pd\n",
    "import numpy as np"
   ],
   "metadata": {
    "collapsed": false,
    "pycharm": {
     "name": "#%%\n"
    }
   }
  },
  {
   "cell_type": "code",
   "execution_count": null,
   "metadata": {
    "collapsed": true,
    "pycharm": {
     "is_executing": true
    }
   },
   "outputs": [],
   "source": [
    "# добавим наименование столбцов согласно описанию\n",
    "with open('./data/horse_data.csv', 'r') as original:\n",
    "    f = original.read()\n",
    "with open('./data/horse_data_modified.csv', 'w') as withcolums:\n",
    "    withcolums.write('surgery?,Age,Hospital Number,rectal temperature,pulse,respiratory rate,temperature of extremities,peripheral pulse,mucous membranes,capillary refill time,pain,peristalsis,abdominal distension,nasogastric tube,nasogastric reflux,nasogastric reflux PH,rectal examination - feces,abdomen,packed cell volume,total protein,abdominocentesis appearance,abdomcentesis total protein,outcome,surgical lesion?,number is site of lesion,number is type,number is subtype,cp_data\\n' + f)\n",
    "    print('add columns names done')"
   ]
  },
  {
   "cell_type": "code",
   "execution_count": 179,
   "outputs": [
    {
     "data": {
      "text/plain": "    surgery?  Age  Hospital Number rectal temperature pulse respiratory rate  \\\n0          2    1           530101              38.50    66               28   \n1          1    1           534817               39.2    88               20   \n2          2    1           530334              38.30    40               24   \n3          1    9          5290409              39.10   164               84   \n4          2    1           530255              37.30   104               35   \n..       ...  ...              ...                ...   ...              ...   \n295        1    1           533886                  ?   120               70   \n296        2    1           527702              37.20    72               24   \n297        1    1           529386              37.50    72               30   \n298        1    1           530612              36.50   100               24   \n299        1    1           534618               37.2    40               20   \n\n    temperature of extremities peripheral pulse mucous membranes  \\\n0                            3                3                ?   \n1                            ?                ?                4   \n2                            1                1                3   \n3                            4                1                6   \n4                            ?                ?                6   \n..                         ...              ...              ...   \n295                          4                ?                4   \n296                          3                2                4   \n297                          4                3                4   \n298                          3                3                3   \n299                          ?                ?                ?   \n\n    capillary refill time  ... packed cell volume total protein  \\\n0                       2  ...              45.00          8.40   \n1                       1  ...                 50            85   \n2                       1  ...              33.00          6.70   \n3                       2  ...              48.00          7.20   \n4                       2  ...              74.00          7.40   \n..                    ...  ...                ...           ...   \n295                     2  ...                 55            65   \n296                     2  ...              44.00             ?   \n297                     1  ...              60.00          6.80   \n298                     1  ...              50.00          6.00   \n299                     ?  ...                 36            62   \n\n    abdominocentesis appearance abdomcentesis total protein outcome  \\\n0                             ?                           ?       2   \n1                             2                           2       3   \n2                             ?                           ?       1   \n3                             3                        5.30       2   \n4                             ?                           ?       2   \n..                          ...                         ...     ...   \n295                           ?                           ?       3   \n296                           3                        3.30       3   \n297                           ?                           ?       2   \n298                           3                        3.40       1   \n299                           1                           1       3   \n\n    surgical lesion? number is site of lesion number is type  \\\n0                  2                    11300              0   \n1                  2                     2208              0   \n2                  2                        0              0   \n3                  1                     2208              0   \n4                  2                     4300              0   \n..               ...                      ...            ...   \n295                2                     3205              0   \n296                1                     2208              0   \n297                1                     3205              0   \n298                1                     2208              0   \n299                2                     6112              0   \n\n    number is subtype cp_data  \n0                   0       2  \n1                   0       2  \n2                   0       1  \n3                   0       1  \n4                   0       2  \n..                ...     ...  \n295                 0       2  \n296                 0       1  \n297                 0       2  \n298                 0       1  \n299                 0       2  \n\n[300 rows x 28 columns]",
      "text/html": "<div>\n<style scoped>\n    .dataframe tbody tr th:only-of-type {\n        vertical-align: middle;\n    }\n\n    .dataframe tbody tr th {\n        vertical-align: top;\n    }\n\n    .dataframe thead th {\n        text-align: right;\n    }\n</style>\n<table border=\"1\" class=\"dataframe\">\n  <thead>\n    <tr style=\"text-align: right;\">\n      <th></th>\n      <th>surgery?</th>\n      <th>Age</th>\n      <th>Hospital Number</th>\n      <th>rectal temperature</th>\n      <th>pulse</th>\n      <th>respiratory rate</th>\n      <th>temperature of extremities</th>\n      <th>peripheral pulse</th>\n      <th>mucous membranes</th>\n      <th>capillary refill time</th>\n      <th>...</th>\n      <th>packed cell volume</th>\n      <th>total protein</th>\n      <th>abdominocentesis appearance</th>\n      <th>abdomcentesis total protein</th>\n      <th>outcome</th>\n      <th>surgical lesion?</th>\n      <th>number is site of lesion</th>\n      <th>number is type</th>\n      <th>number is subtype</th>\n      <th>cp_data</th>\n    </tr>\n  </thead>\n  <tbody>\n    <tr>\n      <th>0</th>\n      <td>2</td>\n      <td>1</td>\n      <td>530101</td>\n      <td>38.50</td>\n      <td>66</td>\n      <td>28</td>\n      <td>3</td>\n      <td>3</td>\n      <td>?</td>\n      <td>2</td>\n      <td>...</td>\n      <td>45.00</td>\n      <td>8.40</td>\n      <td>?</td>\n      <td>?</td>\n      <td>2</td>\n      <td>2</td>\n      <td>11300</td>\n      <td>0</td>\n      <td>0</td>\n      <td>2</td>\n    </tr>\n    <tr>\n      <th>1</th>\n      <td>1</td>\n      <td>1</td>\n      <td>534817</td>\n      <td>39.2</td>\n      <td>88</td>\n      <td>20</td>\n      <td>?</td>\n      <td>?</td>\n      <td>4</td>\n      <td>1</td>\n      <td>...</td>\n      <td>50</td>\n      <td>85</td>\n      <td>2</td>\n      <td>2</td>\n      <td>3</td>\n      <td>2</td>\n      <td>2208</td>\n      <td>0</td>\n      <td>0</td>\n      <td>2</td>\n    </tr>\n    <tr>\n      <th>2</th>\n      <td>2</td>\n      <td>1</td>\n      <td>530334</td>\n      <td>38.30</td>\n      <td>40</td>\n      <td>24</td>\n      <td>1</td>\n      <td>1</td>\n      <td>3</td>\n      <td>1</td>\n      <td>...</td>\n      <td>33.00</td>\n      <td>6.70</td>\n      <td>?</td>\n      <td>?</td>\n      <td>1</td>\n      <td>2</td>\n      <td>0</td>\n      <td>0</td>\n      <td>0</td>\n      <td>1</td>\n    </tr>\n    <tr>\n      <th>3</th>\n      <td>1</td>\n      <td>9</td>\n      <td>5290409</td>\n      <td>39.10</td>\n      <td>164</td>\n      <td>84</td>\n      <td>4</td>\n      <td>1</td>\n      <td>6</td>\n      <td>2</td>\n      <td>...</td>\n      <td>48.00</td>\n      <td>7.20</td>\n      <td>3</td>\n      <td>5.30</td>\n      <td>2</td>\n      <td>1</td>\n      <td>2208</td>\n      <td>0</td>\n      <td>0</td>\n      <td>1</td>\n    </tr>\n    <tr>\n      <th>4</th>\n      <td>2</td>\n      <td>1</td>\n      <td>530255</td>\n      <td>37.30</td>\n      <td>104</td>\n      <td>35</td>\n      <td>?</td>\n      <td>?</td>\n      <td>6</td>\n      <td>2</td>\n      <td>...</td>\n      <td>74.00</td>\n      <td>7.40</td>\n      <td>?</td>\n      <td>?</td>\n      <td>2</td>\n      <td>2</td>\n      <td>4300</td>\n      <td>0</td>\n      <td>0</td>\n      <td>2</td>\n    </tr>\n    <tr>\n      <th>...</th>\n      <td>...</td>\n      <td>...</td>\n      <td>...</td>\n      <td>...</td>\n      <td>...</td>\n      <td>...</td>\n      <td>...</td>\n      <td>...</td>\n      <td>...</td>\n      <td>...</td>\n      <td>...</td>\n      <td>...</td>\n      <td>...</td>\n      <td>...</td>\n      <td>...</td>\n      <td>...</td>\n      <td>...</td>\n      <td>...</td>\n      <td>...</td>\n      <td>...</td>\n      <td>...</td>\n    </tr>\n    <tr>\n      <th>295</th>\n      <td>1</td>\n      <td>1</td>\n      <td>533886</td>\n      <td>?</td>\n      <td>120</td>\n      <td>70</td>\n      <td>4</td>\n      <td>?</td>\n      <td>4</td>\n      <td>2</td>\n      <td>...</td>\n      <td>55</td>\n      <td>65</td>\n      <td>?</td>\n      <td>?</td>\n      <td>3</td>\n      <td>2</td>\n      <td>3205</td>\n      <td>0</td>\n      <td>0</td>\n      <td>2</td>\n    </tr>\n    <tr>\n      <th>296</th>\n      <td>2</td>\n      <td>1</td>\n      <td>527702</td>\n      <td>37.20</td>\n      <td>72</td>\n      <td>24</td>\n      <td>3</td>\n      <td>2</td>\n      <td>4</td>\n      <td>2</td>\n      <td>...</td>\n      <td>44.00</td>\n      <td>?</td>\n      <td>3</td>\n      <td>3.30</td>\n      <td>3</td>\n      <td>1</td>\n      <td>2208</td>\n      <td>0</td>\n      <td>0</td>\n      <td>1</td>\n    </tr>\n    <tr>\n      <th>297</th>\n      <td>1</td>\n      <td>1</td>\n      <td>529386</td>\n      <td>37.50</td>\n      <td>72</td>\n      <td>30</td>\n      <td>4</td>\n      <td>3</td>\n      <td>4</td>\n      <td>1</td>\n      <td>...</td>\n      <td>60.00</td>\n      <td>6.80</td>\n      <td>?</td>\n      <td>?</td>\n      <td>2</td>\n      <td>1</td>\n      <td>3205</td>\n      <td>0</td>\n      <td>0</td>\n      <td>2</td>\n    </tr>\n    <tr>\n      <th>298</th>\n      <td>1</td>\n      <td>1</td>\n      <td>530612</td>\n      <td>36.50</td>\n      <td>100</td>\n      <td>24</td>\n      <td>3</td>\n      <td>3</td>\n      <td>3</td>\n      <td>1</td>\n      <td>...</td>\n      <td>50.00</td>\n      <td>6.00</td>\n      <td>3</td>\n      <td>3.40</td>\n      <td>1</td>\n      <td>1</td>\n      <td>2208</td>\n      <td>0</td>\n      <td>0</td>\n      <td>1</td>\n    </tr>\n    <tr>\n      <th>299</th>\n      <td>1</td>\n      <td>1</td>\n      <td>534618</td>\n      <td>37.2</td>\n      <td>40</td>\n      <td>20</td>\n      <td>?</td>\n      <td>?</td>\n      <td>?</td>\n      <td>?</td>\n      <td>...</td>\n      <td>36</td>\n      <td>62</td>\n      <td>1</td>\n      <td>1</td>\n      <td>3</td>\n      <td>2</td>\n      <td>6112</td>\n      <td>0</td>\n      <td>0</td>\n      <td>2</td>\n    </tr>\n  </tbody>\n</table>\n<p>300 rows × 28 columns</p>\n</div>"
     },
     "execution_count": 179,
     "metadata": {},
     "output_type": "execute_result"
    }
   ],
   "source": [
    "horses_df = pd.read_csv('./data/horse_data_modified.csv')\n",
    "horses_df"
   ],
   "metadata": {
    "collapsed": false,
    "pycharm": {
     "name": "#%%\n"
    }
   }
  },
  {
   "cell_type": "code",
   "execution_count": 228,
   "outputs": [
    {
     "name": "stdout",
     "output_type": "stream",
     "text": [
      "<class 'pandas.core.frame.DataFrame'>\n",
      "RangeIndex: 300 entries, 0 to 299\n",
      "Data columns (total 8 columns):\n",
      " #   Column                      Non-Null Count  Dtype  \n",
      "---  ------                      --------------  -----  \n",
      " 0   surgery?                    299 non-null    object \n",
      " 1   Age                         300 non-null    int64  \n",
      " 2   rectal temperature          240 non-null    float64\n",
      " 3   pulse                       276 non-null    Int32  \n",
      " 4   respiratory rate            242 non-null    Int32  \n",
      " 5   temperature of extremities  244 non-null    object \n",
      " 6   pain                        245 non-null    object \n",
      " 7   outcome                     299 non-null    object \n",
      "dtypes: Int32(2), float64(1), int64(1), object(4)\n",
      "memory usage: 17.1+ KB\n"
     ]
    }
   ],
   "source": [
    "# меняем типы данных\n",
    "horses_df['rectal temperature'] = pd.to_numeric(horses_df['rectal temperature'], errors='coerce')\n",
    "horses_df['pulse'] = pd.to_numeric(horses_df['pulse'], errors='coerce')\n",
    "horses_df['respiratory rate'] = pd.to_numeric(horses_df['respiratory rate'], errors='coerce')\n",
    "\n",
    "horses_df['pulse'] = horses_df['pulse'].astype(\"Int32\")\n",
    "horses_df['respiratory rate'] = horses_df['respiratory rate'].astype(\"Int32\")\n",
    "\n",
    "# точно определяем пустые значения в дата-сете\n",
    "horses_df.replace('?', np.nan, inplace=True)\n",
    "# забираем нужные столбцы для анализа\n",
    "df = horses_df[['surgery?','Age', 'rectal temperature', 'pulse', 'respiratory rate', 'temperature of extremities', 'pain', 'outcome']]\n",
    "df.info()\n"
   ],
   "metadata": {
    "collapsed": false,
    "pycharm": {
     "name": "#%%\n"
    }
   }
  },
  {
   "cell_type": "code",
   "execution_count": 229,
   "outputs": [
    {
     "name": "stderr",
     "output_type": "stream",
     "text": [
      "/tmp/ipykernel_63995/3683739211.py:2: SettingWithCopyWarning: \n",
      "A value is trying to be set on a copy of a slice from a DataFrame.\n",
      "Try using .loc[row_indexer,col_indexer] = value instead\n",
      "\n",
      "See the caveats in the documentation: https://pandas.pydata.org/pandas-docs/stable/user_guide/indexing.html#returning-a-view-versus-a-copy\n",
      "  df['Age'] = df['Age'].replace(9, 2)\n"
     ]
    },
    {
     "data": {
      "text/plain": "    surgery?  Age  rectal temperature  pulse  respiratory rate  \\\n0          2    1                38.5     66                28   \n1          1    1                39.2     88                20   \n2          2    1                38.3     40                24   \n3          1    2                39.1    164                84   \n4          2    1                37.3    104                35   \n..       ...  ...                 ...    ...               ...   \n295        1    1                 NaN    120                70   \n296        2    1                37.2     72                24   \n297        1    1                37.5     72                30   \n298        1    1                36.5    100                24   \n299        1    1                37.2     40                20   \n\n    temperature of extremities pain outcome  \n0                            3    5       2  \n1                          NaN    3       3  \n2                            1    3       1  \n3                            4    2       2  \n4                          NaN  NaN       2  \n..                         ...  ...     ...  \n295                          4    2       3  \n296                          3    4       3  \n297                          4    4       2  \n298                          3    3       1  \n299                        NaN  NaN       3  \n\n[300 rows x 8 columns]",
      "text/html": "<div>\n<style scoped>\n    .dataframe tbody tr th:only-of-type {\n        vertical-align: middle;\n    }\n\n    .dataframe tbody tr th {\n        vertical-align: top;\n    }\n\n    .dataframe thead th {\n        text-align: right;\n    }\n</style>\n<table border=\"1\" class=\"dataframe\">\n  <thead>\n    <tr style=\"text-align: right;\">\n      <th></th>\n      <th>surgery?</th>\n      <th>Age</th>\n      <th>rectal temperature</th>\n      <th>pulse</th>\n      <th>respiratory rate</th>\n      <th>temperature of extremities</th>\n      <th>pain</th>\n      <th>outcome</th>\n    </tr>\n  </thead>\n  <tbody>\n    <tr>\n      <th>0</th>\n      <td>2</td>\n      <td>1</td>\n      <td>38.5</td>\n      <td>66</td>\n      <td>28</td>\n      <td>3</td>\n      <td>5</td>\n      <td>2</td>\n    </tr>\n    <tr>\n      <th>1</th>\n      <td>1</td>\n      <td>1</td>\n      <td>39.2</td>\n      <td>88</td>\n      <td>20</td>\n      <td>NaN</td>\n      <td>3</td>\n      <td>3</td>\n    </tr>\n    <tr>\n      <th>2</th>\n      <td>2</td>\n      <td>1</td>\n      <td>38.3</td>\n      <td>40</td>\n      <td>24</td>\n      <td>1</td>\n      <td>3</td>\n      <td>1</td>\n    </tr>\n    <tr>\n      <th>3</th>\n      <td>1</td>\n      <td>2</td>\n      <td>39.1</td>\n      <td>164</td>\n      <td>84</td>\n      <td>4</td>\n      <td>2</td>\n      <td>2</td>\n    </tr>\n    <tr>\n      <th>4</th>\n      <td>2</td>\n      <td>1</td>\n      <td>37.3</td>\n      <td>104</td>\n      <td>35</td>\n      <td>NaN</td>\n      <td>NaN</td>\n      <td>2</td>\n    </tr>\n    <tr>\n      <th>...</th>\n      <td>...</td>\n      <td>...</td>\n      <td>...</td>\n      <td>...</td>\n      <td>...</td>\n      <td>...</td>\n      <td>...</td>\n      <td>...</td>\n    </tr>\n    <tr>\n      <th>295</th>\n      <td>1</td>\n      <td>1</td>\n      <td>NaN</td>\n      <td>120</td>\n      <td>70</td>\n      <td>4</td>\n      <td>2</td>\n      <td>3</td>\n    </tr>\n    <tr>\n      <th>296</th>\n      <td>2</td>\n      <td>1</td>\n      <td>37.2</td>\n      <td>72</td>\n      <td>24</td>\n      <td>3</td>\n      <td>4</td>\n      <td>3</td>\n    </tr>\n    <tr>\n      <th>297</th>\n      <td>1</td>\n      <td>1</td>\n      <td>37.5</td>\n      <td>72</td>\n      <td>30</td>\n      <td>4</td>\n      <td>4</td>\n      <td>2</td>\n    </tr>\n    <tr>\n      <th>298</th>\n      <td>1</td>\n      <td>1</td>\n      <td>36.5</td>\n      <td>100</td>\n      <td>24</td>\n      <td>3</td>\n      <td>3</td>\n      <td>1</td>\n    </tr>\n    <tr>\n      <th>299</th>\n      <td>1</td>\n      <td>1</td>\n      <td>37.2</td>\n      <td>40</td>\n      <td>20</td>\n      <td>NaN</td>\n      <td>NaN</td>\n      <td>3</td>\n    </tr>\n  </tbody>\n</table>\n<p>300 rows × 8 columns</p>\n</div>"
     },
     "execution_count": 229,
     "metadata": {},
     "output_type": "execute_result"
    }
   ],
   "source": [
    "# определенно в Age ошибка со значением 9 т.к. в описании есть категории 1 и 2\n",
    "df['Age'] = df['Age'].replace(9, 2)\n",
    "df"
   ],
   "metadata": {
    "collapsed": false,
    "pycharm": {
     "name": "#%%\n"
    }
   }
  },
  {
   "cell_type": "markdown",
   "source": [
    "# Задание 1\n",
    "## Анализ колонок дата-сета\n",
    "### Категории\n",
    "surgery?\n",
    "Age\n",
    "temperature of extremities\n",
    "pain\n",
    "outcome\n",
    "\n",
    "\n",
    "### Числовые\n",
    "rectal temperature\n",
    "pulse\n",
    "respiratory rate\n"
   ],
   "metadata": {
    "collapsed": false
   }
  },
  {
   "cell_type": "code",
   "execution_count": 230,
   "outputs": [
    {
     "data": {
      "text/plain": "              Age  rectal temperature       pulse  respiratory rate\ncount  300.000000          240.000000  276.000000        242.000000\nmean     1.080000           38.167917   71.913043         30.417355\nstd      0.271746            0.732289   28.630557         17.642231\nmin      1.000000           35.400000   30.000000          8.000000\n25%      1.000000           37.800000   48.000000         18.500000\n50%      1.000000           38.200000   64.000000         24.500000\n75%      1.000000           38.500000   88.000000         36.000000\nmax      2.000000           40.800000  184.000000         96.000000",
      "text/html": "<div>\n<style scoped>\n    .dataframe tbody tr th:only-of-type {\n        vertical-align: middle;\n    }\n\n    .dataframe tbody tr th {\n        vertical-align: top;\n    }\n\n    .dataframe thead th {\n        text-align: right;\n    }\n</style>\n<table border=\"1\" class=\"dataframe\">\n  <thead>\n    <tr style=\"text-align: right;\">\n      <th></th>\n      <th>Age</th>\n      <th>rectal temperature</th>\n      <th>pulse</th>\n      <th>respiratory rate</th>\n    </tr>\n  </thead>\n  <tbody>\n    <tr>\n      <th>count</th>\n      <td>300.000000</td>\n      <td>240.000000</td>\n      <td>276.000000</td>\n      <td>242.000000</td>\n    </tr>\n    <tr>\n      <th>mean</th>\n      <td>1.080000</td>\n      <td>38.167917</td>\n      <td>71.913043</td>\n      <td>30.417355</td>\n    </tr>\n    <tr>\n      <th>std</th>\n      <td>0.271746</td>\n      <td>0.732289</td>\n      <td>28.630557</td>\n      <td>17.642231</td>\n    </tr>\n    <tr>\n      <th>min</th>\n      <td>1.000000</td>\n      <td>35.400000</td>\n      <td>30.000000</td>\n      <td>8.000000</td>\n    </tr>\n    <tr>\n      <th>25%</th>\n      <td>1.000000</td>\n      <td>37.800000</td>\n      <td>48.000000</td>\n      <td>18.500000</td>\n    </tr>\n    <tr>\n      <th>50%</th>\n      <td>1.000000</td>\n      <td>38.200000</td>\n      <td>64.000000</td>\n      <td>24.500000</td>\n    </tr>\n    <tr>\n      <th>75%</th>\n      <td>1.000000</td>\n      <td>38.500000</td>\n      <td>88.000000</td>\n      <td>36.000000</td>\n    </tr>\n    <tr>\n      <th>max</th>\n      <td>2.000000</td>\n      <td>40.800000</td>\n      <td>184.000000</td>\n      <td>96.000000</td>\n    </tr>\n  </tbody>\n</table>\n</div>"
     },
     "execution_count": 230,
     "metadata": {},
     "output_type": "execute_result"
    }
   ],
   "source": [
    "# Сводная по параметрам\n",
    "df.describe()\n",
    "# в таком виде по категориальным типам данные бессмысленны, далее посчитаем отдельно числовые"
   ],
   "metadata": {
    "collapsed": false,
    "pycharm": {
     "name": "#%%\n"
    }
   }
  },
  {
   "cell_type": "code",
   "execution_count": 231,
   "outputs": [
    {
     "data": {
      "text/plain": "Age  surgery?\n1    1           162\n     2           113\n2    1            18\n     2             6\nName: surgery?, dtype: int64"
     },
     "execution_count": 231,
     "metadata": {},
     "output_type": "execute_result"
    }
   ],
   "source": [
    "# С категориями можно работать в рамках группировки дата-сета, по числовым можно проводить аналитику после обработки данных\n",
    "# Например, посмотреть зависимость возраста лошади и необходимости проведения операций\n",
    "df.groupby('Age')['surgery?'].value_counts()"
   ],
   "metadata": {
    "collapsed": false,
    "pycharm": {
     "name": "#%%\n"
    }
   }
  },
  {
   "cell_type": "markdown",
   "source": [
    "# Задание 2\n",
    "\n",
    "Посчитаем основные метрики и выбросы для числовых столбцов"
   ],
   "metadata": {
    "collapsed": false
   }
  },
  {
   "cell_type": "code",
   "execution_count": 156,
   "outputs": [],
   "source": [
    "def calc_params(column):\n",
    "    q1 = column.quantile(0.25)\n",
    "    q3 = column.quantile(0.75)\n",
    "    iqr = q3 - q1\n",
    "    return {\n",
    "        'mean': column.mean(),\n",
    "        'moda': column.mode()[0],\n",
    "        \"median\": column.median(),\n",
    "        \"disp\": column.var(),\n",
    "        'min': column.min(),\n",
    "        'max': column.max(),\n",
    "        'std': column.std(),\n",
    "        'q1': q1,\n",
    "        'q3': q3,\n",
    "        'IQR': iqr,\n",
    "        'lower outlier': q1 - (1.5*iqr),\n",
    "        'higher outlier': q3 + (1.5*iqr)\n",
    "    }"
   ],
   "metadata": {
    "collapsed": false,
    "pycharm": {
     "name": "#%%\n"
    }
   }
  },
  {
   "cell_type": "code",
   "execution_count": 232,
   "outputs": [
    {
     "name": "stdout",
     "output_type": "stream",
     "text": [
      "rectal temperature:\n",
      "    mean: 38.16791666666667 \n",
      "    moda: 38.0 \n",
      "    median: 38.2 \n",
      "    disp: 0.5362466875871686 \n",
      "    min: 35.4 \n",
      "    max: 40.8 \n",
      "    std: 0.7322886641121578 \n",
      "    q1: 37.8 \n",
      "    q3: 38.5 \n",
      "    IQR: 0.7000000000000028 \n",
      "    lower outlier: 36.74999999999999 \n",
      "    higher outlier: 39.550000000000004 \n",
      "pulse:\n",
      "    mean: 71.91304347826087 \n",
      "    moda: 48 \n",
      "    median: 64.0 \n",
      "    disp: 819.7087747035573 \n",
      "    min: 30 \n",
      "    max: 184 \n",
      "    std: 28.630556660735 \n",
      "    q1: 48 \n",
      "    q3: 88 \n",
      "    IQR: 40 \n",
      "    lower outlier: -12.0 \n",
      "    higher outlier: 148.0 \n",
      "respiratory rate:\n",
      "    mean: 30.417355371900825 \n",
      "    moda: 20 \n",
      "    median: 24.5 \n",
      "    disp: 311.2483282466308 \n",
      "    min: 8 \n",
      "    max: 96 \n",
      "    std: 17.64223138513467 \n",
      "    q1: 18.5 \n",
      "    q3: 36 \n",
      "    IQR: 17.5 \n",
      "    lower outlier: -7.75 \n",
      "    higher outlier: 62.25 \n"
     ]
    }
   ],
   "source": [
    "# rectal temperature\n",
    "columns = df[['rectal temperature', 'pulse', 'respiratory rate']]\n",
    "for col in columns:\n",
    "    res = calc_params(df[col])\n",
    "    print(f'{col}:')\n",
    "    for key, val in res.items():\n",
    "        print(f'    {key}: {val} ')"
   ],
   "metadata": {
    "collapsed": false,
    "pycharm": {
     "name": "#%%\n"
    }
   }
  },
  {
   "cell_type": "code",
   "execution_count": 233,
   "outputs": [
    {
     "name": "stdout",
     "output_type": "stream",
     "text": [
      "{'mean': 38.16791666666667, 'moda': 38.0, 'median': 38.2, 'disp': 0.5362466875871686, 'min': 35.4, 'max': 40.8, 'std': 0.7322886641121578, 'q1': 37.8, 'q3': 38.5, 'IQR': 0.7000000000000028, 'lower outlier': 36.74999999999999, 'higher outlier': 39.550000000000004}\n"
     ]
    },
    {
     "data": {
      "text/plain": "    surgery?  Age  rectal temperature  pulse  respiratory rate  \\\n20         1    1                39.9     72                60   \n44         1    1                35.4    140                24   \n54         2    1                40.3    114                36   \n75         1    2                39.7    100              <NA>   \n80         1    1                36.4     98                35   \n91         2    1                40.3    114                36   \n99         2    1                39.6    108                51   \n118        1    1                36.5     78                30   \n141        2    1                36.0     42                30   \n238        2    1                36.1     88              <NA>   \n251        2    1                36.6     42                18   \n259        1    1                40.8     72                42   \n281        2    1                40.0     78              <NA>   \n298        1    1                36.5    100                24   \n\n    temperature of extremities pain outcome  \n20                           1    5       1  \n44                           3    4       3  \n54                           3    2       3  \n75                           3    2       3  \n80                           3    4       2  \n91                           3    2       2  \n99                           3    2       1  \n118                          1    5       1  \n141                        NaN  NaN       2  \n238                          3    3       3  \n251                          3    1       2  \n259                          3    2       2  \n281                          3    2       2  \n298                          3    3       1  ",
      "text/html": "<div>\n<style scoped>\n    .dataframe tbody tr th:only-of-type {\n        vertical-align: middle;\n    }\n\n    .dataframe tbody tr th {\n        vertical-align: top;\n    }\n\n    .dataframe thead th {\n        text-align: right;\n    }\n</style>\n<table border=\"1\" class=\"dataframe\">\n  <thead>\n    <tr style=\"text-align: right;\">\n      <th></th>\n      <th>surgery?</th>\n      <th>Age</th>\n      <th>rectal temperature</th>\n      <th>pulse</th>\n      <th>respiratory rate</th>\n      <th>temperature of extremities</th>\n      <th>pain</th>\n      <th>outcome</th>\n    </tr>\n  </thead>\n  <tbody>\n    <tr>\n      <th>20</th>\n      <td>1</td>\n      <td>1</td>\n      <td>39.9</td>\n      <td>72</td>\n      <td>60</td>\n      <td>1</td>\n      <td>5</td>\n      <td>1</td>\n    </tr>\n    <tr>\n      <th>44</th>\n      <td>1</td>\n      <td>1</td>\n      <td>35.4</td>\n      <td>140</td>\n      <td>24</td>\n      <td>3</td>\n      <td>4</td>\n      <td>3</td>\n    </tr>\n    <tr>\n      <th>54</th>\n      <td>2</td>\n      <td>1</td>\n      <td>40.3</td>\n      <td>114</td>\n      <td>36</td>\n      <td>3</td>\n      <td>2</td>\n      <td>3</td>\n    </tr>\n    <tr>\n      <th>75</th>\n      <td>1</td>\n      <td>2</td>\n      <td>39.7</td>\n      <td>100</td>\n      <td>&lt;NA&gt;</td>\n      <td>3</td>\n      <td>2</td>\n      <td>3</td>\n    </tr>\n    <tr>\n      <th>80</th>\n      <td>1</td>\n      <td>1</td>\n      <td>36.4</td>\n      <td>98</td>\n      <td>35</td>\n      <td>3</td>\n      <td>4</td>\n      <td>2</td>\n    </tr>\n    <tr>\n      <th>91</th>\n      <td>2</td>\n      <td>1</td>\n      <td>40.3</td>\n      <td>114</td>\n      <td>36</td>\n      <td>3</td>\n      <td>2</td>\n      <td>2</td>\n    </tr>\n    <tr>\n      <th>99</th>\n      <td>2</td>\n      <td>1</td>\n      <td>39.6</td>\n      <td>108</td>\n      <td>51</td>\n      <td>3</td>\n      <td>2</td>\n      <td>1</td>\n    </tr>\n    <tr>\n      <th>118</th>\n      <td>1</td>\n      <td>1</td>\n      <td>36.5</td>\n      <td>78</td>\n      <td>30</td>\n      <td>1</td>\n      <td>5</td>\n      <td>1</td>\n    </tr>\n    <tr>\n      <th>141</th>\n      <td>2</td>\n      <td>1</td>\n      <td>36.0</td>\n      <td>42</td>\n      <td>30</td>\n      <td>NaN</td>\n      <td>NaN</td>\n      <td>2</td>\n    </tr>\n    <tr>\n      <th>238</th>\n      <td>2</td>\n      <td>1</td>\n      <td>36.1</td>\n      <td>88</td>\n      <td>&lt;NA&gt;</td>\n      <td>3</td>\n      <td>3</td>\n      <td>3</td>\n    </tr>\n    <tr>\n      <th>251</th>\n      <td>2</td>\n      <td>1</td>\n      <td>36.6</td>\n      <td>42</td>\n      <td>18</td>\n      <td>3</td>\n      <td>1</td>\n      <td>2</td>\n    </tr>\n    <tr>\n      <th>259</th>\n      <td>1</td>\n      <td>1</td>\n      <td>40.8</td>\n      <td>72</td>\n      <td>42</td>\n      <td>3</td>\n      <td>2</td>\n      <td>2</td>\n    </tr>\n    <tr>\n      <th>281</th>\n      <td>2</td>\n      <td>1</td>\n      <td>40.0</td>\n      <td>78</td>\n      <td>&lt;NA&gt;</td>\n      <td>3</td>\n      <td>2</td>\n      <td>2</td>\n    </tr>\n    <tr>\n      <th>298</th>\n      <td>1</td>\n      <td>1</td>\n      <td>36.5</td>\n      <td>100</td>\n      <td>24</td>\n      <td>3</td>\n      <td>3</td>\n      <td>1</td>\n    </tr>\n  </tbody>\n</table>\n</div>"
     },
     "execution_count": 233,
     "metadata": {},
     "output_type": "execute_result"
    }
   ],
   "source": [
    "# отдельно по колонкам\n",
    "\n",
    "# rectal temperature\n",
    "\n",
    "rt = calc_params(df['rectal temperature'])\n",
    "print(rt)\n",
    "# какие значения попали в выбросы\n",
    "df[~(df['rectal temperature'].between(rt['lower outlier'], rt['higher outlier'])) & (~df['rectal temperature'].isnull())]"
   ],
   "metadata": {
    "collapsed": false,
    "pycharm": {
     "name": "#%%\n"
    }
   }
  },
  {
   "cell_type": "markdown",
   "source": [
    "***rectal temperature***\n",
    "\n",
    "14 значений выброса.\n",
    "Работать с этими данными можно, т.к. температура вполне может превышать норму, а значения не являются аномально высокими или низкими, что исключает вариант неверных данных, а скорее всего является причиной заболевания."
   ],
   "metadata": {
    "collapsed": false
   }
  },
  {
   "cell_type": "code",
   "execution_count": 235,
   "outputs": [
    {
     "name": "stdout",
     "output_type": "stream",
     "text": [
      "{'mean': 71.91304347826087, 'moda': 48, 'median': 64.0, 'disp': 819.7087747035573, 'min': 30, 'max': 184, 'std': 28.630556660735, 'q1': 48, 'q3': 88, 'IQR': 40, 'lower outlier': -12.0, 'higher outlier': 148.0}\n"
     ]
    },
    {
     "data": {
      "text/plain": "    surgery?  Age  rectal temperature  pulse  respiratory rate  \\\n3          1    2                39.1    164                84   \n41         2    2                39.0    150                72   \n55         1    2                38.6    160                20   \n255        1    2                38.8    184                84   \n275        1    2                38.8    150                50   \n\n    temperature of extremities pain outcome  \n3                            4    2       2  \n41                         NaN  NaN       1  \n55                           3    3       2  \n255                          1    4       2  \n275                          1    5       2  ",
      "text/html": "<div>\n<style scoped>\n    .dataframe tbody tr th:only-of-type {\n        vertical-align: middle;\n    }\n\n    .dataframe tbody tr th {\n        vertical-align: top;\n    }\n\n    .dataframe thead th {\n        text-align: right;\n    }\n</style>\n<table border=\"1\" class=\"dataframe\">\n  <thead>\n    <tr style=\"text-align: right;\">\n      <th></th>\n      <th>surgery?</th>\n      <th>Age</th>\n      <th>rectal temperature</th>\n      <th>pulse</th>\n      <th>respiratory rate</th>\n      <th>temperature of extremities</th>\n      <th>pain</th>\n      <th>outcome</th>\n    </tr>\n  </thead>\n  <tbody>\n    <tr>\n      <th>3</th>\n      <td>1</td>\n      <td>2</td>\n      <td>39.1</td>\n      <td>164</td>\n      <td>84</td>\n      <td>4</td>\n      <td>2</td>\n      <td>2</td>\n    </tr>\n    <tr>\n      <th>41</th>\n      <td>2</td>\n      <td>2</td>\n      <td>39.0</td>\n      <td>150</td>\n      <td>72</td>\n      <td>NaN</td>\n      <td>NaN</td>\n      <td>1</td>\n    </tr>\n    <tr>\n      <th>55</th>\n      <td>1</td>\n      <td>2</td>\n      <td>38.6</td>\n      <td>160</td>\n      <td>20</td>\n      <td>3</td>\n      <td>3</td>\n      <td>2</td>\n    </tr>\n    <tr>\n      <th>255</th>\n      <td>1</td>\n      <td>2</td>\n      <td>38.8</td>\n      <td>184</td>\n      <td>84</td>\n      <td>1</td>\n      <td>4</td>\n      <td>2</td>\n    </tr>\n    <tr>\n      <th>275</th>\n      <td>1</td>\n      <td>2</td>\n      <td>38.8</td>\n      <td>150</td>\n      <td>50</td>\n      <td>1</td>\n      <td>5</td>\n      <td>2</td>\n    </tr>\n  </tbody>\n</table>\n</div>"
     },
     "execution_count": 235,
     "metadata": {},
     "output_type": "execute_result"
    }
   ],
   "source": [
    "# отдельно по колонкам\n",
    "\n",
    "# pulse\n",
    "\n",
    "pulse = calc_params(df['pulse'])\n",
    "print(pulse)\n",
    "# какие значения попали в выбросы\n",
    "df[(df['pulse'] < pulse['lower outlier']) | (df['pulse'] > pulse['higher outlier'])]"
   ],
   "metadata": {
    "collapsed": false,
    "pycharm": {
     "name": "#%%\n"
    }
   }
  },
  {
   "cell_type": "markdown",
   "source": [
    "***pulse***\n",
    "5 значений выброса. Работать с этими данными можно, т.к. пульс вполне может превышать норму, а значения не являются аномально высокими или низкими, что исключает вариант неверных данных, а скорее всего является причиной заболевания. И outcome 2 говорит о том что лошади не выжили"
   ],
   "metadata": {
    "collapsed": false,
    "pycharm": {
     "name": "#%% md\n"
    }
   }
  },
  {
   "cell_type": "code",
   "execution_count": 199,
   "outputs": [
    {
     "name": "stdout",
     "output_type": "stream",
     "text": [
      "{'mean': 30.417355371900825, 'moda': 20, 'median': 24.5, 'disp': 311.2483282466308, 'min': 8, 'max': 96, 'std': 17.64223138513467, 'q1': 18.5, 'q3': 36, 'IQR': 17.5, 'lower outlier': -7.75, 'higher outlier': 62.25}\n"
     ]
    },
    {
     "data": {
      "text/plain": "     surgery?  Age  rectal temperature  pulse  respiratory rate  \\\n3           1    2                39.1    164                84   \n39          1    2                39.2    146                96   \n41          2    2                39.0    150                72   \n82          1    2                38.1    100                80   \n84          1    1                37.8     60                80   \n103         1    2                38.0    140                68   \n106         1    1                38.3     52                96   \n120         1    1                39.4     54                66   \n125         1    1                38.0     42                68   \n186         1    1                39.3     64                90   \n208         1    1                37.8     88                80   \n229         1    2                38.5    120                70   \n244         1    2                38.2    124                88   \n255         1    2                38.8    184                84   \n265         2    1                 NaN     56                68   \n269         1    1                39.3     64                90   \n295         1    1                 NaN    120                70   \n\n     temperature of extremities  pain  outcome  \n3                             4     2        2  \n39                         <NA>  <NA>        2  \n41                         <NA>  <NA>        1  \n82                            3     3        1  \n84                            1     2        1  \n103                           1     3        1  \n106                        <NA>  <NA>        1  \n120                           1     2        1  \n125                           4     3        1  \n186                           2  <NA>        1  \n208                           3  <NA>        3  \n229                        <NA>  <NA>        1  \n244                           1     2        1  \n255                           1     4        2  \n265                           3     3        3  \n269                           2  <NA>        1  \n295                           4     2        3  ",
      "text/html": "<div>\n<style scoped>\n    .dataframe tbody tr th:only-of-type {\n        vertical-align: middle;\n    }\n\n    .dataframe tbody tr th {\n        vertical-align: top;\n    }\n\n    .dataframe thead th {\n        text-align: right;\n    }\n</style>\n<table border=\"1\" class=\"dataframe\">\n  <thead>\n    <tr style=\"text-align: right;\">\n      <th></th>\n      <th>surgery?</th>\n      <th>Age</th>\n      <th>rectal temperature</th>\n      <th>pulse</th>\n      <th>respiratory rate</th>\n      <th>temperature of extremities</th>\n      <th>pain</th>\n      <th>outcome</th>\n    </tr>\n  </thead>\n  <tbody>\n    <tr>\n      <th>3</th>\n      <td>1</td>\n      <td>2</td>\n      <td>39.1</td>\n      <td>164</td>\n      <td>84</td>\n      <td>4</td>\n      <td>2</td>\n      <td>2</td>\n    </tr>\n    <tr>\n      <th>39</th>\n      <td>1</td>\n      <td>2</td>\n      <td>39.2</td>\n      <td>146</td>\n      <td>96</td>\n      <td>&lt;NA&gt;</td>\n      <td>&lt;NA&gt;</td>\n      <td>2</td>\n    </tr>\n    <tr>\n      <th>41</th>\n      <td>2</td>\n      <td>2</td>\n      <td>39.0</td>\n      <td>150</td>\n      <td>72</td>\n      <td>&lt;NA&gt;</td>\n      <td>&lt;NA&gt;</td>\n      <td>1</td>\n    </tr>\n    <tr>\n      <th>82</th>\n      <td>1</td>\n      <td>2</td>\n      <td>38.1</td>\n      <td>100</td>\n      <td>80</td>\n      <td>3</td>\n      <td>3</td>\n      <td>1</td>\n    </tr>\n    <tr>\n      <th>84</th>\n      <td>1</td>\n      <td>1</td>\n      <td>37.8</td>\n      <td>60</td>\n      <td>80</td>\n      <td>1</td>\n      <td>2</td>\n      <td>1</td>\n    </tr>\n    <tr>\n      <th>103</th>\n      <td>1</td>\n      <td>2</td>\n      <td>38.0</td>\n      <td>140</td>\n      <td>68</td>\n      <td>1</td>\n      <td>3</td>\n      <td>1</td>\n    </tr>\n    <tr>\n      <th>106</th>\n      <td>1</td>\n      <td>1</td>\n      <td>38.3</td>\n      <td>52</td>\n      <td>96</td>\n      <td>&lt;NA&gt;</td>\n      <td>&lt;NA&gt;</td>\n      <td>1</td>\n    </tr>\n    <tr>\n      <th>120</th>\n      <td>1</td>\n      <td>1</td>\n      <td>39.4</td>\n      <td>54</td>\n      <td>66</td>\n      <td>1</td>\n      <td>2</td>\n      <td>1</td>\n    </tr>\n    <tr>\n      <th>125</th>\n      <td>1</td>\n      <td>1</td>\n      <td>38.0</td>\n      <td>42</td>\n      <td>68</td>\n      <td>4</td>\n      <td>3</td>\n      <td>1</td>\n    </tr>\n    <tr>\n      <th>186</th>\n      <td>1</td>\n      <td>1</td>\n      <td>39.3</td>\n      <td>64</td>\n      <td>90</td>\n      <td>2</td>\n      <td>&lt;NA&gt;</td>\n      <td>1</td>\n    </tr>\n    <tr>\n      <th>208</th>\n      <td>1</td>\n      <td>1</td>\n      <td>37.8</td>\n      <td>88</td>\n      <td>80</td>\n      <td>3</td>\n      <td>&lt;NA&gt;</td>\n      <td>3</td>\n    </tr>\n    <tr>\n      <th>229</th>\n      <td>1</td>\n      <td>2</td>\n      <td>38.5</td>\n      <td>120</td>\n      <td>70</td>\n      <td>&lt;NA&gt;</td>\n      <td>&lt;NA&gt;</td>\n      <td>1</td>\n    </tr>\n    <tr>\n      <th>244</th>\n      <td>1</td>\n      <td>2</td>\n      <td>38.2</td>\n      <td>124</td>\n      <td>88</td>\n      <td>1</td>\n      <td>2</td>\n      <td>1</td>\n    </tr>\n    <tr>\n      <th>255</th>\n      <td>1</td>\n      <td>2</td>\n      <td>38.8</td>\n      <td>184</td>\n      <td>84</td>\n      <td>1</td>\n      <td>4</td>\n      <td>2</td>\n    </tr>\n    <tr>\n      <th>265</th>\n      <td>2</td>\n      <td>1</td>\n      <td>NaN</td>\n      <td>56</td>\n      <td>68</td>\n      <td>3</td>\n      <td>3</td>\n      <td>3</td>\n    </tr>\n    <tr>\n      <th>269</th>\n      <td>1</td>\n      <td>1</td>\n      <td>39.3</td>\n      <td>64</td>\n      <td>90</td>\n      <td>2</td>\n      <td>&lt;NA&gt;</td>\n      <td>1</td>\n    </tr>\n    <tr>\n      <th>295</th>\n      <td>1</td>\n      <td>1</td>\n      <td>NaN</td>\n      <td>120</td>\n      <td>70</td>\n      <td>4</td>\n      <td>2</td>\n      <td>3</td>\n    </tr>\n  </tbody>\n</table>\n</div>"
     },
     "execution_count": 199,
     "metadata": {},
     "output_type": "execute_result"
    }
   ],
   "source": [
    "# отдельно по колонкам\n",
    "\n",
    "# pulse\n",
    "\n",
    "rr = calc_params(df['respiratory rate'])\n",
    "print(rr)\n",
    "# какие значения попали в выбросы\n",
    "df[(df['respiratory rate'] < rr['lower outlier']) | (df['respiratory rate'] > rr['higher outlier'])]"
   ],
   "metadata": {
    "collapsed": false,
    "pycharm": {
     "name": "#%%\n"
    }
   }
  },
  {
   "cell_type": "markdown",
   "source": [
    "***respiratory rate***\n",
    "17 значений выброса. Работать с этими данными можно, т.к. дыхание вполне может превышать норму, а значения не являются аномально высокими или низкими, что исключает вариант неверных данных, а скорее всего является причиной заболевания."
   ],
   "metadata": {
    "collapsed": false
   }
  },
  {
   "cell_type": "markdown",
   "source": [],
   "metadata": {
    "collapsed": false
   }
  },
  {
   "cell_type": "code",
   "execution_count": 250,
   "outputs": [
    {
     "name": "stdout",
     "output_type": "stream",
     "text": [
      "    surgery?  Age  rectal temperature  pulse  respiratory rate  \\\n",
      "5          2    1                 NaN   <NA>              <NA>   \n",
      "7          1    1                 NaN     60              <NA>   \n",
      "8          2    1                 NaN     80                36   \n",
      "16         1    2                 NaN    128                36   \n",
      "28         1    1                 NaN   <NA>              <NA>   \n",
      "34         1    1                 NaN    100                30   \n",
      "35         2    1                 NaN    104                24   \n",
      "40         1    1                 NaN     88              <NA>   \n",
      "43         1    1                 NaN    120              <NA>   \n",
      "45         2    1                 NaN    120              <NA>   \n",
      "52         2    1                 NaN   <NA>              <NA>   \n",
      "56         1    1                 NaN   <NA>              <NA>   \n",
      "57         1    1                 NaN     64                36   \n",
      "58         1    1                 NaN   <NA>                20   \n",
      "59         2    1                 NaN     96              <NA>   \n",
      "65         1    1                 NaN     60                36   \n",
      "68         2    1                 NaN     52                16   \n",
      "74         1    2                 NaN   <NA>              <NA>   \n",
      "78         1    1                 NaN   <NA>              <NA>   \n",
      "86         1    1                 NaN     88                40   \n",
      "87         2    1                 NaN     40                16   \n",
      "93         2    1                 NaN   <NA>              <NA>   \n",
      "96         2    1                 NaN     84                36   \n",
      "101        1    1                 NaN     60                20   \n",
      "105        1    1                 NaN     70                36   \n",
      "110        1    1                 NaN     70                16   \n",
      "112        1    1                 NaN     40              <NA>   \n",
      "115        2    1                 NaN   <NA>                40   \n",
      "134        1    1                 NaN    100              <NA>   \n",
      "136        1    1                 NaN   <NA>              <NA>   \n",
      "142        1    1                 NaN    120              <NA>   \n",
      "145        2    1                 NaN     80                32   \n",
      "152        1    1                 NaN    100              <NA>   \n",
      "159        2    1                 NaN   <NA>                12   \n",
      "160        1    1                 NaN   <NA>              <NA>   \n",
      "167        2    1                 NaN     44                24   \n",
      "169        1    1                 NaN     65                24   \n",
      "173        1    1                 NaN    104              <NA>   \n",
      "174        2    1                 NaN   <NA>              <NA>   \n",
      "175        1    1                 NaN   <NA>              <NA>   \n",
      "177        1    1                 NaN     68                14   \n",
      "178        1    1                 NaN     60                30   \n",
      "191        2    2                 NaN    100                44   \n",
      "193        1    1                 NaN     60                48   \n",
      "207        1    1                 NaN   <NA>              <NA>   \n",
      "216        2    1                 NaN   <NA>              <NA>   \n",
      "219        1    1                 NaN     52                28   \n",
      "222        1    1                 NaN    112                13   \n",
      "227        1    2                 NaN   <NA>              <NA>   \n",
      "242        1    1                 NaN     36                32   \n",
      "245        2    1                 NaN     96              <NA>   \n",
      "253        2    1                 NaN    112                24   \n",
      "254        1    1                 NaN     80              <NA>   \n",
      "265        2    1                 NaN     56                68   \n",
      "272        1    1                 NaN    100                30   \n",
      "274        1    1                 NaN     76              <NA>   \n",
      "282        1    1                 NaN     70                16   \n",
      "288        1    1                 NaN   <NA>              <NA>   \n",
      "293        1    1                 NaN     78                24   \n",
      "295        1    1                 NaN    120                70   \n",
      "\n",
      "    temperature of extremities pain outcome  \n",
      "5                            2    2       1  \n",
      "7                            3  NaN       2  \n",
      "8                            3    4       3  \n",
      "16                           3    4       2  \n",
      "28                         NaN  NaN       2  \n",
      "34                           3    5       1  \n",
      "35                           4    4       3  \n",
      "40                           3    5       2  \n",
      "43                           3    4       3  \n",
      "45                           4    5       2  \n",
      "52                           1    1       1  \n",
      "56                         NaN  NaN       1  \n",
      "57                           2    5       2  \n",
      "58                           4    5       2  \n",
      "59                           3    5       2  \n",
      "65                           3    3       1  \n",
      "68                           1  NaN       1  \n",
      "74                         NaN  NaN       2  \n",
      "78                           3    5       2  \n",
      "86                           3    5       2  \n",
      "87                         NaN  NaN       3  \n",
      "93                           3    5       2  \n",
      "96                         NaN  NaN       1  \n",
      "101                          4    5       3  \n",
      "105                          1    2       1  \n",
      "110                          3    2       2  \n",
      "112                          2    1       1  \n",
      "115                          3    3       1  \n",
      "134                          3    5       2  \n",
      "136                          3    5       2  \n",
      "142                          4    5       2  \n",
      "145                          3    2       1  \n",
      "152                          3  NaN       1  \n",
      "159                          1    2       1  \n",
      "160                        NaN    4       1  \n",
      "167                          1    3       1  \n",
      "169                        NaN    5       3  \n",
      "173                          3    2       2  \n",
      "174                          3    4       2  \n",
      "175                        NaN  NaN       1  \n",
      "177                        NaN    4       2  \n",
      "178                          3    5       1  \n",
      "191                          2    4       1  \n",
      "193                          3    4       2  \n",
      "207                        NaN  NaN       2  \n",
      "216                        NaN  NaN       1  \n",
      "219                          3    3       1  \n",
      "222                          4    2       1  \n",
      "227                        NaN  NaN       1  \n",
      "242                          1    5       2  \n",
      "245                          3    5       2  \n",
      "253                          3    5       1  \n",
      "254                          3    4       1  \n",
      "265                          3    3       3  \n",
      "272                          3    5       1  \n",
      "274                        NaN  NaN       3  \n",
      "282                          3    2       2  \n",
      "288                        NaN  NaN       1  \n",
      "293                          3  NaN       3  \n",
      "295                          4    2       3  \n"
     ]
    },
    {
     "data": {
      "text/plain": "60"
     },
     "execution_count": 250,
     "metadata": {},
     "output_type": "execute_result"
    }
   ],
   "source": [
    "# rectal temperature\n",
    "rt_nan = df[df['rectal temperature'].isna()]\n",
    "print(rt_nan)\n",
    "len(rt_nan)"
   ],
   "metadata": {
    "collapsed": false,
    "pycharm": {
     "name": "#%%\n"
    }
   }
  },
  {
   "cell_type": "code",
   "execution_count": 252,
   "outputs": [
    {
     "name": "stdout",
     "output_type": "stream",
     "text": [
      "    surgery?  Age  rectal temperature  pulse  respiratory rate  \\\n",
      "5          2    1                 NaN   <NA>              <NA>   \n",
      "28         1    1                 NaN   <NA>              <NA>   \n",
      "52         2    1                 NaN   <NA>              <NA>   \n",
      "56         1    1                 NaN   <NA>              <NA>   \n",
      "58         1    1                 NaN   <NA>                20   \n",
      "74         1    2                 NaN   <NA>              <NA>   \n",
      "78         1    1                 NaN   <NA>              <NA>   \n",
      "83         1    1                38.0   <NA>                24   \n",
      "93         2    1                 NaN   <NA>              <NA>   \n",
      "115        2    1                 NaN   <NA>                40   \n",
      "117        2    1                39.5   <NA>              <NA>   \n",
      "126        1    1                38.7   <NA>              <NA>   \n",
      "136        1    1                 NaN   <NA>              <NA>   \n",
      "151        1    1                39.3   <NA>              <NA>   \n",
      "159        2    1                 NaN   <NA>                12   \n",
      "160        1    1                 NaN   <NA>              <NA>   \n",
      "174        2    1                 NaN   <NA>              <NA>   \n",
      "175        1    1                 NaN   <NA>              <NA>   \n",
      "182        1    1                38.0   <NA>                24   \n",
      "204        1    1                39.2   <NA>                23   \n",
      "207        1    1                 NaN   <NA>              <NA>   \n",
      "216        2    1                 NaN   <NA>              <NA>   \n",
      "227        1    2                 NaN   <NA>              <NA>   \n",
      "288        1    1                 NaN   <NA>              <NA>   \n",
      "\n",
      "    temperature of extremities pain outcome  \n",
      "5                            2    2       1  \n",
      "28                         NaN  NaN       2  \n",
      "52                           1    1       1  \n",
      "56                         NaN  NaN       1  \n",
      "58                           4    5       2  \n",
      "74                         NaN  NaN       2  \n",
      "78                           3    5       2  \n",
      "83                           3    5       2  \n",
      "93                           3    5       2  \n",
      "115                          3    3       1  \n",
      "117                          3    3       3  \n",
      "126                          3    5       1  \n",
      "136                          3    5       2  \n",
      "151                          4    4       2  \n",
      "159                          1    2       1  \n",
      "160                        NaN    4       1  \n",
      "174                          3    4       2  \n",
      "175                        NaN  NaN       1  \n",
      "182                          3    5       2  \n",
      "204                          3    4       1  \n",
      "207                        NaN  NaN       2  \n",
      "216                        NaN  NaN       1  \n",
      "227                        NaN  NaN       1  \n",
      "288                        NaN  NaN       1  \n"
     ]
    },
    {
     "data": {
      "text/plain": "24"
     },
     "execution_count": 252,
     "metadata": {},
     "output_type": "execute_result"
    }
   ],
   "source": [
    "# pulse\n",
    "pulse_nan = df[df['pulse'].isna()]\n",
    "print(pulse_nan)\n",
    "len(pulse_nan)"
   ],
   "metadata": {
    "collapsed": false,
    "pycharm": {
     "name": "#%%\n"
    }
   }
  },
  {
   "cell_type": "code",
   "execution_count": 254,
   "outputs": [
    {
     "name": "stdout",
     "output_type": "stream",
     "text": [
      "    surgery?  Age  rectal temperature  pulse  respiratory rate  \\\n",
      "5          2    1                 NaN   <NA>              <NA>   \n",
      "7          1    1                 NaN     60              <NA>   \n",
      "9          2    2                38.3     90              <NA>   \n",
      "28         1    1                 NaN   <NA>              <NA>   \n",
      "29         2    1                37.7     48              <NA>   \n",
      "32         1    1                37.2     60              <NA>   \n",
      "37         1    1                37.8     72              <NA>   \n",
      "38         2    1                38.6     52              <NA>   \n",
      "40         1    1                 NaN     88              <NA>   \n",
      "43         1    1                 NaN    120              <NA>   \n",
      "45         2    1                 NaN    120              <NA>   \n",
      "50         2    1                38.6     46              <NA>   \n",
      "52         2    1                 NaN   <NA>              <NA>   \n",
      "56         1    1                 NaN   <NA>              <NA>   \n",
      "59         2    1                 NaN     96              <NA>   \n",
      "61         2    1                38.5     60              <NA>   \n",
      "66         2    1                37.9     72              <NA>   \n",
      "72         1    1                37.7     56              <NA>   \n",
      "74         1    2                 NaN   <NA>              <NA>   \n",
      "75         1    2                39.7    100              <NA>   \n",
      "78         1    1                 NaN   <NA>              <NA>   \n",
      "81         1    1                37.3     40              <NA>   \n",
      "93         2    1                 NaN   <NA>              <NA>   \n",
      "112        1    1                 NaN     40              <NA>   \n",
      "117        2    1                39.5   <NA>              <NA>   \n",
      "126        1    1                38.7   <NA>              <NA>   \n",
      "129        1    1                38.4     49              <NA>   \n",
      "134        1    1                 NaN    100              <NA>   \n",
      "136        1    1                 NaN   <NA>              <NA>   \n",
      "137        1    1                38.0     48              <NA>   \n",
      "138        2    1                38.0     56              <NA>   \n",
      "142        1    1                 NaN    120              <NA>   \n",
      "146        1    1                38.2     48              <NA>   \n",
      "148        1    1                38.3    132              <NA>   \n",
      "151        1    1                39.3   <NA>              <NA>   \n",
      "152        1    1                 NaN    100              <NA>   \n",
      "160        1    1                 NaN   <NA>              <NA>   \n",
      "164        1    1                38.7     76              <NA>   \n",
      "173        1    1                 NaN    104              <NA>   \n",
      "174        2    1                 NaN   <NA>              <NA>   \n",
      "175        1    1                 NaN   <NA>              <NA>   \n",
      "179        2    1                38.5    100              <NA>   \n",
      "188        1    1                38.5     60              <NA>   \n",
      "201        1    1                38.5     86              <NA>   \n",
      "205        2    1                38.5    100              <NA>   \n",
      "207        1    1                 NaN   <NA>              <NA>   \n",
      "216        2    1                 NaN   <NA>              <NA>   \n",
      "227        1    2                 NaN   <NA>              <NA>   \n",
      "238        2    1                36.1     88              <NA>   \n",
      "245        2    1                 NaN     96              <NA>   \n",
      "249        2    1                38.2     48              <NA>   \n",
      "254        1    1                 NaN     80              <NA>   \n",
      "256        1    1                37.5     72              <NA>   \n",
      "271        1    1                37.7     80              <NA>   \n",
      "274        1    1                 NaN     76              <NA>   \n",
      "281        2    1                40.0     78              <NA>   \n",
      "284        2    1                38.5     54              <NA>   \n",
      "288        1    1                 NaN   <NA>              <NA>   \n",
      "\n",
      "    temperature of extremities pain outcome  \n",
      "5                            2    2       1  \n",
      "7                            3  NaN       2  \n",
      "9                            1    5       1  \n",
      "28                         NaN  NaN       2  \n",
      "29                           2    1       1  \n",
      "32                           2    3       1  \n",
      "37                         NaN    5       1  \n",
      "38                           1    3       1  \n",
      "40                           3    5       2  \n",
      "43                           3    4       3  \n",
      "45                           4    5       2  \n",
      "50                           1    1       1  \n",
      "52                           1    1       1  \n",
      "56                         NaN  NaN       1  \n",
      "59                           3    5       2  \n",
      "61                           2    1       1  \n",
      "66                           1    3       1  \n",
      "72                         NaN  NaN       2  \n",
      "74                         NaN  NaN       2  \n",
      "75                           3    2       3  \n",
      "78                           3    5       2  \n",
      "81                         NaN    2       1  \n",
      "93                           3    5       2  \n",
      "112                          2    1       1  \n",
      "117                          3    3       3  \n",
      "126                          3    5       1  \n",
      "129                        NaN  NaN       1  \n",
      "134                          3    5       2  \n",
      "136                          3    5       2  \n",
      "137                          1    1       1  \n",
      "138                          1    1       1  \n",
      "142                          4    5       2  \n",
      "146                          1    3       1  \n",
      "148                        NaN    2       1  \n",
      "151                          4    4       2  \n",
      "152                          3  NaN       1  \n",
      "160                        NaN    4       1  \n",
      "164                          1    3       1  \n",
      "173                          3    2       2  \n",
      "174                          3    4       2  \n",
      "175                        NaN  NaN       1  \n",
      "179                          3    4       3  \n",
      "188                          1  NaN       1  \n",
      "201                          1    4       2  \n",
      "205                          3    4       3  \n",
      "207                        NaN  NaN       2  \n",
      "216                        NaN  NaN       1  \n",
      "227                        NaN  NaN       1  \n",
      "238                          3    3       3  \n",
      "245                          3    5       2  \n",
      "249                          2    3       1  \n",
      "254                          3    4       1  \n",
      "256                          2    2       3  \n",
      "271                          3    5       1  \n",
      "274                        NaN  NaN       3  \n",
      "281                          3    2       2  \n",
      "284                          1    3       1  \n",
      "288                        NaN  NaN       1  \n"
     ]
    },
    {
     "data": {
      "text/plain": "58"
     },
     "execution_count": 254,
     "metadata": {},
     "output_type": "execute_result"
    }
   ],
   "source": [
    "# respiratory rate\n",
    "rr_nan = df[df['respiratory rate'].isna()]\n",
    "print(rr_nan)\n",
    "len(rr_nan)"
   ],
   "metadata": {
    "collapsed": false,
    "pycharm": {
     "name": "#%%\n"
    }
   }
  },
  {
   "cell_type": "code",
   "execution_count": 248,
   "outputs": [
    {
     "data": {
      "text/plain": "    surgery?  Age  rectal temperature  pulse  respiratory rate  \\\n1          1    1                39.2     88                20   \n4          2    1                37.3    104                35   \n5          2    1                 NaN   <NA>              <NA>   \n7          1    1                 NaN     60              <NA>   \n8          2    1                 NaN     80                36   \n..       ...  ...                 ...    ...               ...   \n288        1    1                 NaN   <NA>              <NA>   \n289        1    1                38.0     50                36   \n293        1    1                 NaN     78                24   \n295        1    1                 NaN    120                70   \n299        1    1                37.2     40                20   \n\n    temperature of extremities pain outcome  \n1                          NaN    3       3  \n4                          NaN  NaN       2  \n5                            2    2       1  \n7                            3  NaN       2  \n8                            3    4       3  \n..                         ...  ...     ...  \n288                        NaN  NaN       1  \n289                        NaN    3       1  \n293                          3  NaN       3  \n295                          4    2       3  \n299                        NaN  NaN       3  \n\n[146 rows x 8 columns]",
      "text/html": "<div>\n<style scoped>\n    .dataframe tbody tr th:only-of-type {\n        vertical-align: middle;\n    }\n\n    .dataframe tbody tr th {\n        vertical-align: top;\n    }\n\n    .dataframe thead th {\n        text-align: right;\n    }\n</style>\n<table border=\"1\" class=\"dataframe\">\n  <thead>\n    <tr style=\"text-align: right;\">\n      <th></th>\n      <th>surgery?</th>\n      <th>Age</th>\n      <th>rectal temperature</th>\n      <th>pulse</th>\n      <th>respiratory rate</th>\n      <th>temperature of extremities</th>\n      <th>pain</th>\n      <th>outcome</th>\n    </tr>\n  </thead>\n  <tbody>\n    <tr>\n      <th>1</th>\n      <td>1</td>\n      <td>1</td>\n      <td>39.2</td>\n      <td>88</td>\n      <td>20</td>\n      <td>NaN</td>\n      <td>3</td>\n      <td>3</td>\n    </tr>\n    <tr>\n      <th>4</th>\n      <td>2</td>\n      <td>1</td>\n      <td>37.3</td>\n      <td>104</td>\n      <td>35</td>\n      <td>NaN</td>\n      <td>NaN</td>\n      <td>2</td>\n    </tr>\n    <tr>\n      <th>5</th>\n      <td>2</td>\n      <td>1</td>\n      <td>NaN</td>\n      <td>&lt;NA&gt;</td>\n      <td>&lt;NA&gt;</td>\n      <td>2</td>\n      <td>2</td>\n      <td>1</td>\n    </tr>\n    <tr>\n      <th>7</th>\n      <td>1</td>\n      <td>1</td>\n      <td>NaN</td>\n      <td>60</td>\n      <td>&lt;NA&gt;</td>\n      <td>3</td>\n      <td>NaN</td>\n      <td>2</td>\n    </tr>\n    <tr>\n      <th>8</th>\n      <td>2</td>\n      <td>1</td>\n      <td>NaN</td>\n      <td>80</td>\n      <td>36</td>\n      <td>3</td>\n      <td>4</td>\n      <td>3</td>\n    </tr>\n    <tr>\n      <th>...</th>\n      <td>...</td>\n      <td>...</td>\n      <td>...</td>\n      <td>...</td>\n      <td>...</td>\n      <td>...</td>\n      <td>...</td>\n      <td>...</td>\n    </tr>\n    <tr>\n      <th>288</th>\n      <td>1</td>\n      <td>1</td>\n      <td>NaN</td>\n      <td>&lt;NA&gt;</td>\n      <td>&lt;NA&gt;</td>\n      <td>NaN</td>\n      <td>NaN</td>\n      <td>1</td>\n    </tr>\n    <tr>\n      <th>289</th>\n      <td>1</td>\n      <td>1</td>\n      <td>38.0</td>\n      <td>50</td>\n      <td>36</td>\n      <td>NaN</td>\n      <td>3</td>\n      <td>1</td>\n    </tr>\n    <tr>\n      <th>293</th>\n      <td>1</td>\n      <td>1</td>\n      <td>NaN</td>\n      <td>78</td>\n      <td>24</td>\n      <td>3</td>\n      <td>NaN</td>\n      <td>3</td>\n    </tr>\n    <tr>\n      <th>295</th>\n      <td>1</td>\n      <td>1</td>\n      <td>NaN</td>\n      <td>120</td>\n      <td>70</td>\n      <td>4</td>\n      <td>2</td>\n      <td>3</td>\n    </tr>\n    <tr>\n      <th>299</th>\n      <td>1</td>\n      <td>1</td>\n      <td>37.2</td>\n      <td>40</td>\n      <td>20</td>\n      <td>NaN</td>\n      <td>NaN</td>\n      <td>3</td>\n    </tr>\n  </tbody>\n</table>\n<p>146 rows × 8 columns</p>\n</div>"
     },
     "execution_count": 248,
     "metadata": {},
     "output_type": "execute_result"
    }
   ],
   "source": [
    "all_nan = df[df.isnull().any(1)]"
   ],
   "metadata": {
    "collapsed": false,
    "pycharm": {
     "name": "#%%\n"
    }
   }
  },
  {
   "cell_type": "code",
   "execution_count": 296,
   "outputs": [
    {
     "name": "stdout",
     "output_type": "stream",
     "text": [
      "    surgery?  Age  rectal temperature  pulse  respiratory rate  \\\n",
      "132      NaN    1                38.0     48                20   \n",
      "\n",
      "    temperature of extremities pain outcome  \n",
      "132                          3    4     NaN  \n",
      "1    11\n",
      "2     7\n",
      "Name: surgery?, dtype: int64\n"
     ]
    }
   ],
   "source": [
    "fill_na_df = df.copy()\n",
    "\n",
    "# surgery\n",
    "print(fill_na_df[fill_na_df['surgery?'].isnull()])\n",
    "# для заполнения этого значения можно вернуть источнику данных для уточнения, т.к. значение всего одно. Но при этом мы не знаем так же результат.\n",
    "# Но можно проанализировать данные и посмотреть какие значения есть у выборки лошадей в том же возрасте с теми же симптомами\n",
    "print(fill_na_df[\n",
    "          (fill_na_df['Age'] == 1)\n",
    "          & (fill_na_df['temperature of extremities'] == '3')\n",
    "          & (fill_na_df['pain'] == '4')]['surgery?'].value_counts())\n",
    "# С похожими симптомами есть 18 лошадей и 11 из них surgery? = 11.\n",
    "# Заполним таким же значением - 1\n",
    "fill_na_df['surgery?'] = fill_na_df['surgery?'].fillna('1')"
   ],
   "metadata": {
    "collapsed": false,
    "pycharm": {
     "name": "#%%\n"
    }
   }
  },
  {
   "cell_type": "code",
   "execution_count": 339,
   "outputs": [
    {
     "name": "stdout",
     "output_type": "stream",
     "text": [
      "temperature of extremities\n",
      "1    38.15\n",
      "2    38.20\n",
      "3    38.10\n",
      "4    38.35\n",
      "Name: rectal temperature, dtype: float64\n",
      "Было:  {'mean': 38.16791666666667, 'moda': 38.0, 'median': 38.2, 'disp': 0.5362466875871686, 'min': 35.4, 'max': 40.8, 'std': 0.7322886641121578, 'q1': 37.8, 'q3': 38.5, 'IQR': 0.7000000000000028, 'lower outlier': 36.74999999999999, 'higher outlier': 39.550000000000004}\n",
      "Стало:  {'mean': 38.1625, 'moda': 38.1, 'median': 38.1, 'disp': 0.43006897993311016, 'min': 35.4, 'max': 40.8, 'std': 0.6557964470269034, 'q1': 37.9, 'q3': 38.5, 'IQR': 0.6000000000000014, 'lower outlier': 37.0, 'higher outlier': 39.400000000000006}\n"
     ]
    }
   ],
   "source": [
    "# rectal temperature\n",
    "print(fill_na_df.groupby('temperature of extremities')['rectal temperature'].median())\n",
    "# 60 судя по выборке пропуски MCAR, но заметна зависимость от temperature of extremities, заполнить значениями медиан по группам\n",
    "# fill_na_df[fill_na_df['temperature of extremities'] == key]\n",
    "\n",
    "fill_na_df['rectal temperature'] = fill_na_df['rectal temperature'].fillna(fill_na_df.groupby('temperature of extremities')['rectal temperature'].transform('median'))\n",
    "\n",
    "# Остались несколько значение т.к. в temperature of extremities есть пропуски. Заполним общей медианой\n",
    "fill_na_df['rectal temperature'] = fill_na_df['rectal temperature'].fillna(fill_na_df['rectal temperature'].median())\n",
    "\n",
    "print('Было: ', rt)\n",
    "print('Стало: ', calc_params(fill_na_df['rectal temperature']))"
   ],
   "metadata": {
    "collapsed": false,
    "pycharm": {
     "name": "#%%\n"
    }
   }
  },
  {
   "cell_type": "code",
   "execution_count": 340,
   "outputs": [
    {
     "data": {
      "text/plain": "    surgery?  Age  rectal temperature  pulse  respiratory rate  \\\n5          2    1               38.20   <NA>              <NA>   \n7          1    1               38.10     60              <NA>   \n9          2    2               38.30     90              <NA>   \n28         1    1               38.10   <NA>              <NA>   \n29         2    1               37.70     48              <NA>   \n32         1    1               37.20     60              <NA>   \n37         1    1               37.80     72              <NA>   \n38         2    1               38.60     52              <NA>   \n40         1    1               38.10     88              <NA>   \n43         1    1               38.10    120              <NA>   \n45         2    1               38.35    120              <NA>   \n50         2    1               38.60     46              <NA>   \n52         2    1               38.15   <NA>              <NA>   \n56         1    1               38.10   <NA>              <NA>   \n59         2    1               38.10     96              <NA>   \n61         2    1               38.50     60              <NA>   \n66         2    1               37.90     72              <NA>   \n72         1    1               37.70     56              <NA>   \n74         1    2               38.10   <NA>              <NA>   \n75         1    2               39.70    100              <NA>   \n78         1    1               38.10   <NA>              <NA>   \n81         1    1               37.30     40              <NA>   \n93         2    1               38.10   <NA>              <NA>   \n112        1    1               38.20     40              <NA>   \n117        2    1               39.50   <NA>              <NA>   \n126        1    1               38.70   <NA>              <NA>   \n129        1    1               38.40     49              <NA>   \n134        1    1               38.10    100              <NA>   \n136        1    1               38.10   <NA>              <NA>   \n137        1    1               38.00     48              <NA>   \n138        2    1               38.00     56              <NA>   \n142        1    1               38.35    120              <NA>   \n146        1    1               38.20     48              <NA>   \n148        1    1               38.30    132              <NA>   \n151        1    1               39.30   <NA>              <NA>   \n152        1    1               38.10    100              <NA>   \n160        1    1               38.10   <NA>              <NA>   \n164        1    1               38.70     76              <NA>   \n173        1    1               38.10    104              <NA>   \n174        2    1               38.10   <NA>              <NA>   \n175        1    1               38.10   <NA>              <NA>   \n179        2    1               38.50    100              <NA>   \n188        1    1               38.50     60              <NA>   \n201        1    1               38.50     86              <NA>   \n205        2    1               38.50    100              <NA>   \n207        1    1               38.10   <NA>              <NA>   \n216        2    1               38.10   <NA>              <NA>   \n227        1    2               38.10   <NA>              <NA>   \n238        2    1               36.10     88              <NA>   \n245        2    1               38.10     96              <NA>   \n249        2    1               38.20     48              <NA>   \n254        1    1               38.10     80              <NA>   \n256        1    1               37.50     72              <NA>   \n271        1    1               37.70     80              <NA>   \n274        1    1               38.10     76              <NA>   \n281        2    1               40.00     78              <NA>   \n284        2    1               38.50     54              <NA>   \n288        1    1               38.10   <NA>              <NA>   \n\n    temperature of extremities pain outcome  \n5                            2    2       1  \n7                            3  NaN       2  \n9                            1    5       1  \n28                         NaN  NaN       2  \n29                           2    1       1  \n32                           2    3       1  \n37                         NaN    5       1  \n38                           1    3       1  \n40                           3    5       2  \n43                           3    4       3  \n45                           4    5       2  \n50                           1    1       1  \n52                           1    1       1  \n56                         NaN  NaN       1  \n59                           3    5       2  \n61                           2    1       1  \n66                           1    3       1  \n72                         NaN  NaN       2  \n74                         NaN  NaN       2  \n75                           3    2       3  \n78                           3    5       2  \n81                         NaN    2       1  \n93                           3    5       2  \n112                          2    1       1  \n117                          3    3       3  \n126                          3    5       1  \n129                        NaN  NaN       1  \n134                          3    5       2  \n136                          3    5       2  \n137                          1    1       1  \n138                          1    1       1  \n142                          4    5       2  \n146                          1    3       1  \n148                        NaN    2       1  \n151                          4    4       2  \n152                          3  NaN       1  \n160                        NaN    4       1  \n164                          1    3       1  \n173                          3    2       2  \n174                          3    4       2  \n175                        NaN  NaN       1  \n179                          3    4       3  \n188                          1  NaN       1  \n201                          1    4       2  \n205                          3    4       3  \n207                        NaN  NaN       2  \n216                        NaN  NaN       1  \n227                        NaN  NaN       1  \n238                          3    3       3  \n245                          3    5       2  \n249                          2    3       1  \n254                          3    4       1  \n256                          2    2       3  \n271                          3    5       1  \n274                        NaN  NaN       3  \n281                          3    2       2  \n284                          1    3       1  \n288                        NaN  NaN       1  ",
      "text/html": "<div>\n<style scoped>\n    .dataframe tbody tr th:only-of-type {\n        vertical-align: middle;\n    }\n\n    .dataframe tbody tr th {\n        vertical-align: top;\n    }\n\n    .dataframe thead th {\n        text-align: right;\n    }\n</style>\n<table border=\"1\" class=\"dataframe\">\n  <thead>\n    <tr style=\"text-align: right;\">\n      <th></th>\n      <th>surgery?</th>\n      <th>Age</th>\n      <th>rectal temperature</th>\n      <th>pulse</th>\n      <th>respiratory rate</th>\n      <th>temperature of extremities</th>\n      <th>pain</th>\n      <th>outcome</th>\n    </tr>\n  </thead>\n  <tbody>\n    <tr>\n      <th>5</th>\n      <td>2</td>\n      <td>1</td>\n      <td>38.20</td>\n      <td>&lt;NA&gt;</td>\n      <td>&lt;NA&gt;</td>\n      <td>2</td>\n      <td>2</td>\n      <td>1</td>\n    </tr>\n    <tr>\n      <th>7</th>\n      <td>1</td>\n      <td>1</td>\n      <td>38.10</td>\n      <td>60</td>\n      <td>&lt;NA&gt;</td>\n      <td>3</td>\n      <td>NaN</td>\n      <td>2</td>\n    </tr>\n    <tr>\n      <th>9</th>\n      <td>2</td>\n      <td>2</td>\n      <td>38.30</td>\n      <td>90</td>\n      <td>&lt;NA&gt;</td>\n      <td>1</td>\n      <td>5</td>\n      <td>1</td>\n    </tr>\n    <tr>\n      <th>28</th>\n      <td>1</td>\n      <td>1</td>\n      <td>38.10</td>\n      <td>&lt;NA&gt;</td>\n      <td>&lt;NA&gt;</td>\n      <td>NaN</td>\n      <td>NaN</td>\n      <td>2</td>\n    </tr>\n    <tr>\n      <th>29</th>\n      <td>2</td>\n      <td>1</td>\n      <td>37.70</td>\n      <td>48</td>\n      <td>&lt;NA&gt;</td>\n      <td>2</td>\n      <td>1</td>\n      <td>1</td>\n    </tr>\n    <tr>\n      <th>32</th>\n      <td>1</td>\n      <td>1</td>\n      <td>37.20</td>\n      <td>60</td>\n      <td>&lt;NA&gt;</td>\n      <td>2</td>\n      <td>3</td>\n      <td>1</td>\n    </tr>\n    <tr>\n      <th>37</th>\n      <td>1</td>\n      <td>1</td>\n      <td>37.80</td>\n      <td>72</td>\n      <td>&lt;NA&gt;</td>\n      <td>NaN</td>\n      <td>5</td>\n      <td>1</td>\n    </tr>\n    <tr>\n      <th>38</th>\n      <td>2</td>\n      <td>1</td>\n      <td>38.60</td>\n      <td>52</td>\n      <td>&lt;NA&gt;</td>\n      <td>1</td>\n      <td>3</td>\n      <td>1</td>\n    </tr>\n    <tr>\n      <th>40</th>\n      <td>1</td>\n      <td>1</td>\n      <td>38.10</td>\n      <td>88</td>\n      <td>&lt;NA&gt;</td>\n      <td>3</td>\n      <td>5</td>\n      <td>2</td>\n    </tr>\n    <tr>\n      <th>43</th>\n      <td>1</td>\n      <td>1</td>\n      <td>38.10</td>\n      <td>120</td>\n      <td>&lt;NA&gt;</td>\n      <td>3</td>\n      <td>4</td>\n      <td>3</td>\n    </tr>\n    <tr>\n      <th>45</th>\n      <td>2</td>\n      <td>1</td>\n      <td>38.35</td>\n      <td>120</td>\n      <td>&lt;NA&gt;</td>\n      <td>4</td>\n      <td>5</td>\n      <td>2</td>\n    </tr>\n    <tr>\n      <th>50</th>\n      <td>2</td>\n      <td>1</td>\n      <td>38.60</td>\n      <td>46</td>\n      <td>&lt;NA&gt;</td>\n      <td>1</td>\n      <td>1</td>\n      <td>1</td>\n    </tr>\n    <tr>\n      <th>52</th>\n      <td>2</td>\n      <td>1</td>\n      <td>38.15</td>\n      <td>&lt;NA&gt;</td>\n      <td>&lt;NA&gt;</td>\n      <td>1</td>\n      <td>1</td>\n      <td>1</td>\n    </tr>\n    <tr>\n      <th>56</th>\n      <td>1</td>\n      <td>1</td>\n      <td>38.10</td>\n      <td>&lt;NA&gt;</td>\n      <td>&lt;NA&gt;</td>\n      <td>NaN</td>\n      <td>NaN</td>\n      <td>1</td>\n    </tr>\n    <tr>\n      <th>59</th>\n      <td>2</td>\n      <td>1</td>\n      <td>38.10</td>\n      <td>96</td>\n      <td>&lt;NA&gt;</td>\n      <td>3</td>\n      <td>5</td>\n      <td>2</td>\n    </tr>\n    <tr>\n      <th>61</th>\n      <td>2</td>\n      <td>1</td>\n      <td>38.50</td>\n      <td>60</td>\n      <td>&lt;NA&gt;</td>\n      <td>2</td>\n      <td>1</td>\n      <td>1</td>\n    </tr>\n    <tr>\n      <th>66</th>\n      <td>2</td>\n      <td>1</td>\n      <td>37.90</td>\n      <td>72</td>\n      <td>&lt;NA&gt;</td>\n      <td>1</td>\n      <td>3</td>\n      <td>1</td>\n    </tr>\n    <tr>\n      <th>72</th>\n      <td>1</td>\n      <td>1</td>\n      <td>37.70</td>\n      <td>56</td>\n      <td>&lt;NA&gt;</td>\n      <td>NaN</td>\n      <td>NaN</td>\n      <td>2</td>\n    </tr>\n    <tr>\n      <th>74</th>\n      <td>1</td>\n      <td>2</td>\n      <td>38.10</td>\n      <td>&lt;NA&gt;</td>\n      <td>&lt;NA&gt;</td>\n      <td>NaN</td>\n      <td>NaN</td>\n      <td>2</td>\n    </tr>\n    <tr>\n      <th>75</th>\n      <td>1</td>\n      <td>2</td>\n      <td>39.70</td>\n      <td>100</td>\n      <td>&lt;NA&gt;</td>\n      <td>3</td>\n      <td>2</td>\n      <td>3</td>\n    </tr>\n    <tr>\n      <th>78</th>\n      <td>1</td>\n      <td>1</td>\n      <td>38.10</td>\n      <td>&lt;NA&gt;</td>\n      <td>&lt;NA&gt;</td>\n      <td>3</td>\n      <td>5</td>\n      <td>2</td>\n    </tr>\n    <tr>\n      <th>81</th>\n      <td>1</td>\n      <td>1</td>\n      <td>37.30</td>\n      <td>40</td>\n      <td>&lt;NA&gt;</td>\n      <td>NaN</td>\n      <td>2</td>\n      <td>1</td>\n    </tr>\n    <tr>\n      <th>93</th>\n      <td>2</td>\n      <td>1</td>\n      <td>38.10</td>\n      <td>&lt;NA&gt;</td>\n      <td>&lt;NA&gt;</td>\n      <td>3</td>\n      <td>5</td>\n      <td>2</td>\n    </tr>\n    <tr>\n      <th>112</th>\n      <td>1</td>\n      <td>1</td>\n      <td>38.20</td>\n      <td>40</td>\n      <td>&lt;NA&gt;</td>\n      <td>2</td>\n      <td>1</td>\n      <td>1</td>\n    </tr>\n    <tr>\n      <th>117</th>\n      <td>2</td>\n      <td>1</td>\n      <td>39.50</td>\n      <td>&lt;NA&gt;</td>\n      <td>&lt;NA&gt;</td>\n      <td>3</td>\n      <td>3</td>\n      <td>3</td>\n    </tr>\n    <tr>\n      <th>126</th>\n      <td>1</td>\n      <td>1</td>\n      <td>38.70</td>\n      <td>&lt;NA&gt;</td>\n      <td>&lt;NA&gt;</td>\n      <td>3</td>\n      <td>5</td>\n      <td>1</td>\n    </tr>\n    <tr>\n      <th>129</th>\n      <td>1</td>\n      <td>1</td>\n      <td>38.40</td>\n      <td>49</td>\n      <td>&lt;NA&gt;</td>\n      <td>NaN</td>\n      <td>NaN</td>\n      <td>1</td>\n    </tr>\n    <tr>\n      <th>134</th>\n      <td>1</td>\n      <td>1</td>\n      <td>38.10</td>\n      <td>100</td>\n      <td>&lt;NA&gt;</td>\n      <td>3</td>\n      <td>5</td>\n      <td>2</td>\n    </tr>\n    <tr>\n      <th>136</th>\n      <td>1</td>\n      <td>1</td>\n      <td>38.10</td>\n      <td>&lt;NA&gt;</td>\n      <td>&lt;NA&gt;</td>\n      <td>3</td>\n      <td>5</td>\n      <td>2</td>\n    </tr>\n    <tr>\n      <th>137</th>\n      <td>1</td>\n      <td>1</td>\n      <td>38.00</td>\n      <td>48</td>\n      <td>&lt;NA&gt;</td>\n      <td>1</td>\n      <td>1</td>\n      <td>1</td>\n    </tr>\n    <tr>\n      <th>138</th>\n      <td>2</td>\n      <td>1</td>\n      <td>38.00</td>\n      <td>56</td>\n      <td>&lt;NA&gt;</td>\n      <td>1</td>\n      <td>1</td>\n      <td>1</td>\n    </tr>\n    <tr>\n      <th>142</th>\n      <td>1</td>\n      <td>1</td>\n      <td>38.35</td>\n      <td>120</td>\n      <td>&lt;NA&gt;</td>\n      <td>4</td>\n      <td>5</td>\n      <td>2</td>\n    </tr>\n    <tr>\n      <th>146</th>\n      <td>1</td>\n      <td>1</td>\n      <td>38.20</td>\n      <td>48</td>\n      <td>&lt;NA&gt;</td>\n      <td>1</td>\n      <td>3</td>\n      <td>1</td>\n    </tr>\n    <tr>\n      <th>148</th>\n      <td>1</td>\n      <td>1</td>\n      <td>38.30</td>\n      <td>132</td>\n      <td>&lt;NA&gt;</td>\n      <td>NaN</td>\n      <td>2</td>\n      <td>1</td>\n    </tr>\n    <tr>\n      <th>151</th>\n      <td>1</td>\n      <td>1</td>\n      <td>39.30</td>\n      <td>&lt;NA&gt;</td>\n      <td>&lt;NA&gt;</td>\n      <td>4</td>\n      <td>4</td>\n      <td>2</td>\n    </tr>\n    <tr>\n      <th>152</th>\n      <td>1</td>\n      <td>1</td>\n      <td>38.10</td>\n      <td>100</td>\n      <td>&lt;NA&gt;</td>\n      <td>3</td>\n      <td>NaN</td>\n      <td>1</td>\n    </tr>\n    <tr>\n      <th>160</th>\n      <td>1</td>\n      <td>1</td>\n      <td>38.10</td>\n      <td>&lt;NA&gt;</td>\n      <td>&lt;NA&gt;</td>\n      <td>NaN</td>\n      <td>4</td>\n      <td>1</td>\n    </tr>\n    <tr>\n      <th>164</th>\n      <td>1</td>\n      <td>1</td>\n      <td>38.70</td>\n      <td>76</td>\n      <td>&lt;NA&gt;</td>\n      <td>1</td>\n      <td>3</td>\n      <td>1</td>\n    </tr>\n    <tr>\n      <th>173</th>\n      <td>1</td>\n      <td>1</td>\n      <td>38.10</td>\n      <td>104</td>\n      <td>&lt;NA&gt;</td>\n      <td>3</td>\n      <td>2</td>\n      <td>2</td>\n    </tr>\n    <tr>\n      <th>174</th>\n      <td>2</td>\n      <td>1</td>\n      <td>38.10</td>\n      <td>&lt;NA&gt;</td>\n      <td>&lt;NA&gt;</td>\n      <td>3</td>\n      <td>4</td>\n      <td>2</td>\n    </tr>\n    <tr>\n      <th>175</th>\n      <td>1</td>\n      <td>1</td>\n      <td>38.10</td>\n      <td>&lt;NA&gt;</td>\n      <td>&lt;NA&gt;</td>\n      <td>NaN</td>\n      <td>NaN</td>\n      <td>1</td>\n    </tr>\n    <tr>\n      <th>179</th>\n      <td>2</td>\n      <td>1</td>\n      <td>38.50</td>\n      <td>100</td>\n      <td>&lt;NA&gt;</td>\n      <td>3</td>\n      <td>4</td>\n      <td>3</td>\n    </tr>\n    <tr>\n      <th>188</th>\n      <td>1</td>\n      <td>1</td>\n      <td>38.50</td>\n      <td>60</td>\n      <td>&lt;NA&gt;</td>\n      <td>1</td>\n      <td>NaN</td>\n      <td>1</td>\n    </tr>\n    <tr>\n      <th>201</th>\n      <td>1</td>\n      <td>1</td>\n      <td>38.50</td>\n      <td>86</td>\n      <td>&lt;NA&gt;</td>\n      <td>1</td>\n      <td>4</td>\n      <td>2</td>\n    </tr>\n    <tr>\n      <th>205</th>\n      <td>2</td>\n      <td>1</td>\n      <td>38.50</td>\n      <td>100</td>\n      <td>&lt;NA&gt;</td>\n      <td>3</td>\n      <td>4</td>\n      <td>3</td>\n    </tr>\n    <tr>\n      <th>207</th>\n      <td>1</td>\n      <td>1</td>\n      <td>38.10</td>\n      <td>&lt;NA&gt;</td>\n      <td>&lt;NA&gt;</td>\n      <td>NaN</td>\n      <td>NaN</td>\n      <td>2</td>\n    </tr>\n    <tr>\n      <th>216</th>\n      <td>2</td>\n      <td>1</td>\n      <td>38.10</td>\n      <td>&lt;NA&gt;</td>\n      <td>&lt;NA&gt;</td>\n      <td>NaN</td>\n      <td>NaN</td>\n      <td>1</td>\n    </tr>\n    <tr>\n      <th>227</th>\n      <td>1</td>\n      <td>2</td>\n      <td>38.10</td>\n      <td>&lt;NA&gt;</td>\n      <td>&lt;NA&gt;</td>\n      <td>NaN</td>\n      <td>NaN</td>\n      <td>1</td>\n    </tr>\n    <tr>\n      <th>238</th>\n      <td>2</td>\n      <td>1</td>\n      <td>36.10</td>\n      <td>88</td>\n      <td>&lt;NA&gt;</td>\n      <td>3</td>\n      <td>3</td>\n      <td>3</td>\n    </tr>\n    <tr>\n      <th>245</th>\n      <td>2</td>\n      <td>1</td>\n      <td>38.10</td>\n      <td>96</td>\n      <td>&lt;NA&gt;</td>\n      <td>3</td>\n      <td>5</td>\n      <td>2</td>\n    </tr>\n    <tr>\n      <th>249</th>\n      <td>2</td>\n      <td>1</td>\n      <td>38.20</td>\n      <td>48</td>\n      <td>&lt;NA&gt;</td>\n      <td>2</td>\n      <td>3</td>\n      <td>1</td>\n    </tr>\n    <tr>\n      <th>254</th>\n      <td>1</td>\n      <td>1</td>\n      <td>38.10</td>\n      <td>80</td>\n      <td>&lt;NA&gt;</td>\n      <td>3</td>\n      <td>4</td>\n      <td>1</td>\n    </tr>\n    <tr>\n      <th>256</th>\n      <td>1</td>\n      <td>1</td>\n      <td>37.50</td>\n      <td>72</td>\n      <td>&lt;NA&gt;</td>\n      <td>2</td>\n      <td>2</td>\n      <td>3</td>\n    </tr>\n    <tr>\n      <th>271</th>\n      <td>1</td>\n      <td>1</td>\n      <td>37.70</td>\n      <td>80</td>\n      <td>&lt;NA&gt;</td>\n      <td>3</td>\n      <td>5</td>\n      <td>1</td>\n    </tr>\n    <tr>\n      <th>274</th>\n      <td>1</td>\n      <td>1</td>\n      <td>38.10</td>\n      <td>76</td>\n      <td>&lt;NA&gt;</td>\n      <td>NaN</td>\n      <td>NaN</td>\n      <td>3</td>\n    </tr>\n    <tr>\n      <th>281</th>\n      <td>2</td>\n      <td>1</td>\n      <td>40.00</td>\n      <td>78</td>\n      <td>&lt;NA&gt;</td>\n      <td>3</td>\n      <td>2</td>\n      <td>2</td>\n    </tr>\n    <tr>\n      <th>284</th>\n      <td>2</td>\n      <td>1</td>\n      <td>38.50</td>\n      <td>54</td>\n      <td>&lt;NA&gt;</td>\n      <td>1</td>\n      <td>3</td>\n      <td>1</td>\n    </tr>\n    <tr>\n      <th>288</th>\n      <td>1</td>\n      <td>1</td>\n      <td>38.10</td>\n      <td>&lt;NA&gt;</td>\n      <td>&lt;NA&gt;</td>\n      <td>NaN</td>\n      <td>NaN</td>\n      <td>1</td>\n    </tr>\n  </tbody>\n</table>\n</div>"
     },
     "execution_count": 340,
     "metadata": {},
     "output_type": "execute_result"
    }
   ],
   "source": [
    "# respiratory rate\n",
    "fill_na_df[fill_na_df['respiratory rate'].isnull()]"
   ],
   "metadata": {
    "collapsed": false,
    "pycharm": {
     "name": "#%%\n"
    }
   }
  }
 ],
 "metadata": {
  "kernelspec": {
   "display_name": "Python 3",
   "language": "python",
   "name": "python3"
  },
  "language_info": {
   "codemirror_mode": {
    "name": "ipython",
    "version": 2
   },
   "file_extension": ".py",
   "mimetype": "text/x-python",
   "name": "python",
   "nbconvert_exporter": "python",
   "pygments_lexer": "ipython2",
   "version": "2.7.6"
  }
 },
 "nbformat": 4,
 "nbformat_minor": 0
}