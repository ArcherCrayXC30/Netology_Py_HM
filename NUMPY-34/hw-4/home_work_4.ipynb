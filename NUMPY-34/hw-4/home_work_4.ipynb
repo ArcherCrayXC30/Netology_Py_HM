{
 "cells": [
  {
   "cell_type": "markdown",
   "source": [],
   "metadata": {
    "collapsed": false
   }
  },
  {
   "cell_type": "code",
   "execution_count": 2,
   "outputs": [],
   "source": [
    "import pandas as pd"
   ],
   "metadata": {
    "collapsed": false,
    "pycharm": {
     "name": "#%%\n"
    }
   }
  },
  {
   "cell_type": "markdown",
   "source": [
    "# Задание 1\n",
    "\n",
    "Для датафрейма log из материалов занятия создайте столбец source_type по следующим правилам:\n",
    "\n",
    "если источник traffic_source равен yandex или google, то в source_type ставится organic\n",
    "для источников paid и email из России - ставим ad\n",
    "для источников paid и email не из России - ставим other\n",
    "все остальные варианты берем из traffic_source без изменений\n"
   ],
   "metadata": {
    "collapsed": false
   }
  },
  {
   "cell_type": "code",
   "execution_count": 86,
   "outputs": [
    {
     "data": {
      "text/plain": "    timestamp    visit_id                                 url  region  \\\n0  1549980692  e3b0c44298  https://host.ru/3c19b4ef7371864fa3  Russia   \n1  1549980704  6e340b9cff  https://host.ru/c8d9213a31839f9a3a  Russia   \n2  1549980715  96a296d224  https://host.ru/b8b58337d272ee7b15  Russia   \n3  1549980725  709e80c884  https://host.ru/b8b58337d272ee7b15  Russia   \n4  1549980736  df3f619804  https://host.ru/b8b58337d272ee7b15  Russia   \n\n      user_id traffic_source  \n0  b1613cc09f         yandex  \n1  4c3ec14bee         direct  \n2  a8c40697fb         yandex  \n3  521ac1d6a0         yandex  \n4  d7323c571c         yandex  ",
      "text/html": "<div>\n<style scoped>\n    .dataframe tbody tr th:only-of-type {\n        vertical-align: middle;\n    }\n\n    .dataframe tbody tr th {\n        vertical-align: top;\n    }\n\n    .dataframe thead th {\n        text-align: right;\n    }\n</style>\n<table border=\"1\" class=\"dataframe\">\n  <thead>\n    <tr style=\"text-align: right;\">\n      <th></th>\n      <th>timestamp</th>\n      <th>visit_id</th>\n      <th>url</th>\n      <th>region</th>\n      <th>user_id</th>\n      <th>traffic_source</th>\n    </tr>\n  </thead>\n  <tbody>\n    <tr>\n      <th>0</th>\n      <td>1549980692</td>\n      <td>e3b0c44298</td>\n      <td>https://host.ru/3c19b4ef7371864fa3</td>\n      <td>Russia</td>\n      <td>b1613cc09f</td>\n      <td>yandex</td>\n    </tr>\n    <tr>\n      <th>1</th>\n      <td>1549980704</td>\n      <td>6e340b9cff</td>\n      <td>https://host.ru/c8d9213a31839f9a3a</td>\n      <td>Russia</td>\n      <td>4c3ec14bee</td>\n      <td>direct</td>\n    </tr>\n    <tr>\n      <th>2</th>\n      <td>1549980715</td>\n      <td>96a296d224</td>\n      <td>https://host.ru/b8b58337d272ee7b15</td>\n      <td>Russia</td>\n      <td>a8c40697fb</td>\n      <td>yandex</td>\n    </tr>\n    <tr>\n      <th>3</th>\n      <td>1549980725</td>\n      <td>709e80c884</td>\n      <td>https://host.ru/b8b58337d272ee7b15</td>\n      <td>Russia</td>\n      <td>521ac1d6a0</td>\n      <td>yandex</td>\n    </tr>\n    <tr>\n      <th>4</th>\n      <td>1549980736</td>\n      <td>df3f619804</td>\n      <td>https://host.ru/b8b58337d272ee7b15</td>\n      <td>Russia</td>\n      <td>d7323c571c</td>\n      <td>yandex</td>\n    </tr>\n  </tbody>\n</table>\n</div>"
     },
     "execution_count": 86,
     "metadata": {},
     "output_type": "execute_result"
    }
   ],
   "source": [
    "log = pd.read_csv('../data2/visit_log.csv', sep=';')\n",
    "log.head()"
   ],
   "metadata": {
    "collapsed": false,
    "pycharm": {
     "name": "#%%\n"
    }
   }
  },
  {
   "cell_type": "code",
   "execution_count": 104,
   "outputs": [
    {
     "data": {
      "text/plain": "        timestamp    visit_id                                 url   region  \\\n0      1549980692  e3b0c44298  https://host.ru/3c19b4ef7371864fa3   Russia   \n1      1549980704  6e340b9cff  https://host.ru/c8d9213a31839f9a3a   Russia   \n2      1549980715  96a296d224  https://host.ru/b8b58337d272ee7b15   Russia   \n3      1549980725  709e80c884  https://host.ru/b8b58337d272ee7b15   Russia   \n4      1549980736  df3f619804  https://host.ru/b8b58337d272ee7b15   Russia   \n...           ...         ...                                 ...      ...   \n18933  1550094288  57e5ba8560  https://host.ru/c2382eb3d6afc8d0f3  Belarus   \n18934  1550094296  6f9389ec1b  https://host.ru/f1eb4601740d627ab0   Russia   \n18935  1550094308  e8cf2eb8e6  https://host.ru/a5dda93e70318570c0  Belarus   \n18936  1550094314  79530b9a67  https://host.ru/6fda01ec57f23abc9e   Russia   \n18937  1550094323  b3b634f824  https://host.ru/39fa884393666d45fc   Russia   \n\n          user_id traffic_source source_type  \n0      b1613cc09f         yandex     organic  \n1      4c3ec14bee         direct      direct  \n2      a8c40697fb         yandex     organic  \n3      521ac1d6a0         yandex     organic  \n4      d7323c571c         yandex     organic  \n...           ...            ...         ...  \n18933  98b19810d0           paid       other  \n18934  32ebb20c13           paid          ad  \n18935  b85baa8c73         yandex     organic  \n18936  e154b06121           paid          ad  \n18937  7d27a58fb8          email          ad  \n\n[18938 rows x 7 columns]",
      "text/html": "<div>\n<style scoped>\n    .dataframe tbody tr th:only-of-type {\n        vertical-align: middle;\n    }\n\n    .dataframe tbody tr th {\n        vertical-align: top;\n    }\n\n    .dataframe thead th {\n        text-align: right;\n    }\n</style>\n<table border=\"1\" class=\"dataframe\">\n  <thead>\n    <tr style=\"text-align: right;\">\n      <th></th>\n      <th>timestamp</th>\n      <th>visit_id</th>\n      <th>url</th>\n      <th>region</th>\n      <th>user_id</th>\n      <th>traffic_source</th>\n      <th>source_type</th>\n    </tr>\n  </thead>\n  <tbody>\n    <tr>\n      <th>0</th>\n      <td>1549980692</td>\n      <td>e3b0c44298</td>\n      <td>https://host.ru/3c19b4ef7371864fa3</td>\n      <td>Russia</td>\n      <td>b1613cc09f</td>\n      <td>yandex</td>\n      <td>organic</td>\n    </tr>\n    <tr>\n      <th>1</th>\n      <td>1549980704</td>\n      <td>6e340b9cff</td>\n      <td>https://host.ru/c8d9213a31839f9a3a</td>\n      <td>Russia</td>\n      <td>4c3ec14bee</td>\n      <td>direct</td>\n      <td>direct</td>\n    </tr>\n    <tr>\n      <th>2</th>\n      <td>1549980715</td>\n      <td>96a296d224</td>\n      <td>https://host.ru/b8b58337d272ee7b15</td>\n      <td>Russia</td>\n      <td>a8c40697fb</td>\n      <td>yandex</td>\n      <td>organic</td>\n    </tr>\n    <tr>\n      <th>3</th>\n      <td>1549980725</td>\n      <td>709e80c884</td>\n      <td>https://host.ru/b8b58337d272ee7b15</td>\n      <td>Russia</td>\n      <td>521ac1d6a0</td>\n      <td>yandex</td>\n      <td>organic</td>\n    </tr>\n    <tr>\n      <th>4</th>\n      <td>1549980736</td>\n      <td>df3f619804</td>\n      <td>https://host.ru/b8b58337d272ee7b15</td>\n      <td>Russia</td>\n      <td>d7323c571c</td>\n      <td>yandex</td>\n      <td>organic</td>\n    </tr>\n    <tr>\n      <th>...</th>\n      <td>...</td>\n      <td>...</td>\n      <td>...</td>\n      <td>...</td>\n      <td>...</td>\n      <td>...</td>\n      <td>...</td>\n    </tr>\n    <tr>\n      <th>18933</th>\n      <td>1550094288</td>\n      <td>57e5ba8560</td>\n      <td>https://host.ru/c2382eb3d6afc8d0f3</td>\n      <td>Belarus</td>\n      <td>98b19810d0</td>\n      <td>paid</td>\n      <td>other</td>\n    </tr>\n    <tr>\n      <th>18934</th>\n      <td>1550094296</td>\n      <td>6f9389ec1b</td>\n      <td>https://host.ru/f1eb4601740d627ab0</td>\n      <td>Russia</td>\n      <td>32ebb20c13</td>\n      <td>paid</td>\n      <td>ad</td>\n    </tr>\n    <tr>\n      <th>18935</th>\n      <td>1550094308</td>\n      <td>e8cf2eb8e6</td>\n      <td>https://host.ru/a5dda93e70318570c0</td>\n      <td>Belarus</td>\n      <td>b85baa8c73</td>\n      <td>yandex</td>\n      <td>organic</td>\n    </tr>\n    <tr>\n      <th>18936</th>\n      <td>1550094314</td>\n      <td>79530b9a67</td>\n      <td>https://host.ru/6fda01ec57f23abc9e</td>\n      <td>Russia</td>\n      <td>e154b06121</td>\n      <td>paid</td>\n      <td>ad</td>\n    </tr>\n    <tr>\n      <th>18937</th>\n      <td>1550094323</td>\n      <td>b3b634f824</td>\n      <td>https://host.ru/39fa884393666d45fc</td>\n      <td>Russia</td>\n      <td>7d27a58fb8</td>\n      <td>email</td>\n      <td>ad</td>\n    </tr>\n  </tbody>\n</table>\n<p>18938 rows × 7 columns</p>\n</div>"
     },
     "execution_count": 104,
     "metadata": {},
     "output_type": "execute_result"
    }
   ],
   "source": [
    "log.loc[lambda row: row['traffic_source'].str.contains('yandex|google'), 'source_type'] = 'organic'\n",
    "log.loc[lambda row: (row['traffic_source'].str.contains('paid|email')) & (row.region == 'Russia'), 'source_type'] = 'ad'\n",
    "log.loc[lambda row: (row['traffic_source'].str.contains('paid|email')) & (row.region != 'Russia'), 'source_type'] = 'other'\n",
    "log['source_type'] = log.source_type.fillna(log['traffic_source'])\n",
    "log"
   ],
   "metadata": {
    "collapsed": false,
    "pycharm": {
     "name": "#%%\n"
    }
   }
  },
  {
   "cell_type": "markdown",
   "source": [
    "# Задание 2\n",
    "\n",
    "В файле URLs.txt содержатся url страниц новостного сайта. Вам необходимо отфильтровать его по адресам страниц с текстами новостей. Известно, что шаблон страницы новостей имеет внутри url следующую конструкцию: /, затем 8 цифр, затем дефис. Выполните следующие действия:\n",
    "\n",
    "Прочитайте содержимое файла с датафрейм\n",
    "Отфильтруйте страницы с текстом новостей, используя метод str.contains и регулярное выражение в соответствии с заданным шаблоном"
   ],
   "metadata": {
    "collapsed": false
   }
  },
  {
   "cell_type": "code",
   "execution_count": 123,
   "outputs": [
    {
     "data": {
      "text/plain": "                                                  url\n3   /politics/36188461-s-marta-zhizn-rossiyan-susc...\n4   /world/36007585-tramp-pridumal-kak-reshit-ukra...\n5   /science/36157853-nasa-sobiraet-ekstrennuyu-pr...\n6   /video/36001498-poyavilis-pervye-podrobnosti-g...\n7   /world/36007585-tramp-pridumal-kak-reshit-ukra...\n..                                                ...\n88  /cis/35984145-kreml-prokommentiroval-soobschen...\n89  /video/36071019-olimpiyskie-obekty-rio-prevrat...\n90  /science/36151301-nazvano-posledstvie-zloupotr...\n91  /incidents/36027330-vospitatelnitsu-zatravili-...\n92  /world/36103095-dominikanskih-zhurnalistov-ubi...\n\n[84 rows x 1 columns]",
      "text/html": "<div>\n<style scoped>\n    .dataframe tbody tr th:only-of-type {\n        vertical-align: middle;\n    }\n\n    .dataframe tbody tr th {\n        vertical-align: top;\n    }\n\n    .dataframe thead th {\n        text-align: right;\n    }\n</style>\n<table border=\"1\" class=\"dataframe\">\n  <thead>\n    <tr style=\"text-align: right;\">\n      <th></th>\n      <th>url</th>\n    </tr>\n  </thead>\n  <tbody>\n    <tr>\n      <th>3</th>\n      <td>/politics/36188461-s-marta-zhizn-rossiyan-susc...</td>\n    </tr>\n    <tr>\n      <th>4</th>\n      <td>/world/36007585-tramp-pridumal-kak-reshit-ukra...</td>\n    </tr>\n    <tr>\n      <th>5</th>\n      <td>/science/36157853-nasa-sobiraet-ekstrennuyu-pr...</td>\n    </tr>\n    <tr>\n      <th>6</th>\n      <td>/video/36001498-poyavilis-pervye-podrobnosti-g...</td>\n    </tr>\n    <tr>\n      <th>7</th>\n      <td>/world/36007585-tramp-pridumal-kak-reshit-ukra...</td>\n    </tr>\n    <tr>\n      <th>...</th>\n      <td>...</td>\n    </tr>\n    <tr>\n      <th>88</th>\n      <td>/cis/35984145-kreml-prokommentiroval-soobschen...</td>\n    </tr>\n    <tr>\n      <th>89</th>\n      <td>/video/36071019-olimpiyskie-obekty-rio-prevrat...</td>\n    </tr>\n    <tr>\n      <th>90</th>\n      <td>/science/36151301-nazvano-posledstvie-zloupotr...</td>\n    </tr>\n    <tr>\n      <th>91</th>\n      <td>/incidents/36027330-vospitatelnitsu-zatravili-...</td>\n    </tr>\n    <tr>\n      <th>92</th>\n      <td>/world/36103095-dominikanskih-zhurnalistov-ubi...</td>\n    </tr>\n  </tbody>\n</table>\n<p>84 rows × 1 columns</p>\n</div>"
     },
     "execution_count": 123,
     "metadata": {},
     "output_type": "execute_result"
    }
   ],
   "source": [
    "df = pd.read_csv('../data2/URLs.txt')\n",
    "df.loc[df.url.str.contains('/\\d{8}-')]"
   ],
   "metadata": {
    "collapsed": false,
    "pycharm": {
     "name": "#%%\n"
    }
   }
  },
  {
   "cell_type": "markdown",
   "source": [
    "# Задание 3\n",
    "\n",
    "Используйте файл с оценками фильмов ml-latest-small/ratings.csv. Посчитайте среднее время жизни пользователей, которые выставили более 100 оценок. Под временем жизни понимается разница между максимальным и минимальным значением столбца timestamp для данного значения userId."
   ],
   "metadata": {
    "collapsed": false
   }
  },
  {
   "cell_type": "code",
   "execution_count": 174,
   "outputs": [
    {
     "data": {
      "text/plain": "        userId  movieId  rating   timestamp\n0            1       31     2.5  1260759144\n1            1     1029     3.0  1260759179\n2            1     1061     3.0  1260759182\n3            1     1129     2.0  1260759185\n4            1     1172     4.0  1260759205\n...        ...      ...     ...         ...\n99999      671     6268     2.5  1065579370\n100000     671     6269     4.0  1065149201\n100001     671     6365     4.0  1070940363\n100002     671     6385     2.5  1070979663\n100003     671     6565     3.5  1074784724\n\n[100004 rows x 4 columns]",
      "text/html": "<div>\n<style scoped>\n    .dataframe tbody tr th:only-of-type {\n        vertical-align: middle;\n    }\n\n    .dataframe tbody tr th {\n        vertical-align: top;\n    }\n\n    .dataframe thead th {\n        text-align: right;\n    }\n</style>\n<table border=\"1\" class=\"dataframe\">\n  <thead>\n    <tr style=\"text-align: right;\">\n      <th></th>\n      <th>userId</th>\n      <th>movieId</th>\n      <th>rating</th>\n      <th>timestamp</th>\n    </tr>\n  </thead>\n  <tbody>\n    <tr>\n      <th>0</th>\n      <td>1</td>\n      <td>31</td>\n      <td>2.5</td>\n      <td>1260759144</td>\n    </tr>\n    <tr>\n      <th>1</th>\n      <td>1</td>\n      <td>1029</td>\n      <td>3.0</td>\n      <td>1260759179</td>\n    </tr>\n    <tr>\n      <th>2</th>\n      <td>1</td>\n      <td>1061</td>\n      <td>3.0</td>\n      <td>1260759182</td>\n    </tr>\n    <tr>\n      <th>3</th>\n      <td>1</td>\n      <td>1129</td>\n      <td>2.0</td>\n      <td>1260759185</td>\n    </tr>\n    <tr>\n      <th>4</th>\n      <td>1</td>\n      <td>1172</td>\n      <td>4.0</td>\n      <td>1260759205</td>\n    </tr>\n    <tr>\n      <th>...</th>\n      <td>...</td>\n      <td>...</td>\n      <td>...</td>\n      <td>...</td>\n    </tr>\n    <tr>\n      <th>99999</th>\n      <td>671</td>\n      <td>6268</td>\n      <td>2.5</td>\n      <td>1065579370</td>\n    </tr>\n    <tr>\n      <th>100000</th>\n      <td>671</td>\n      <td>6269</td>\n      <td>4.0</td>\n      <td>1065149201</td>\n    </tr>\n    <tr>\n      <th>100001</th>\n      <td>671</td>\n      <td>6365</td>\n      <td>4.0</td>\n      <td>1070940363</td>\n    </tr>\n    <tr>\n      <th>100002</th>\n      <td>671</td>\n      <td>6385</td>\n      <td>2.5</td>\n      <td>1070979663</td>\n    </tr>\n    <tr>\n      <th>100003</th>\n      <td>671</td>\n      <td>6565</td>\n      <td>3.5</td>\n      <td>1074784724</td>\n    </tr>\n  </tbody>\n</table>\n<p>100004 rows × 4 columns</p>\n</div>"
     },
     "execution_count": 174,
     "metadata": {},
     "output_type": "execute_result"
    }
   ],
   "source": [
    "rt = pd.read_csv('../data2/ml-latest-small/ratings.csv')\n",
    "rt"
   ],
   "metadata": {
    "collapsed": false,
    "pycharm": {
     "name": "#%%\n"
    }
   }
  },
  {
   "cell_type": "code",
   "execution_count": 187,
   "outputs": [
    {
     "data": {
      "text/plain": "Timedelta('463 days 21:28:27.449612408')"
     },
     "execution_count": 187,
     "metadata": {},
     "output_type": "execute_result"
    }
   ],
   "source": [
    "filtered = rt.groupby('userId').filter(lambda x: x['rating'].count() > 100).groupby('userId')['timestamp'].agg(['min', 'max'])\n",
    "filtered['min'] = pd.to_datetime(filtered[\"min\"], unit=\"s\")\n",
    "filtered['max'] = pd.to_datetime(filtered[\"max\"], unit=\"s\")\n",
    "filtered['ttl'] = filtered['max'] - filtered['min']\n",
    "filtered['ttl'].mean()\n",
    "\n",
    "# pd.to_datetime(filtered.ttl.agg('mean'), unit='s', origin='unix')"
   ],
   "metadata": {
    "collapsed": false,
    "pycharm": {
     "name": "#%%\n"
    }
   }
  },
  {
   "cell_type": "markdown",
   "source": [
    "# Задание 4\n",
    "\n",
    "Дана статистика услуг перевозок клиентов компании по типам (см. файл “Python_13_join.ipynb” в разделе Материалы для лекции «Продвинутый pandas» ---- Ноутбуки к лекции «Продвинутый pandas»).\n",
    "Необходимо сформировать две таблицы:\n",
    "таблицу с тремя типами выручки для каждого client_id без указания адреса клиента\n",
    "аналогичную таблицу по типам выручки с указанием адреса клиента"
   ],
   "metadata": {
    "collapsed": false
   }
  },
  {
   "cell_type": "code",
   "execution_count": 188,
   "outputs": [],
   "source": [
    "rzd = pd.DataFrame(\n",
    "    {\n",
    "        'client_id': [111, 112, 113, 114, 115],\n",
    "        'rzd_revenue': [1093, 2810, 10283, 5774, 981]\n",
    "    }\n",
    ")\n",
    "auto = pd.DataFrame(\n",
    "    {\n",
    "        'client_id': [113, 114, 115, 116, 117],\n",
    "        'auto_revenue': [57483, 83, 912, 4834, 98]\n",
    "    }\n",
    ")\n",
    "air = pd.DataFrame(\n",
    "    {\n",
    "        'client_id': [115, 116, 117, 118],\n",
    "        'air_revenue': [81, 4, 13, 173]\n",
    "    }\n",
    ")\n",
    "client_base = pd.DataFrame(\n",
    "    {\n",
    "        'client_id': [111, 112, 113, 114, 115, 116, 117, 118],\n",
    "        'address': ['Комсомольская 4', 'Энтузиастов 8а', 'Левобережная 1а', 'Мира 14', 'ЗЖБИиДК 1',\n",
    "                    'Строителей 18', 'Панфиловская 33', 'Мастеркова 4']\n",
    "    }\n",
    ")"
   ],
   "metadata": {
    "collapsed": false,
    "pycharm": {
     "name": "#%%\n"
    }
   }
  },
  {
   "cell_type": "code",
   "execution_count": 195,
   "outputs": [
    {
     "data": {
      "text/plain": "           air_revenue  auto_revenue  rzd_revenue\nclient_id                                        \n111                NaN           NaN       1093.0\n112                NaN           NaN       2810.0\n113                NaN       57483.0      10283.0\n114                NaN          83.0       5774.0\n115               81.0         912.0        981.0\n116                4.0        4834.0          NaN\n117               13.0          98.0          NaN\n118              173.0           NaN          NaN",
      "text/html": "<div>\n<style scoped>\n    .dataframe tbody tr th:only-of-type {\n        vertical-align: middle;\n    }\n\n    .dataframe tbody tr th {\n        vertical-align: top;\n    }\n\n    .dataframe thead th {\n        text-align: right;\n    }\n</style>\n<table border=\"1\" class=\"dataframe\">\n  <thead>\n    <tr style=\"text-align: right;\">\n      <th></th>\n      <th>air_revenue</th>\n      <th>auto_revenue</th>\n      <th>rzd_revenue</th>\n    </tr>\n    <tr>\n      <th>client_id</th>\n      <th></th>\n      <th></th>\n      <th></th>\n    </tr>\n  </thead>\n  <tbody>\n    <tr>\n      <th>111</th>\n      <td>NaN</td>\n      <td>NaN</td>\n      <td>1093.0</td>\n    </tr>\n    <tr>\n      <th>112</th>\n      <td>NaN</td>\n      <td>NaN</td>\n      <td>2810.0</td>\n    </tr>\n    <tr>\n      <th>113</th>\n      <td>NaN</td>\n      <td>57483.0</td>\n      <td>10283.0</td>\n    </tr>\n    <tr>\n      <th>114</th>\n      <td>NaN</td>\n      <td>83.0</td>\n      <td>5774.0</td>\n    </tr>\n    <tr>\n      <th>115</th>\n      <td>81.0</td>\n      <td>912.0</td>\n      <td>981.0</td>\n    </tr>\n    <tr>\n      <th>116</th>\n      <td>4.0</td>\n      <td>4834.0</td>\n      <td>NaN</td>\n    </tr>\n    <tr>\n      <th>117</th>\n      <td>13.0</td>\n      <td>98.0</td>\n      <td>NaN</td>\n    </tr>\n    <tr>\n      <th>118</th>\n      <td>173.0</td>\n      <td>NaN</td>\n      <td>NaN</td>\n    </tr>\n  </tbody>\n</table>\n</div>"
     },
     "execution_count": 195,
     "metadata": {},
     "output_type": "execute_result"
    }
   ],
   "source": [
    "tab1 = pd.concat([air, auto, rzd])\n",
    "tab1.pivot_table(index='client_id')"
   ],
   "metadata": {
    "collapsed": false,
    "pycharm": {
     "name": "#%%\n"
    }
   }
  },
  {
   "cell_type": "code",
   "execution_count": 199,
   "outputs": [
    {
     "data": {
      "text/plain": "    client_id  air_revenue  auto_revenue  rzd_revenue          address\n0         115         81.0           NaN          NaN        ЗЖБИиДК 1\n1         116          4.0           NaN          NaN    Строителей 18\n2         117         13.0           NaN          NaN  Панфиловская 33\n3         118        173.0           NaN          NaN     Мастеркова 4\n4         113          NaN       57483.0          NaN  Левобережная 1а\n5         114          NaN          83.0          NaN          Мира 14\n6         115          NaN         912.0          NaN        ЗЖБИиДК 1\n7         116          NaN        4834.0          NaN    Строителей 18\n8         117          NaN          98.0          NaN  Панфиловская 33\n9         111          NaN           NaN       1093.0  Комсомольская 4\n10        112          NaN           NaN       2810.0   Энтузиастов 8а\n11        113          NaN           NaN      10283.0  Левобережная 1а\n12        114          NaN           NaN       5774.0          Мира 14\n13        115          NaN           NaN        981.0        ЗЖБИиДК 1",
      "text/html": "<div>\n<style scoped>\n    .dataframe tbody tr th:only-of-type {\n        vertical-align: middle;\n    }\n\n    .dataframe tbody tr th {\n        vertical-align: top;\n    }\n\n    .dataframe thead th {\n        text-align: right;\n    }\n</style>\n<table border=\"1\" class=\"dataframe\">\n  <thead>\n    <tr style=\"text-align: right;\">\n      <th></th>\n      <th>client_id</th>\n      <th>air_revenue</th>\n      <th>auto_revenue</th>\n      <th>rzd_revenue</th>\n      <th>address</th>\n    </tr>\n  </thead>\n  <tbody>\n    <tr>\n      <th>0</th>\n      <td>115</td>\n      <td>81.0</td>\n      <td>NaN</td>\n      <td>NaN</td>\n      <td>ЗЖБИиДК 1</td>\n    </tr>\n    <tr>\n      <th>1</th>\n      <td>116</td>\n      <td>4.0</td>\n      <td>NaN</td>\n      <td>NaN</td>\n      <td>Строителей 18</td>\n    </tr>\n    <tr>\n      <th>2</th>\n      <td>117</td>\n      <td>13.0</td>\n      <td>NaN</td>\n      <td>NaN</td>\n      <td>Панфиловская 33</td>\n    </tr>\n    <tr>\n      <th>3</th>\n      <td>118</td>\n      <td>173.0</td>\n      <td>NaN</td>\n      <td>NaN</td>\n      <td>Мастеркова 4</td>\n    </tr>\n    <tr>\n      <th>4</th>\n      <td>113</td>\n      <td>NaN</td>\n      <td>57483.0</td>\n      <td>NaN</td>\n      <td>Левобережная 1а</td>\n    </tr>\n    <tr>\n      <th>5</th>\n      <td>114</td>\n      <td>NaN</td>\n      <td>83.0</td>\n      <td>NaN</td>\n      <td>Мира 14</td>\n    </tr>\n    <tr>\n      <th>6</th>\n      <td>115</td>\n      <td>NaN</td>\n      <td>912.0</td>\n      <td>NaN</td>\n      <td>ЗЖБИиДК 1</td>\n    </tr>\n    <tr>\n      <th>7</th>\n      <td>116</td>\n      <td>NaN</td>\n      <td>4834.0</td>\n      <td>NaN</td>\n      <td>Строителей 18</td>\n    </tr>\n    <tr>\n      <th>8</th>\n      <td>117</td>\n      <td>NaN</td>\n      <td>98.0</td>\n      <td>NaN</td>\n      <td>Панфиловская 33</td>\n    </tr>\n    <tr>\n      <th>9</th>\n      <td>111</td>\n      <td>NaN</td>\n      <td>NaN</td>\n      <td>1093.0</td>\n      <td>Комсомольская 4</td>\n    </tr>\n    <tr>\n      <th>10</th>\n      <td>112</td>\n      <td>NaN</td>\n      <td>NaN</td>\n      <td>2810.0</td>\n      <td>Энтузиастов 8а</td>\n    </tr>\n    <tr>\n      <th>11</th>\n      <td>113</td>\n      <td>NaN</td>\n      <td>NaN</td>\n      <td>10283.0</td>\n      <td>Левобережная 1а</td>\n    </tr>\n    <tr>\n      <th>12</th>\n      <td>114</td>\n      <td>NaN</td>\n      <td>NaN</td>\n      <td>5774.0</td>\n      <td>Мира 14</td>\n    </tr>\n    <tr>\n      <th>13</th>\n      <td>115</td>\n      <td>NaN</td>\n      <td>NaN</td>\n      <td>981.0</td>\n      <td>ЗЖБИиДК 1</td>\n    </tr>\n  </tbody>\n</table>\n</div>"
     },
     "execution_count": 199,
     "metadata": {},
     "output_type": "execute_result"
    }
   ],
   "source": [
    "tab1.merge(client_base, on=\"client_id\", how='left')"
   ],
   "metadata": {
    "collapsed": false,
    "pycharm": {
     "name": "#%%\n"
    }
   }
  }
 ],
 "metadata": {
  "kernelspec": {
   "display_name": "Python 3",
   "language": "python",
   "name": "python3"
  },
  "language_info": {
   "codemirror_mode": {
    "name": "ipython",
    "version": 2
   },
   "file_extension": ".py",
   "mimetype": "text/x-python",
   "name": "python",
   "nbconvert_exporter": "python",
   "pygments_lexer": "ipython2",
   "version": "2.7.6"
  }
 },
 "nbformat": 4,
 "nbformat_minor": 0
}