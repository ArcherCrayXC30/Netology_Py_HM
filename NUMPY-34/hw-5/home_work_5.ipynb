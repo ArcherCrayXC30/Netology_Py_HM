{
 "cells": [
  {
   "cell_type": "markdown",
   "source": [
    "# Обязательная часть\n",
    "Вам необходимо написать функцию, которая будет основана на поиске по сайту habr.com. Функция в качестве параметра должна принимать список запросов для поиска (например, ['python', 'анализ данных']) и на основе материалов, попавших в результаты поиска по каждому запросу, возвращать датафрейм вида:\n",
    "\n",
    "<дата> - <заголовок> - <ссылка на материал>\n",
    "В рамках задания предполагается работа только с одной (первой) страницей результатов поисковой выдачи для каждого запроса. Материалы в датафрейме не должны дублироваться, если они попадали в результаты поиска для нескольких запросов из списка.\n",
    "\n",
    "# Дополнительная часть (необязательная)\n",
    "Функция из обязательной части задания должна быть расширена следующим образом:\n",
    "\n",
    "кроме списка ключевых слов для поиска необходимо объявить параметр с количеством страниц поисковой выдачи. Т.е. при передаче в функцию аргумента 4 необходимо получить материалы с первых 4 страниц результатов;\n",
    "в датафрейме должны быть столбцы с полным текстом найденных материалов и количеством лайков:\n",
    "<дата> - <заголовок> - <ссылка на материал> - <текст материала> - <количество лайков>"
   ],
   "metadata": {
    "collapsed": false
   }
  },
  {
   "cell_type": "code",
   "execution_count": 1,
   "metadata": {
    "collapsed": true
   },
   "outputs": [],
   "source": [
    "# imports\n",
    "import requests as req\n",
    "import pandas as pd\n",
    "from bs4 import BeautifulSoup as bs\n",
    "import time\n",
    "from datetime import datetime"
   ]
  },
  {
   "cell_type": "code",
   "execution_count": 11,
   "outputs": [
    {
     "name": "stdout",
     "output_type": "stream",
     "text": [
      "Ищем анализ данных на странице 1\n",
      "parse post \"Пять лет Школе анализа данных\" done\n",
      "parse post \"10 лет Школе анализа данных Яндекса\" done\n",
      "parse post \"Что такое бессерверный SQL? И как использовать его для анализа данных?\" done\n",
      "parse post \"Как мы строим систему обработки, хранения и анализа данных в СИБУРе\" done\n",
      "parse post \"Ubic создаст платформу для анализа данных о москвичах\" done\n",
      "parse post \"Microsoft анонсировала запуск «Планетарного компьютера» для сбора, хранения и анализа данных о состоянии Земли\" done\n",
      "parse post \"Владимир Путин выступил с Германом Грефом на конференции по ИИ и анализу данных Artificial Intelligence Journey 2021\" done\n",
      "parse post \"Интенсив для повышения квалификации: как использовать Python для анализа данных\" done\n",
      "parse post \"AI Journey Contest 2021: какие задачи мы подготовили для участников нового чемпионата по анализу данных\" done\n",
      "parse post \"Обзор наиболее интересных материалов по анализу данных и машинному обучению №1 (9 — 16 июня 2014)\" done\n",
      "parse post \"Обзор наиболее интересных материалов по анализу данных и машинному обучению №3 (обзор онлайн курсов)\" done\n",
      "parse post \"Обзор наиболее интересных материалов по анализу данных и машинному обучению №17 (6 — 12 октября 2014)\" done\n",
      "parse post \"Использование Python и Excel для обработки и анализа данных. Часть 1: импорт данных и настройка среды\" done\n",
      "parse post \"Обзор наиболее интересных материалов по анализу данных и машинному обучению №6 (21 — 28 июля 2014)\" done\n",
      "parse post \"Обзор наиболее интересных материалов по анализу данных и машинному обучению №8 (4 — 11 августа 2014)\" done\n",
      "parse post \"Обзор наиболее интересных материалов по анализу данных и машинному обучению №23 (17 — 23 ноября 2014)\" done\n",
      "parse post \"Обзор наиболее интересных материалов по анализу данных и машинному обучению №13 (8 — 14 сентября 2014)\" done\n",
      "parse post \"Обзор наиболее интересных материалов по анализу данных и машинному обучению №31 (12 — 18 января 2015)\" done\n",
      "parse post \"Новый подход к спортивному анализу данных: какие шаблоны «рвет» SDSJ\" done\n",
      "parse post \"Обзор наиболее интересных материалов по анализу данных и машинному обучению №16 (29 сентября — 5 октября 2014)\" done\n",
      "page 1 scrap done\n"
     ]
    },
    {
     "data": {
      "text/plain": "                  date                                              title  \\\n0  2012-07-25 13:29:00                      Пять лет Школе анализа данных   \n1  2017-07-25 13:47:00                10 лет Школе анализа данных Яндекса   \n2  2021-01-14 10:00:00  Что такое бессерверный SQL? И как использовать...   \n3  2019-01-21 11:21:00  Как мы строим систему обработки, хранения и ан...   \n4  2020-05-14 13:39:00  Ubic создаст платформу для анализа данных о мо...   \n5  2020-04-16 07:10:00  Microsoft анонсировала запуск «Планетарного ко...   \n6  2021-11-13 19:15:00  Владимир Путин выступил с Германом Грефом на к...   \n7  2021-12-10 13:15:00  Интенсив для повышения квалификации: как испол...   \n8  2021-10-18 15:08:00  AI Journey Contest 2021: какие задачи мы подго...   \n9  2014-06-18 15:19:00  Обзор наиболее интересных материалов по анализ...   \n10 2014-06-30 23:06:00  Обзор наиболее интересных материалов по анализ...   \n11 2014-10-13 14:00:00  Обзор наиболее интересных материалов по анализ...   \n12 2017-06-27 13:51:00  Использование Python и Excel для обработки и а...   \n13 2014-07-28 13:10:00  Обзор наиболее интересных материалов по анализ...   \n14 2014-08-11 10:47:00  Обзор наиболее интересных материалов по анализ...   \n15 2014-11-23 16:49:00  Обзор наиболее интересных материалов по анализ...   \n16 2014-09-14 19:54:00  Обзор наиболее интересных материалов по анализ...   \n17 2015-01-18 18:02:00  Обзор наиболее интересных материалов по анализ...   \n18 2017-12-25 15:07:00  Новый подход к спортивному анализу данных: как...   \n19 2014-10-05 19:57:00  Обзор наиболее интересных материалов по анализ...   \n\n                                                 link likes  \\\n0     https://habr.com/ru/company/yandex/blog/148443/   +21   \n1     https://habr.com/ru/company/yandex/blog/334066/   +53   \n2   https://habr.com/ru/company/microsoft/blog/537...    +2   \n3   https://habr.com/ru/company/sibur_official/blo...   +16   \n4                  https://habr.com/ru/news/t/501944/   +14   \n5                  https://habr.com/ru/news/t/497474/   +13   \n6                  https://habr.com/ru/news/t/588991/    +8   \n7   https://habr.com/ru/company/netologyru/news/t/...    +4   \n8   https://habr.com/ru/company/sbercloud/news/t/5...    +8   \n9                    https://habr.com/ru/post/226641/   +19   \n10                   https://habr.com/ru/post/228187/   +24   \n11                   https://habr.com/ru/post/240139/   +19   \n12      https://habr.com/ru/company/otus/blog/331746/    +8   \n13                   https://habr.com/ru/post/231323/   +20   \n14                   https://habr.com/ru/post/232879/   +23   \n15                   https://habr.com/ru/post/243967/   +18   \n16                   https://habr.com/ru/post/236757/   +25   \n17                   https://habr.com/ru/post/248165/   +17   \n18                https://habr.com/ru/article/344806/   +21   \n19                   https://habr.com/ru/post/239247/   +28   \n\n                                            full_text  \n0   Ровно пять лет назад Яндекс объявил об открыти...  \n1   Сегодня исполняется 10 лет Школе анализа данны...  \n2   Каждому специалисту по обработке и анализу дан...  \n3   В начале 2018 года у нас активно пошел процесс...  \n4   Правительство Москвы планирует создать общегор...  \n5   В рамках развития программы Microsoft AI for E...  \n6   12 ноября президент России вместе с главой «Сб...  \n7   14 декабря в Нетологии пройдёт вебинар, посвящ...  \n8   Нарисовать карту лесных пожаров и распознать п...  \n9   Данный выпуск дайджеста наиболее интересных ма...  \n10  Данный выпуск обзора наиболее интересных матер...  \n11  Представляю вашему вниманию очередной выпуск о...  \n12  Если Вы только начинаете свой путь знакомства ...  \n13  В очередном выпуске обзора наиболее интересных...  \n14  Представляю вашему вниманию очередной выпуск о...  \n15  Представляю вашему вниманию очередной выпуск о...  \n16  Представляю вашему вниманию очередной выпуск о...  \n17  Представляю вашему вниманию очередной выпуск о...  \n18  Специалистам по data science сейчас есть где р...  \n19  Представляю вашему вниманию очередной выпуск о...  ",
      "text/html": "<div>\n<style scoped>\n    .dataframe tbody tr th:only-of-type {\n        vertical-align: middle;\n    }\n\n    .dataframe tbody tr th {\n        vertical-align: top;\n    }\n\n    .dataframe thead th {\n        text-align: right;\n    }\n</style>\n<table border=\"1\" class=\"dataframe\">\n  <thead>\n    <tr style=\"text-align: right;\">\n      <th></th>\n      <th>date</th>\n      <th>title</th>\n      <th>link</th>\n      <th>likes</th>\n      <th>full_text</th>\n    </tr>\n  </thead>\n  <tbody>\n    <tr>\n      <th>0</th>\n      <td>2012-07-25 13:29:00</td>\n      <td>Пять лет Школе анализа данных</td>\n      <td>https://habr.com/ru/company/yandex/blog/148443/</td>\n      <td>+21</td>\n      <td>Ровно пять лет назад Яндекс объявил об открыти...</td>\n    </tr>\n    <tr>\n      <th>1</th>\n      <td>2017-07-25 13:47:00</td>\n      <td>10 лет Школе анализа данных Яндекса</td>\n      <td>https://habr.com/ru/company/yandex/blog/334066/</td>\n      <td>+53</td>\n      <td>Сегодня исполняется 10 лет Школе анализа данны...</td>\n    </tr>\n    <tr>\n      <th>2</th>\n      <td>2021-01-14 10:00:00</td>\n      <td>Что такое бессерверный SQL? И как использовать...</td>\n      <td>https://habr.com/ru/company/microsoft/blog/537...</td>\n      <td>+2</td>\n      <td>Каждому специалисту по обработке и анализу дан...</td>\n    </tr>\n    <tr>\n      <th>3</th>\n      <td>2019-01-21 11:21:00</td>\n      <td>Как мы строим систему обработки, хранения и ан...</td>\n      <td>https://habr.com/ru/company/sibur_official/blo...</td>\n      <td>+16</td>\n      <td>В начале 2018 года у нас активно пошел процесс...</td>\n    </tr>\n    <tr>\n      <th>4</th>\n      <td>2020-05-14 13:39:00</td>\n      <td>Ubic создаст платформу для анализа данных о мо...</td>\n      <td>https://habr.com/ru/news/t/501944/</td>\n      <td>+14</td>\n      <td>Правительство Москвы планирует создать общегор...</td>\n    </tr>\n    <tr>\n      <th>5</th>\n      <td>2020-04-16 07:10:00</td>\n      <td>Microsoft анонсировала запуск «Планетарного ко...</td>\n      <td>https://habr.com/ru/news/t/497474/</td>\n      <td>+13</td>\n      <td>В рамках развития программы Microsoft AI for E...</td>\n    </tr>\n    <tr>\n      <th>6</th>\n      <td>2021-11-13 19:15:00</td>\n      <td>Владимир Путин выступил с Германом Грефом на к...</td>\n      <td>https://habr.com/ru/news/t/588991/</td>\n      <td>+8</td>\n      <td>12 ноября президент России вместе с главой «Сб...</td>\n    </tr>\n    <tr>\n      <th>7</th>\n      <td>2021-12-10 13:15:00</td>\n      <td>Интенсив для повышения квалификации: как испол...</td>\n      <td>https://habr.com/ru/company/netologyru/news/t/...</td>\n      <td>+4</td>\n      <td>14 декабря в Нетологии пройдёт вебинар, посвящ...</td>\n    </tr>\n    <tr>\n      <th>8</th>\n      <td>2021-10-18 15:08:00</td>\n      <td>AI Journey Contest 2021: какие задачи мы подго...</td>\n      <td>https://habr.com/ru/company/sbercloud/news/t/5...</td>\n      <td>+8</td>\n      <td>Нарисовать карту лесных пожаров и распознать п...</td>\n    </tr>\n    <tr>\n      <th>9</th>\n      <td>2014-06-18 15:19:00</td>\n      <td>Обзор наиболее интересных материалов по анализ...</td>\n      <td>https://habr.com/ru/post/226641/</td>\n      <td>+19</td>\n      <td>Данный выпуск дайджеста наиболее интересных ма...</td>\n    </tr>\n    <tr>\n      <th>10</th>\n      <td>2014-06-30 23:06:00</td>\n      <td>Обзор наиболее интересных материалов по анализ...</td>\n      <td>https://habr.com/ru/post/228187/</td>\n      <td>+24</td>\n      <td>Данный выпуск обзора наиболее интересных матер...</td>\n    </tr>\n    <tr>\n      <th>11</th>\n      <td>2014-10-13 14:00:00</td>\n      <td>Обзор наиболее интересных материалов по анализ...</td>\n      <td>https://habr.com/ru/post/240139/</td>\n      <td>+19</td>\n      <td>Представляю вашему вниманию очередной выпуск о...</td>\n    </tr>\n    <tr>\n      <th>12</th>\n      <td>2017-06-27 13:51:00</td>\n      <td>Использование Python и Excel для обработки и а...</td>\n      <td>https://habr.com/ru/company/otus/blog/331746/</td>\n      <td>+8</td>\n      <td>Если Вы только начинаете свой путь знакомства ...</td>\n    </tr>\n    <tr>\n      <th>13</th>\n      <td>2014-07-28 13:10:00</td>\n      <td>Обзор наиболее интересных материалов по анализ...</td>\n      <td>https://habr.com/ru/post/231323/</td>\n      <td>+20</td>\n      <td>В очередном выпуске обзора наиболее интересных...</td>\n    </tr>\n    <tr>\n      <th>14</th>\n      <td>2014-08-11 10:47:00</td>\n      <td>Обзор наиболее интересных материалов по анализ...</td>\n      <td>https://habr.com/ru/post/232879/</td>\n      <td>+23</td>\n      <td>Представляю вашему вниманию очередной выпуск о...</td>\n    </tr>\n    <tr>\n      <th>15</th>\n      <td>2014-11-23 16:49:00</td>\n      <td>Обзор наиболее интересных материалов по анализ...</td>\n      <td>https://habr.com/ru/post/243967/</td>\n      <td>+18</td>\n      <td>Представляю вашему вниманию очередной выпуск о...</td>\n    </tr>\n    <tr>\n      <th>16</th>\n      <td>2014-09-14 19:54:00</td>\n      <td>Обзор наиболее интересных материалов по анализ...</td>\n      <td>https://habr.com/ru/post/236757/</td>\n      <td>+25</td>\n      <td>Представляю вашему вниманию очередной выпуск о...</td>\n    </tr>\n    <tr>\n      <th>17</th>\n      <td>2015-01-18 18:02:00</td>\n      <td>Обзор наиболее интересных материалов по анализ...</td>\n      <td>https://habr.com/ru/post/248165/</td>\n      <td>+17</td>\n      <td>Представляю вашему вниманию очередной выпуск о...</td>\n    </tr>\n    <tr>\n      <th>18</th>\n      <td>2017-12-25 15:07:00</td>\n      <td>Новый подход к спортивному анализу данных: как...</td>\n      <td>https://habr.com/ru/article/344806/</td>\n      <td>+21</td>\n      <td>Специалистам по data science сейчас есть где р...</td>\n    </tr>\n    <tr>\n      <th>19</th>\n      <td>2014-10-05 19:57:00</td>\n      <td>Обзор наиболее интересных материалов по анализ...</td>\n      <td>https://habr.com/ru/post/239247/</td>\n      <td>+28</td>\n      <td>Представляю вашему вниманию очередной выпуск о...</td>\n    </tr>\n  </tbody>\n</table>\n</div>"
     },
     "execution_count": 11,
     "metadata": {},
     "output_type": "execute_result"
    }
   ],
   "source": [
    "def scrap_habr(search_str, page=1):\n",
    "    \"\"\"\n",
    "    :param\n",
    "      search_str: поисковый запрос array\n",
    "      page: пагинация\n",
    "\n",
    "    :return DF Pandas\n",
    "    \"\"\"\n",
    "\n",
    "    scrap_df = pd.DataFrame()\n",
    "    params_req = {\n",
    "        'url': 'https://habr.com/ru/search/',\n",
    "        'search': {\n",
    "            'target_type': 'posts',\n",
    "            'order': 'relevance',\n",
    "        }}\n",
    "    for search in search_str:\n",
    "        for i in range(1,page+1):\n",
    "            print(f'Ищем {search} на странице', i)\n",
    "            params_req['search']['q'] = search\n",
    "            try:\n",
    "                resp = req.get(params_req['url'] + f'page{i}/', params=params_req['search'])\n",
    "                to_data = bs(resp.text)\n",
    "                data = to_data.find_all('article', class_='tm-articles-list__item')\n",
    "                for item in data:\n",
    "                    date = datetime.strptime(item.find('time')['title'],'%Y-%m-%d, %H:%M')\n",
    "                    title_pre = item.find('h2', class_='tm-article-snippet__title') or item.find('h2', class_='tm-megapost-snippet__title')\n",
    "                    title = title_pre.text\n",
    "                    pre_link = item.find('a', class_='tm-article-snippet__title-link') or item.find('a', class_='tm-megapost-snippet__card')\n",
    "                    link = 'https://habr.com' + pre_link.get('href')\n",
    "                    likes = item.find('span', class_='tm-votes-meter__value_rating').text\n",
    "                    try:\n",
    "                        req_post = req.get(link) # t-records\n",
    "                        post = bs(req_post.text)\n",
    "                        prep_post = post.find('div', class_='article-formatted-body') or post.find('div', class_='t-records')\n",
    "                        full_text = prep_post.text.strip()\n",
    "                        row = {\n",
    "                            'date': date,\n",
    "                            'title': title,\n",
    "                            'link': link,\n",
    "                            'likes': likes,\n",
    "                            'full_text': full_text,\n",
    "                        }\n",
    "                        scrap_df = pd.concat([scrap_df, pd.DataFrame([row])])\n",
    "                        time.sleep(0.1)\n",
    "                        print(f'parse post \"{title}\" done')\n",
    "                    except NameError:\n",
    "                        print(f'Не удалось распарсить статью: {title} (link: {link})')\n",
    "                        print(NameError)\n",
    "                time.sleep(0.2)\n",
    "            except NameError:\n",
    "                print('Something wrong', NameError)\n",
    "            print(f'page {i} scrap done')\n",
    "    return scrap_df.reset_index(drop=True)\n",
    "\n",
    "df = scrap_habr(['анализ данных'], 1)\n",
    "df\n"
   ],
   "metadata": {
    "collapsed": false,
    "pycharm": {
     "name": "#%%\n"
    }
   }
  }
 ],
 "metadata": {
  "kernelspec": {
   "display_name": "Python 3",
   "language": "python",
   "name": "python3"
  },
  "language_info": {
   "codemirror_mode": {
    "name": "ipython",
    "version": 2
   },
   "file_extension": ".py",
   "mimetype": "text/x-python",
   "name": "python",
   "nbconvert_exporter": "python",
   "pygments_lexer": "ipython2",
   "version": "2.7.6"
  }
 },
 "nbformat": 4,
 "nbformat_minor": 0
}