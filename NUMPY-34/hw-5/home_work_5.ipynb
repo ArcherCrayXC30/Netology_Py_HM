{
 "cells": [
  {
   "cell_type": "markdown",
   "source": [
    "# Обязательная часть\n",
    "Вам необходимо написать функцию, которая будет основана на поиске по сайту habr.com. Функция в качестве параметра должна принимать список запросов для поиска (например, ['python', 'анализ данных']) и на основе материалов, попавших в результаты поиска по каждому запросу, возвращать датафрейм вида:\n",
    "\n",
    "<дата> - <заголовок> - <ссылка на материал>\n",
    "В рамках задания предполагается работа только с одной (первой) страницей результатов поисковой выдачи для каждого запроса. Материалы в датафрейме не должны дублироваться, если они попадали в результаты поиска для нескольких запросов из списка.\n",
    "\n",
    "# Дополнительная часть (необязательная)\n",
    "Функция из обязательной части задания должна быть расширена следующим образом:\n",
    "\n",
    "кроме списка ключевых слов для поиска необходимо объявить параметр с количеством страниц поисковой выдачи. Т.е. при передаче в функцию аргумента 4 необходимо получить материалы с первых 4 страниц результатов;\n",
    "в датафрейме должны быть столбцы с полным текстом найденных материалов и количеством лайков:\n",
    "<дата> - <заголовок> - <ссылка на материал> - <текст материала> - <количество лайков>"
   ],
   "metadata": {
    "collapsed": false
   }
  },
  {
   "cell_type": "code",
   "execution_count": 2,
   "metadata": {
    "collapsed": true
   },
   "outputs": [],
   "source": [
    "# imports\n",
    "import requests as req\n",
    "import pandas as pd\n",
    "from bs4 import BeautifulSoup as bs\n",
    "import time\n",
    "from datetime import datetime"
   ]
  },
  {
   "cell_type": "code",
   "execution_count": 10,
   "outputs": [
    {
     "name": "stdout",
     "output_type": "stream",
     "text": [
      "Ищем react на странице 1\n",
      "parse post \"Яндекс.Практикум запустил курс «React-разработчик»\" done\n",
      "parse post \"Энтузиаст создает интерфейс Windows 11 на React в браузере\" done\n",
      "parse post \"Процветание проектов, React-router v6, RTK query и карьерная лестница в ад на Meet Up JS\" done\n",
      "parse post \"React.js — Руководство для Rails разработчиков\" done\n",
      "parse post \"Введение в React\" done\n",
      "parse post \"Что такое React Native? Комплексное руководство 2021\" done\n",
      "parse post \"Обзор релиз-кандидата React v0.14\" done\n",
      "parse post \"Создаем приложение на JavaScript с помощью React Native\" done\n",
      "parse post \"Вышел React v16.0\" done\n",
      "parse post \"Новшества серверного рендеринга в React 16\" done\n",
      "parse post \"Анализ и оптимизация React-приложений\" done\n",
      "parse post \"Записки фрилансера: разработка первого React Native-приложения\" done\n",
      "parse post \"Импорт react с древнейших времен до наших дней\" done\n",
      "parse post \"Книга «React: современные шаблоны для разработки приложений 2-е издание»\" done\n",
      "parse post \"React 18\" done\n",
      "parse post \"Fiber изнутри: Погружение в новый алгоритм согласования React\" done\n",
      "parse post \"Изоморфные приложения. Взгляд в будущее с React\" done\n",
      "parse post \"React.js: собираем с нуля изоморфное / универсальное приложение. Часть 1: собираем стек\" done\n",
      "parse post \"React.js: собираем с нуля изоморфное / универсальное приложение. Часть 2: добавляем bootstrap, страницы и роутинг\" done\n",
      "parse post \"Готовим плацдарм для react-приложения\" done\n",
      "page 1 scrap done\n",
      "Ищем nest на странице 1\n",
      "parse post \"Google снижает качество съёмки камер Nest для экономии трафика\" done\n",
      "parse post \"Пользователи термостатов Nest жалуются на сбои  ... \" done\n",
      "parse post \"ОС Google Fuchsia заработает на Nest Hub первого поколения\" done\n",
      "parse post \"Владельцам Nest Hub не по нраву новый белый шум, который Google добавила в колонку\" done\n",
      "parse post \"Google представил новые устройства: Pixel 4, Pixelbook Go, Pixel Buds, Nest Mini, Nest Wifi\" done\n",
      "parse post \"NEST-NEXT: Best Practices — Часть 1\" done\n",
      "parse post \"NEST-NEXT: Best Practices — Часть 2\" done\n",
      "parse post \"Пишем nest.js с нуля на typescript\" done\n",
      "parse post \"Nest Protect: обзор новинки\" done\n",
      "parse post \"Строим REST API с использованием Nest.js и Swagger\" done\n",
      "parse post \"Nest столкнулась с серьезными проблемами из-за слабых продаж и недовольства сотрудников\" done\n",
      "parse post \"Переплатил ли Google за NEST?\" done\n",
      "parse post \"Навороченные камеры наблюдения Google Nest легко отключаются по Bluetooth\" done\n",
      "parse post \"Nest — не лучшее место для работы\" done\n",
      "parse post \"Nest Admin — панель управления для сайтов (landing page)\" done\n",
      "parse post \"Термостат Nest стал еще более умным\" done\n",
      "parse post \"Основатель Dropcam жалеет о продаже компании Nest и обвиняет последнюю в плохой организации управления проектами\" done\n",
      "parse post \"Google выходит на рынок умных домов, открыв API термостатов Nest\" done\n",
      "parse post \"Обзор nest.js: как эффективно его использовать\" done\n",
      "parse post \"Как совершить транзакцию в Nest.js\" done\n",
      "page 1 scrap done\n"
     ]
    },
    {
     "data": {
      "text/plain": "                  date                                              title  \\\n0  2021-02-26 12:32:00  Яндекс.Практикум запустил курс «React-разработ...   \n1  2021-08-27 16:10:00  Энтузиаст создает интерфейс Windows 11 на Reac...   \n2  2022-05-24 10:14:00  Процветание проектов, React-router v6, RTK que...   \n3  2016-04-21 23:16:00     React.js — Руководство для Rails разработчиков   \n4  2020-03-22 16:19:00                                   Введение в React   \n5  2021-12-17 08:00:00  Что такое React Native? Комплексное руководств...   \n6  2015-09-12 01:19:00                  Обзор релиз-кандидата React v0.14   \n7  2016-06-21 17:43:00  Создаем приложение на JavaScript с помощью Rea...   \n8  2017-09-28 16:42:00                                  Вышел React v16.0   \n9  2017-10-02 15:21:00         Новшества серверного рендеринга в React 16   \n10 2019-03-15 12:00:00              Анализ и оптимизация React-приложений   \n11 2019-04-19 12:00:00  Записки фрилансера: разработка первого React N...   \n12 2020-12-15 17:02:00     Импорт react с древнейших времен до наших дней   \n13 2021-09-14 15:53:00  Книга «React: современные шаблоны для разработ...   \n14 2022-04-07 11:22:00                                           React 18   \n15 2022-04-23 15:29:00  Fiber изнутри: Погружение в новый алгоритм сог...   \n16 2015-06-05 12:45:00    Изоморфные приложения. Взгляд в будущее с React   \n17 2016-09-14 10:45:00  React.js: собираем с нуля изоморфное / универс...   \n18 2016-09-21 10:36:00  React.js: собираем с нуля изоморфное / универс...   \n19 2017-03-17 16:46:00              Готовим плацдарм для react-приложения   \n20 2020-04-15 17:02:00  Google снижает качество съёмки камер Nest для ...   \n21 2020-07-25 19:45:00  Пользователи термостатов Nest жалуются на сбои...   \n22 2021-08-22 09:18:00  ОС Google Fuchsia заработает на Nest Hub перво...   \n23 2022-01-18 12:39:00  Владельцам Nest Hub не по нраву новый белый шу...   \n24 2019-10-15 18:21:00  Google представил новые устройства: Pixel 4, P...   \n25 2021-08-02 15:56:00                NEST-NEXT: Best Practices — Часть 1   \n26 2021-08-03 16:11:00                NEST-NEXT: Best Practices — Часть 2   \n27 2022-02-12 16:13:00                 Пишем nest.js с нуля на typescript   \n28 2014-01-21 15:04:00                        Nest Protect: обзор новинки   \n29 2022-05-28 15:21:00  Строим REST API с использованием Nest.js и Swa...   \n30 2016-03-31 13:43:00  Nest столкнулась с серьезными проблемами из-за...   \n31 2014-01-24 07:51:00                      Переплатил ли Google за NEST?   \n32 2017-03-22 21:11:00  Навороченные камеры наблюдения Google Nest лег...   \n33 2016-02-16 23:46:00                  Nest — не лучшее место для работы   \n34 2016-08-15 11:33:00  Nest Admin — панель управления для сайтов (lan...   \n35 2014-09-10 13:44:00                Термостат Nest стал еще более умным   \n36 2016-03-30 17:38:00  Основатель Dropcam жалеет о продаже компании N...   \n37 2014-06-25 07:28:00  Google выходит на рынок умных домов, открыв AP...   \n38 2022-05-17 11:41:00     Обзор nest.js: как эффективно его использовать   \n39 2021-02-11 13:03:00                 Как совершить транзакцию в Nest.js   \n\n                                                 link likes  \\\n0   https://habr.com/ru/company/yandex_praktikum/n...    +6   \n1                  https://habr.com/ru/news/t/575002/   +11   \n2     https://habr.com/ru/company/alfa/news/t/667470/   +13   \n3                    https://habr.com/ru/post/281735/    +7   \n4                    https://habr.com/ru/post/461541/    +4   \n5                    https://habr.com/ru/post/596183/     0   \n6                    https://habr.com/ru/post/266683/   +16   \n7    https://habr.com/ru/company/plarium/blog/303328/   +27   \n8                    https://habr.com/ru/post/338932/   +22   \n9      https://habr.com/ru/company/ruvds/blog/339148/   +33   \n10     https://habr.com/ru/company/ruvds/blog/442650/   +30   \n11     https://habr.com/ru/company/ruvds/blog/447574/   +41   \n12     https://habr.com/ru/company/ruvds/blog/532338/   +26   \n13     https://habr.com/ru/company/piter/blog/577862/    +4   \n14                   https://habr.com/ru/post/659537/    +5   \n15                   https://habr.com/ru/post/662549/    +8   \n16                   https://habr.com/ru/post/259625/   +23   \n17                   https://habr.com/ru/post/309958/   +41   \n18                   https://habr.com/ru/post/310284/   +23   \n19                   https://habr.com/ru/post/324232/   +19   \n20                 https://habr.com/ru/news/t/497418/    +9   \n21                 https://habr.com/ru/news/t/512434/    +5   \n22                 https://habr.com/ru/news/t/574066/   +12   \n23                 https://habr.com/ru/news/t/646211/   +10   \n24   https://habr.com/ru/company/jugru/news/t/471638/   +27   \n25                   https://habr.com/ru/post/570886/    +2   \n26                   https://habr.com/ru/post/571032/    +4   \n27                   https://habr.com/ru/post/651139/    +8   \n28  https://habr.com/ru/company/telebreeze/blog/20...    -1   \n29                   https://habr.com/ru/post/668340/    +6   \n30                   https://habr.com/ru/post/299788/   +10   \n31                   https://habr.com/ru/post/210134/   +21   \n32                   https://habr.com/ru/post/402499/   +11   \n33                   https://habr.com/ru/post/298714/   +11   \n34                   https://habr.com/ru/post/307750/    -3   \n35  https://habr.com/ru/company/medgadgets/blog/23...   +11   \n36                   https://habr.com/ru/post/299768/    +9   \n37                   https://habr.com/ru/post/227509/   +11   \n38  https://habr.com/ru/company/solarsecurity/blog...    +6   \n39                   https://habr.com/ru/post/541866/   +10   \n\n                                            full_text  \n0   Сервис онлайн-образования Яндекс.Практикум зап...  \n1   Разработчик под ником Blue Edge опубликовал на...  \n2   В среду 1 июня проведём гибридный митап с кома...  \n3   На начальном уровне такие переводы — мой вклад...  \n4   Оглавление\\n1. Getting started with React\\r\\n....  \n5   Вот уже несколько лет React Native является го...  \n6   Мы рады представить вам наш первый релиз-канди...  \n7   В этом уроке мы будем изучать React Native – ф...  \n8   Это перевод поста Эндрю Кларка о выходе столь ...  \n9   Вышел React 16! Рассказывая об этом событии, м...  \n10  Люди, вроде меня, которые борются за высокую п...  \n11  Автор материала, перевод которого мы публикуем...  \n12  Прежде чем мы начнём разговор о способах импор...  \n13  Привет, Хаброжители! Хотите создавать эффектив...  \n14  В нашем последнем посте мы поделились пошаговы...  \n15  Погрузитесь глубоко в новую архитектуру React ...  \n16  Оригинал: React To The Future With Isomorphic ...  \n17  Лицо моей жены, когда она вычитывала эту стать...  \n18  Разработка изоморфного приложения глазами моей...  \n19  Я хочу рассказать о процессе создание платформ...  \n20  Компания Google временно снизила качество запи...  \n21  В конце июля 2020 года некоторые пользователи ...  \n22  Google распространит обновленную ОС Fuchsia на...  \n23  Пользователи заметили, что Google заменила зву...  \n24  Google провёл свою ежегодную презентацию «желе...  \n25  Это первая часть статьи о применении комбинаци...  \n26  Это вторая часть статьи о применении комбинаци...  \n27  Цитата из документации:  Nest предоставляет го...  \n28  Детектор огня и угарного газа играет важную ро...  \n29  ВведениеДрузья, всем привет! Меня зовут Алексе...  \n30  Вчера основатель компании Dropcam Грег Даффи, ...  \n31  13 января 2014 года, Google объявил о приобрет...  \n32  Искусственный интеллект для обнаружения людей ...  \n33  Nest — один из самых перспективных стартапов п...  \n34  Nest — бесплатная, подключаемая панель управле...  \n35  Не так давно на Хабре публиковалась новость о ...  \n36  Типичный подход — основал стартап, получил инв...  \n37  Похоже, следующая большая штука этого года — у...  \n38  Добрый день. В нашей компании мы очень трепетн...  \n39  Во множестве случаев разработчики должны испол...  ",
      "text/html": "<div>\n<style scoped>\n    .dataframe tbody tr th:only-of-type {\n        vertical-align: middle;\n    }\n\n    .dataframe tbody tr th {\n        vertical-align: top;\n    }\n\n    .dataframe thead th {\n        text-align: right;\n    }\n</style>\n<table border=\"1\" class=\"dataframe\">\n  <thead>\n    <tr style=\"text-align: right;\">\n      <th></th>\n      <th>date</th>\n      <th>title</th>\n      <th>link</th>\n      <th>likes</th>\n      <th>full_text</th>\n    </tr>\n  </thead>\n  <tbody>\n    <tr>\n      <th>0</th>\n      <td>2021-02-26 12:32:00</td>\n      <td>Яндекс.Практикум запустил курс «React-разработ...</td>\n      <td>https://habr.com/ru/company/yandex_praktikum/n...</td>\n      <td>+6</td>\n      <td>Сервис онлайн-образования Яндекс.Практикум зап...</td>\n    </tr>\n    <tr>\n      <th>1</th>\n      <td>2021-08-27 16:10:00</td>\n      <td>Энтузиаст создает интерфейс Windows 11 на Reac...</td>\n      <td>https://habr.com/ru/news/t/575002/</td>\n      <td>+11</td>\n      <td>Разработчик под ником Blue Edge опубликовал на...</td>\n    </tr>\n    <tr>\n      <th>2</th>\n      <td>2022-05-24 10:14:00</td>\n      <td>Процветание проектов, React-router v6, RTK que...</td>\n      <td>https://habr.com/ru/company/alfa/news/t/667470/</td>\n      <td>+13</td>\n      <td>В среду 1 июня проведём гибридный митап с кома...</td>\n    </tr>\n    <tr>\n      <th>3</th>\n      <td>2016-04-21 23:16:00</td>\n      <td>React.js — Руководство для Rails разработчиков</td>\n      <td>https://habr.com/ru/post/281735/</td>\n      <td>+7</td>\n      <td>На начальном уровне такие переводы — мой вклад...</td>\n    </tr>\n    <tr>\n      <th>4</th>\n      <td>2020-03-22 16:19:00</td>\n      <td>Введение в React</td>\n      <td>https://habr.com/ru/post/461541/</td>\n      <td>+4</td>\n      <td>Оглавление\\n1. Getting started with React\\r\\n....</td>\n    </tr>\n    <tr>\n      <th>5</th>\n      <td>2021-12-17 08:00:00</td>\n      <td>Что такое React Native? Комплексное руководств...</td>\n      <td>https://habr.com/ru/post/596183/</td>\n      <td>0</td>\n      <td>Вот уже несколько лет React Native является го...</td>\n    </tr>\n    <tr>\n      <th>6</th>\n      <td>2015-09-12 01:19:00</td>\n      <td>Обзор релиз-кандидата React v0.14</td>\n      <td>https://habr.com/ru/post/266683/</td>\n      <td>+16</td>\n      <td>Мы рады представить вам наш первый релиз-канди...</td>\n    </tr>\n    <tr>\n      <th>7</th>\n      <td>2016-06-21 17:43:00</td>\n      <td>Создаем приложение на JavaScript с помощью Rea...</td>\n      <td>https://habr.com/ru/company/plarium/blog/303328/</td>\n      <td>+27</td>\n      <td>В этом уроке мы будем изучать React Native – ф...</td>\n    </tr>\n    <tr>\n      <th>8</th>\n      <td>2017-09-28 16:42:00</td>\n      <td>Вышел React v16.0</td>\n      <td>https://habr.com/ru/post/338932/</td>\n      <td>+22</td>\n      <td>Это перевод поста Эндрю Кларка о выходе столь ...</td>\n    </tr>\n    <tr>\n      <th>9</th>\n      <td>2017-10-02 15:21:00</td>\n      <td>Новшества серверного рендеринга в React 16</td>\n      <td>https://habr.com/ru/company/ruvds/blog/339148/</td>\n      <td>+33</td>\n      <td>Вышел React 16! Рассказывая об этом событии, м...</td>\n    </tr>\n    <tr>\n      <th>10</th>\n      <td>2019-03-15 12:00:00</td>\n      <td>Анализ и оптимизация React-приложений</td>\n      <td>https://habr.com/ru/company/ruvds/blog/442650/</td>\n      <td>+30</td>\n      <td>Люди, вроде меня, которые борются за высокую п...</td>\n    </tr>\n    <tr>\n      <th>11</th>\n      <td>2019-04-19 12:00:00</td>\n      <td>Записки фрилансера: разработка первого React N...</td>\n      <td>https://habr.com/ru/company/ruvds/blog/447574/</td>\n      <td>+41</td>\n      <td>Автор материала, перевод которого мы публикуем...</td>\n    </tr>\n    <tr>\n      <th>12</th>\n      <td>2020-12-15 17:02:00</td>\n      <td>Импорт react с древнейших времен до наших дней</td>\n      <td>https://habr.com/ru/company/ruvds/blog/532338/</td>\n      <td>+26</td>\n      <td>Прежде чем мы начнём разговор о способах импор...</td>\n    </tr>\n    <tr>\n      <th>13</th>\n      <td>2021-09-14 15:53:00</td>\n      <td>Книга «React: современные шаблоны для разработ...</td>\n      <td>https://habr.com/ru/company/piter/blog/577862/</td>\n      <td>+4</td>\n      <td>Привет, Хаброжители! Хотите создавать эффектив...</td>\n    </tr>\n    <tr>\n      <th>14</th>\n      <td>2022-04-07 11:22:00</td>\n      <td>React 18</td>\n      <td>https://habr.com/ru/post/659537/</td>\n      <td>+5</td>\n      <td>В нашем последнем посте мы поделились пошаговы...</td>\n    </tr>\n    <tr>\n      <th>15</th>\n      <td>2022-04-23 15:29:00</td>\n      <td>Fiber изнутри: Погружение в новый алгоритм сог...</td>\n      <td>https://habr.com/ru/post/662549/</td>\n      <td>+8</td>\n      <td>Погрузитесь глубоко в новую архитектуру React ...</td>\n    </tr>\n    <tr>\n      <th>16</th>\n      <td>2015-06-05 12:45:00</td>\n      <td>Изоморфные приложения. Взгляд в будущее с React</td>\n      <td>https://habr.com/ru/post/259625/</td>\n      <td>+23</td>\n      <td>Оригинал: React To The Future With Isomorphic ...</td>\n    </tr>\n    <tr>\n      <th>17</th>\n      <td>2016-09-14 10:45:00</td>\n      <td>React.js: собираем с нуля изоморфное / универс...</td>\n      <td>https://habr.com/ru/post/309958/</td>\n      <td>+41</td>\n      <td>Лицо моей жены, когда она вычитывала эту стать...</td>\n    </tr>\n    <tr>\n      <th>18</th>\n      <td>2016-09-21 10:36:00</td>\n      <td>React.js: собираем с нуля изоморфное / универс...</td>\n      <td>https://habr.com/ru/post/310284/</td>\n      <td>+23</td>\n      <td>Разработка изоморфного приложения глазами моей...</td>\n    </tr>\n    <tr>\n      <th>19</th>\n      <td>2017-03-17 16:46:00</td>\n      <td>Готовим плацдарм для react-приложения</td>\n      <td>https://habr.com/ru/post/324232/</td>\n      <td>+19</td>\n      <td>Я хочу рассказать о процессе создание платформ...</td>\n    </tr>\n    <tr>\n      <th>20</th>\n      <td>2020-04-15 17:02:00</td>\n      <td>Google снижает качество съёмки камер Nest для ...</td>\n      <td>https://habr.com/ru/news/t/497418/</td>\n      <td>+9</td>\n      <td>Компания Google временно снизила качество запи...</td>\n    </tr>\n    <tr>\n      <th>21</th>\n      <td>2020-07-25 19:45:00</td>\n      <td>Пользователи термостатов Nest жалуются на сбои...</td>\n      <td>https://habr.com/ru/news/t/512434/</td>\n      <td>+5</td>\n      <td>В конце июля 2020 года некоторые пользователи ...</td>\n    </tr>\n    <tr>\n      <th>22</th>\n      <td>2021-08-22 09:18:00</td>\n      <td>ОС Google Fuchsia заработает на Nest Hub перво...</td>\n      <td>https://habr.com/ru/news/t/574066/</td>\n      <td>+12</td>\n      <td>Google распространит обновленную ОС Fuchsia на...</td>\n    </tr>\n    <tr>\n      <th>23</th>\n      <td>2022-01-18 12:39:00</td>\n      <td>Владельцам Nest Hub не по нраву новый белый шу...</td>\n      <td>https://habr.com/ru/news/t/646211/</td>\n      <td>+10</td>\n      <td>Пользователи заметили, что Google заменила зву...</td>\n    </tr>\n    <tr>\n      <th>24</th>\n      <td>2019-10-15 18:21:00</td>\n      <td>Google представил новые устройства: Pixel 4, P...</td>\n      <td>https://habr.com/ru/company/jugru/news/t/471638/</td>\n      <td>+27</td>\n      <td>Google провёл свою ежегодную презентацию «желе...</td>\n    </tr>\n    <tr>\n      <th>25</th>\n      <td>2021-08-02 15:56:00</td>\n      <td>NEST-NEXT: Best Practices — Часть 1</td>\n      <td>https://habr.com/ru/post/570886/</td>\n      <td>+2</td>\n      <td>Это первая часть статьи о применении комбинаци...</td>\n    </tr>\n    <tr>\n      <th>26</th>\n      <td>2021-08-03 16:11:00</td>\n      <td>NEST-NEXT: Best Practices — Часть 2</td>\n      <td>https://habr.com/ru/post/571032/</td>\n      <td>+4</td>\n      <td>Это вторая часть статьи о применении комбинаци...</td>\n    </tr>\n    <tr>\n      <th>27</th>\n      <td>2022-02-12 16:13:00</td>\n      <td>Пишем nest.js с нуля на typescript</td>\n      <td>https://habr.com/ru/post/651139/</td>\n      <td>+8</td>\n      <td>Цитата из документации:  Nest предоставляет го...</td>\n    </tr>\n    <tr>\n      <th>28</th>\n      <td>2014-01-21 15:04:00</td>\n      <td>Nest Protect: обзор новинки</td>\n      <td>https://habr.com/ru/company/telebreeze/blog/20...</td>\n      <td>-1</td>\n      <td>Детектор огня и угарного газа играет важную ро...</td>\n    </tr>\n    <tr>\n      <th>29</th>\n      <td>2022-05-28 15:21:00</td>\n      <td>Строим REST API с использованием Nest.js и Swa...</td>\n      <td>https://habr.com/ru/post/668340/</td>\n      <td>+6</td>\n      <td>ВведениеДрузья, всем привет! Меня зовут Алексе...</td>\n    </tr>\n    <tr>\n      <th>30</th>\n      <td>2016-03-31 13:43:00</td>\n      <td>Nest столкнулась с серьезными проблемами из-за...</td>\n      <td>https://habr.com/ru/post/299788/</td>\n      <td>+10</td>\n      <td>Вчера основатель компании Dropcam Грег Даффи, ...</td>\n    </tr>\n    <tr>\n      <th>31</th>\n      <td>2014-01-24 07:51:00</td>\n      <td>Переплатил ли Google за NEST?</td>\n      <td>https://habr.com/ru/post/210134/</td>\n      <td>+21</td>\n      <td>13 января 2014 года, Google объявил о приобрет...</td>\n    </tr>\n    <tr>\n      <th>32</th>\n      <td>2017-03-22 21:11:00</td>\n      <td>Навороченные камеры наблюдения Google Nest лег...</td>\n      <td>https://habr.com/ru/post/402499/</td>\n      <td>+11</td>\n      <td>Искусственный интеллект для обнаружения людей ...</td>\n    </tr>\n    <tr>\n      <th>33</th>\n      <td>2016-02-16 23:46:00</td>\n      <td>Nest — не лучшее место для работы</td>\n      <td>https://habr.com/ru/post/298714/</td>\n      <td>+11</td>\n      <td>Nest — один из самых перспективных стартапов п...</td>\n    </tr>\n    <tr>\n      <th>34</th>\n      <td>2016-08-15 11:33:00</td>\n      <td>Nest Admin — панель управления для сайтов (lan...</td>\n      <td>https://habr.com/ru/post/307750/</td>\n      <td>-3</td>\n      <td>Nest — бесплатная, подключаемая панель управле...</td>\n    </tr>\n    <tr>\n      <th>35</th>\n      <td>2014-09-10 13:44:00</td>\n      <td>Термостат Nest стал еще более умным</td>\n      <td>https://habr.com/ru/company/medgadgets/blog/23...</td>\n      <td>+11</td>\n      <td>Не так давно на Хабре публиковалась новость о ...</td>\n    </tr>\n    <tr>\n      <th>36</th>\n      <td>2016-03-30 17:38:00</td>\n      <td>Основатель Dropcam жалеет о продаже компании N...</td>\n      <td>https://habr.com/ru/post/299768/</td>\n      <td>+9</td>\n      <td>Типичный подход — основал стартап, получил инв...</td>\n    </tr>\n    <tr>\n      <th>37</th>\n      <td>2014-06-25 07:28:00</td>\n      <td>Google выходит на рынок умных домов, открыв AP...</td>\n      <td>https://habr.com/ru/post/227509/</td>\n      <td>+11</td>\n      <td>Похоже, следующая большая штука этого года — у...</td>\n    </tr>\n    <tr>\n      <th>38</th>\n      <td>2022-05-17 11:41:00</td>\n      <td>Обзор nest.js: как эффективно его использовать</td>\n      <td>https://habr.com/ru/company/solarsecurity/blog...</td>\n      <td>+6</td>\n      <td>Добрый день. В нашей компании мы очень трепетн...</td>\n    </tr>\n    <tr>\n      <th>39</th>\n      <td>2021-02-11 13:03:00</td>\n      <td>Как совершить транзакцию в Nest.js</td>\n      <td>https://habr.com/ru/post/541866/</td>\n      <td>+10</td>\n      <td>Во множестве случаев разработчики должны испол...</td>\n    </tr>\n  </tbody>\n</table>\n</div>"
     },
     "execution_count": 10,
     "metadata": {},
     "output_type": "execute_result"
    }
   ],
   "source": [
    "def scrap_habr(search_str, page=1):\n",
    "    \"\"\"\n",
    "    :param\n",
    "      search_str: поисковый запрос array\n",
    "      page: пагинация\n",
    "\n",
    "    :return DF Pandas\n",
    "    \"\"\"\n",
    "\n",
    "    scrap_df = pd.DataFrame()\n",
    "    params_req = {\n",
    "        'url': 'https://habr.com/ru/search/',\n",
    "        'search': {\n",
    "            'target_type': 'posts',\n",
    "            'order': 'relevance',\n",
    "        }}\n",
    "    for search in search_str:\n",
    "        for i in range(1,page+1):\n",
    "            print(f'Ищем {search} на странице', i)\n",
    "            params_req['search']['q'] = search\n",
    "            try:\n",
    "                resp = req.get(params_req['url'] + f'page{i}/', params=params_req['search'])\n",
    "                to_data = bs(resp.text)\n",
    "                data = to_data.find_all('article', class_='tm-articles-list__item')\n",
    "                for item in data:\n",
    "                    date = datetime.strptime(item.find('time')['title'],'%Y-%m-%d, %H:%M')\n",
    "                    title = item.find('h2', class_='tm-article-snippet__title').text\n",
    "                    link = 'https://habr.com' + item.find('a', class_='tm-article-snippet__title-link').get('href')\n",
    "                    likes = item.find('span', class_='tm-votes-meter__value_rating').text\n",
    "                    try:\n",
    "                        req_post = req.get(link)\n",
    "                        full_text = bs(req_post.text).find('div', class_='article-formatted-body').text.strip()\n",
    "                        row = {\n",
    "                            'date': date,\n",
    "                            'title': title,\n",
    "                            'link': link,\n",
    "                            'likes': likes,\n",
    "                            'full_text': full_text,\n",
    "                        }\n",
    "                        scrap_df = pd.concat([scrap_df, pd.DataFrame([row])])\n",
    "                        time.sleep(0.1)\n",
    "                        print(f'parse post \"{title}\" done')\n",
    "                    except NameError:\n",
    "                        print(f'Не удалось распарсить статью: {title} (link: {link})')\n",
    "                        print(NameError)\n",
    "                time.sleep(0.2)\n",
    "            except NameError:\n",
    "                print('Something wrong', NameError)\n",
    "            print(f'page {i} scrap done')\n",
    "    return scrap_df.reset_index(drop=True)\n",
    "\n",
    "df = scrap_habr(['react', 'nest'], 1)\n",
    "df\n"
   ],
   "metadata": {
    "collapsed": false,
    "pycharm": {
     "name": "#%%\n"
    }
   }
  }
 ],
 "metadata": {
  "kernelspec": {
   "display_name": "Python 3",
   "language": "python",
   "name": "python3"
  },
  "language_info": {
   "codemirror_mode": {
    "name": "ipython",
    "version": 2
   },
   "file_extension": ".py",
   "mimetype": "text/x-python",
   "name": "python",
   "nbconvert_exporter": "python",
   "pygments_lexer": "ipython2",
   "version": "2.7.6"
  }
 },
 "nbformat": 4,
 "nbformat_minor": 0
}