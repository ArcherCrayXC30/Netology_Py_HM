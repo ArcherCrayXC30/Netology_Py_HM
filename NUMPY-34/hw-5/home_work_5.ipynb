{
 "cells": [
  {
   "cell_type": "markdown",
   "source": [
    "# Обязательная часть\n",
    "Вам необходимо написать функцию, которая будет основана на поиске по сайту habr.com. Функция в качестве параметра должна принимать список запросов для поиска (например, ['python', 'анализ данных']) и на основе материалов, попавших в результаты поиска по каждому запросу, возвращать датафрейм вида:\n",
    "\n",
    "<дата> - <заголовок> - <ссылка на материал>\n",
    "В рамках задания предполагается работа только с одной (первой) страницей результатов поисковой выдачи для каждого запроса. Материалы в датафрейме не должны дублироваться, если они попадали в результаты поиска для нескольких запросов из списка.\n",
    "\n",
    "# Дополнительная часть (необязательная)\n",
    "Функция из обязательной части задания должна быть расширена следующим образом:\n",
    "\n",
    "кроме списка ключевых слов для поиска необходимо объявить параметр с количеством страниц поисковой выдачи. Т.е. при передаче в функцию аргумента 4 необходимо получить материалы с первых 4 страниц результатов;\n",
    "в датафрейме должны быть столбцы с полным текстом найденных материалов и количеством лайков:\n",
    "<дата> - <заголовок> - <ссылка на материал> - <текст материала> - <количество лайков>"
   ],
   "metadata": {
    "collapsed": false
   }
  },
  {
   "cell_type": "code",
   "execution_count": 72,
   "metadata": {
    "collapsed": true
   },
   "outputs": [],
   "source": [
    "# imports\n",
    "import requests as req\n",
    "import pandas as pd\n",
    "from bs4 import BeautifulSoup as bs\n",
    "import time\n",
    "from datetime import datetime"
   ]
  },
  {
   "cell_type": "code",
   "execution_count": 76,
   "outputs": [
    {
     "name": "stdout",
     "output_type": "stream",
     "text": [
      "page 1\n",
      "page 2\n"
     ]
    },
    {
     "data": {
      "text/plain": "                  date                                              title  \\\n0  2022-07-13 10:00:00  Сравнительный анализ эффективности работы Cyth...   \n1  2022-01-20 18:37:00  Курс «Python для инженеров». Старт 3 потока 31...   \n2  2021-12-13 09:00:00  Жаждущим автоматизации: открытый урок «ChatOps...   \n3  2020-04-21 18:35:00  Вышел Python 2.7.18, последний релиз ветки Pyt...   \n4  2021-07-06 13:29:00  Python Community Meetup 8/07: видео и материал...   \n5  2022-01-13 18:35:00  Открытый урок «Пишем Custom Prometheus Exporte...   \n6  2020-12-04 21:03:00  Python как компилируемый статически типизирова...   \n7  2022-03-08 12:13:00  Вышел мартовский релиз расширения Python для V...   \n8  2020-03-03 13:22:00   ...  начале этого года Python сместил Java и ...   \n9  2021-11-16 16:09:00  EPAM разработала бесплатный курс по программир...   \n10 2020-06-03 09:00:00  Вышла версия 0.0.2 snakeware — дистрибутива Li...   \n11 2020-11-13 10:10:00  Создатель Python Гвидо ван Россум выходит на р...   \n12 2019-10-31 10:02:00  Создатель Python Гвидо ван Россум ушел из Drop...   \n13 2021-10-06 12:36:00          Вышел язык программирования Python 3.10.0   \n14 2021-10-11 10:02:00  Python вышел на первое место рейтинга TIOBE, и...   \n15 2022-06-03 14:47:00  «Тестирование веб-приложений на Python» — новы...   \n16 2020-09-16 16:48:00  Астрономам порекомендовали меньше использовать...   \n17 2022-01-15 19:00:00  Разработчик предложил устроить коммунистическу...   \n18 2022-05-18 18:33:00  Слёрм запускает 3-дневный интенсив по Python д...   \n19 2022-03-18 18:31:00  24 марта Слёрм проведёт открытый урок «Первый ...   \n20 2022-04-22 14:42:00  TechnoMeetsPython. Онлайн митап о Python-разра...   \n21 2021-09-27 09:03:00  «Разработчикам вход запрещен» или курс «Python...   \n22 2021-12-10 13:15:00  Интенсив для повышения квалификации: как испол...   \n23 2022-02-04 14:04:00  В Visual Studio Code добавили новые возможност...   \n24 2022-05-24 10:57:00  Дайджест Слёрма: тест на уровень кунг-фу по Py...   \n25 2021-09-22 08:03:00            Открытый вебинар «The Python Packaging»   \n26 2021-10-18 10:08:00  Intel оптимизировала библиотеку Numpy под AVX-...   \n27 2021-10-20 16:43:00  Новый хакатон от СберЗвука для Python-разработ...   \n28 2022-06-27 16:57:00  В стороннем официальном репозитории Python был...   \n29 2021-12-08 23:20:00  Открытый семинар: FastAPI, или как быстро доба...   \n30 2022-04-18 06:29:00  Онлайн-митап от руководителя практики Python U...   \n31 2012-07-09 10:21:00                                   Мысли о Python 3   \n32 2012-12-09 07:16:00  Дружим Python 3 с MS Visual C++. Строим мост в...   \n33 2013-02-03 17:26:00  Объединяя C++ и Python. Тонкости Boost.Python....   \n34 2013-02-10 12:24:00  Конвертация типов в Boost.Python. Делаем преоб...   \n35 2013-02-17 17:37:00  Путешествие исключений между C++ и Python или ...   \n36 2013-11-25 12:41:00                             Менеджер версий python   \n37 2013-12-18 10:12:00                                    Python на Хабре   \n38 2015-10-23 15:45:00  10 приложений для изучения Python на Android-у...   \n39 2017-09-07 18:28:00                                Что за чёрт, Python   \n\n                                                 link likes  \\\n0                    https://habr.com/ru/post/676426/   +10   \n1   https://habr.com/ru/company/southbridge/news/t...   +10   \n2   https://habr.com/ru/company/southbridge/news/t...    +9   \n3                  https://habr.com/ru/news/t/498364/   +19   \n4   https://habr.com/ru/company/raiffeisenbank/new...    +3   \n5   https://habr.com/ru/company/southbridge/news/t...   +10   \n6                  https://habr.com/ru/news/t/531402/   +16   \n7                  https://habr.com/ru/news/t/654707/     0   \n8   https://habr.com/ru/company/itsumma/news/t/490...   +31   \n9   https://habr.com/ru/company/epam_systems/news/...    +3   \n10                 https://habr.com/ru/news/t/505096/   +19   \n11                 https://habr.com/ru/news/t/527858/   +21   \n12                 https://habr.com/ru/news/t/473926/   +23   \n13                 https://habr.com/ru/news/t/581862/   +12   \n14                 https://habr.com/ru/news/t/582682/   +17   \n15  https://habr.com/ru/company/yandex_praktikum/n...    +1   \n16                 https://habr.com/ru/news/t/519414/   +22   \n17                 https://habr.com/ru/news/t/645777/    +7   \n18  https://habr.com/ru/company/southbridge/news/t...    +5   \n19  https://habr.com/ru/company/southbridge/news/t...   +14   \n20                 https://habr.com/ru/news/t/662437/    +2   \n21  https://habr.com/ru/company/southbridge/news/t...   +11   \n22  https://habr.com/ru/company/netologyru/news/t/...    +4   \n23                 https://habr.com/ru/news/t/649717/    +9   \n24  https://habr.com/ru/company/southbridge/news/t...    +9   \n25                 https://habr.com/ru/news/t/579264/    +3   \n26  https://habr.com/ru/company/itsumma/news/t/584...   +39   \n27                 https://habr.com/ru/news/t/584584/    +3   \n28                 https://habr.com/ru/news/t/673668/    +7   \n29                 https://habr.com/ru/news/t/594325/    +2   \n30  https://habr.com/ru/company/usetech/news/t/661...     0   \n31                   https://habr.com/ru/post/147281/  +108   \n32                   https://habr.com/ru/post/161931/    +6   \n33                   https://habr.com/ru/post/168083/   +64   \n34                   https://habr.com/ru/post/168827/   +23   \n35                   https://habr.com/ru/post/169639/   +35   \n36                   https://habr.com/ru/post/203516/   +29   \n37                   https://habr.com/ru/post/205944/  +142   \n38                   https://habr.com/ru/post/269411/   +11   \n39        https://habr.com/ru/company/vk/blog/337364/   +54   \n\n                                            full_text  \n0   Итак, что такое Cython? Cython – это язык, кот...  \n1   Курс нацелен дать максимальную пользу, поэтому...  \n2   21 декабря Слёрм проведёт открытый урок «ChatO...  \n3   \\r\\n20 апреля 2020 года, спустя почти десять л...  \n4   Первый открытый онлайн-митап сообщества, для к...  \n5   19 января Слёрм проведёт открытый урок «Пишем ...  \n6   По данным широко известного в узких кругах Tio...  \n7   Вышел выпуск расширения Python для Visual Stud...  \n8   Согласно отчету RedMonk за январь 2020 года, P...  \n9   Компания EPAM запустила бесплатный курс для са...  \n10  \\n\\r\\n31 мая 2020 года разработчик Джош Мур (J...  \n11  \\n\\r\\nСоздатель языка программирования Python ...  \n12  \\n\\r\\nСоздатель языка программирования Python ...  \n13  В официальном блоге языка Python заявили о вых...  \n14  TIOBE представила рейтинг популярности языков ...  \n15  Сервис онлайн-образования Яндекс Практикум зап...  \n16  \\n\\r\\nАстрономы из Лейденской обсерватории опу...  \n17  \\n\\r\\n14 января 2022 года разработчик jokteur ...  \n18  24-26 июня пройдёт онлайн-интенсив для инженер...  \n19  Думаете, написать свою первую программу на Pyt...  \n20  27 апреля в 18:00 собираем питонистов на YouTu...  \n21  Полгода назад мы анонсировали первый поток кур...  \n22  14 декабря в Нетологии пройдёт вебинар, посвящ...  \n23  В блоге Microsoft сообщили о нововведениях пла...  \n24  Сделали для вас подборку свежих статей и выгод...  \n25  23 сентября в 16:30 в рамках цикла открытых те...  \n26  \\nРасположение векторного регистрового файла (...  \n27  Привет, Хабр! Если вы хотите проверить свои си...  \n28  В официальном стороннем репозитории Python был...  \n29  9 декабря в 16:30 Виктор Бебнев (Xperience AI)...  \n30  В конце марта Мстислав Казаков, руководитель п...  \n31  Предлагаю вашему вниманю пересказ замечательно...  \n32  Всем доброго {daytime}!\\n\\r\\nСегодня пришла по...  \n33  Boost.Python во всех отношениях замечательная ...  \n34  Данная статья не является продолжением повеств...  \n35  В этой главе сказа про дружбу C++ и Python буд...  \n36  Иногда полезно держать несколько версий python...  \n37  Некоторое время назад, в силу определенных при...  \n38  В процессе изучения языка мы обычно пользуемся...  \n39  \\nНедавно мы писали о забавных, хитрых и стран...  ",
      "text/html": "<div>\n<style scoped>\n    .dataframe tbody tr th:only-of-type {\n        vertical-align: middle;\n    }\n\n    .dataframe tbody tr th {\n        vertical-align: top;\n    }\n\n    .dataframe thead th {\n        text-align: right;\n    }\n</style>\n<table border=\"1\" class=\"dataframe\">\n  <thead>\n    <tr style=\"text-align: right;\">\n      <th></th>\n      <th>date</th>\n      <th>title</th>\n      <th>link</th>\n      <th>likes</th>\n      <th>full_text</th>\n    </tr>\n  </thead>\n  <tbody>\n    <tr>\n      <th>0</th>\n      <td>2022-07-13 10:00:00</td>\n      <td>Сравнительный анализ эффективности работы Cyth...</td>\n      <td>https://habr.com/ru/post/676426/</td>\n      <td>+10</td>\n      <td>Итак, что такое Cython? Cython – это язык, кот...</td>\n    </tr>\n    <tr>\n      <th>1</th>\n      <td>2022-01-20 18:37:00</td>\n      <td>Курс «Python для инженеров». Старт 3 потока 31...</td>\n      <td>https://habr.com/ru/company/southbridge/news/t...</td>\n      <td>+10</td>\n      <td>Курс нацелен дать максимальную пользу, поэтому...</td>\n    </tr>\n    <tr>\n      <th>2</th>\n      <td>2021-12-13 09:00:00</td>\n      <td>Жаждущим автоматизации: открытый урок «ChatOps...</td>\n      <td>https://habr.com/ru/company/southbridge/news/t...</td>\n      <td>+9</td>\n      <td>21 декабря Слёрм проведёт открытый урок «ChatO...</td>\n    </tr>\n    <tr>\n      <th>3</th>\n      <td>2020-04-21 18:35:00</td>\n      <td>Вышел Python 2.7.18, последний релиз ветки Pyt...</td>\n      <td>https://habr.com/ru/news/t/498364/</td>\n      <td>+19</td>\n      <td>\\r\\n20 апреля 2020 года, спустя почти десять л...</td>\n    </tr>\n    <tr>\n      <th>4</th>\n      <td>2021-07-06 13:29:00</td>\n      <td>Python Community Meetup 8/07: видео и материал...</td>\n      <td>https://habr.com/ru/company/raiffeisenbank/new...</td>\n      <td>+3</td>\n      <td>Первый открытый онлайн-митап сообщества, для к...</td>\n    </tr>\n    <tr>\n      <th>5</th>\n      <td>2022-01-13 18:35:00</td>\n      <td>Открытый урок «Пишем Custom Prometheus Exporte...</td>\n      <td>https://habr.com/ru/company/southbridge/news/t...</td>\n      <td>+10</td>\n      <td>19 января Слёрм проведёт открытый урок «Пишем ...</td>\n    </tr>\n    <tr>\n      <th>6</th>\n      <td>2020-12-04 21:03:00</td>\n      <td>Python как компилируемый статически типизирова...</td>\n      <td>https://habr.com/ru/news/t/531402/</td>\n      <td>+16</td>\n      <td>По данным широко известного в узких кругах Tio...</td>\n    </tr>\n    <tr>\n      <th>7</th>\n      <td>2022-03-08 12:13:00</td>\n      <td>Вышел мартовский релиз расширения Python для V...</td>\n      <td>https://habr.com/ru/news/t/654707/</td>\n      <td>0</td>\n      <td>Вышел выпуск расширения Python для Visual Stud...</td>\n    </tr>\n    <tr>\n      <th>8</th>\n      <td>2020-03-03 13:22:00</td>\n      <td>...  начале этого года Python сместил Java и ...</td>\n      <td>https://habr.com/ru/company/itsumma/news/t/490...</td>\n      <td>+31</td>\n      <td>Согласно отчету RedMonk за январь 2020 года, P...</td>\n    </tr>\n    <tr>\n      <th>9</th>\n      <td>2021-11-16 16:09:00</td>\n      <td>EPAM разработала бесплатный курс по программир...</td>\n      <td>https://habr.com/ru/company/epam_systems/news/...</td>\n      <td>+3</td>\n      <td>Компания EPAM запустила бесплатный курс для са...</td>\n    </tr>\n    <tr>\n      <th>10</th>\n      <td>2020-06-03 09:00:00</td>\n      <td>Вышла версия 0.0.2 snakeware — дистрибутива Li...</td>\n      <td>https://habr.com/ru/news/t/505096/</td>\n      <td>+19</td>\n      <td>\\n\\r\\n31 мая 2020 года разработчик Джош Мур (J...</td>\n    </tr>\n    <tr>\n      <th>11</th>\n      <td>2020-11-13 10:10:00</td>\n      <td>Создатель Python Гвидо ван Россум выходит на р...</td>\n      <td>https://habr.com/ru/news/t/527858/</td>\n      <td>+21</td>\n      <td>\\n\\r\\nСоздатель языка программирования Python ...</td>\n    </tr>\n    <tr>\n      <th>12</th>\n      <td>2019-10-31 10:02:00</td>\n      <td>Создатель Python Гвидо ван Россум ушел из Drop...</td>\n      <td>https://habr.com/ru/news/t/473926/</td>\n      <td>+23</td>\n      <td>\\n\\r\\nСоздатель языка программирования Python ...</td>\n    </tr>\n    <tr>\n      <th>13</th>\n      <td>2021-10-06 12:36:00</td>\n      <td>Вышел язык программирования Python 3.10.0</td>\n      <td>https://habr.com/ru/news/t/581862/</td>\n      <td>+12</td>\n      <td>В официальном блоге языка Python заявили о вых...</td>\n    </tr>\n    <tr>\n      <th>14</th>\n      <td>2021-10-11 10:02:00</td>\n      <td>Python вышел на первое место рейтинга TIOBE, и...</td>\n      <td>https://habr.com/ru/news/t/582682/</td>\n      <td>+17</td>\n      <td>TIOBE представила рейтинг популярности языков ...</td>\n    </tr>\n    <tr>\n      <th>15</th>\n      <td>2022-06-03 14:47:00</td>\n      <td>«Тестирование веб-приложений на Python» — новы...</td>\n      <td>https://habr.com/ru/company/yandex_praktikum/n...</td>\n      <td>+1</td>\n      <td>Сервис онлайн-образования Яндекс Практикум зап...</td>\n    </tr>\n    <tr>\n      <th>16</th>\n      <td>2020-09-16 16:48:00</td>\n      <td>Астрономам порекомендовали меньше использовать...</td>\n      <td>https://habr.com/ru/news/t/519414/</td>\n      <td>+22</td>\n      <td>\\n\\r\\nАстрономы из Лейденской обсерватории опу...</td>\n    </tr>\n    <tr>\n      <th>17</th>\n      <td>2022-01-15 19:00:00</td>\n      <td>Разработчик предложил устроить коммунистическу...</td>\n      <td>https://habr.com/ru/news/t/645777/</td>\n      <td>+7</td>\n      <td>\\n\\r\\n14 января 2022 года разработчик jokteur ...</td>\n    </tr>\n    <tr>\n      <th>18</th>\n      <td>2022-05-18 18:33:00</td>\n      <td>Слёрм запускает 3-дневный интенсив по Python д...</td>\n      <td>https://habr.com/ru/company/southbridge/news/t...</td>\n      <td>+5</td>\n      <td>24-26 июня пройдёт онлайн-интенсив для инженер...</td>\n    </tr>\n    <tr>\n      <th>19</th>\n      <td>2022-03-18 18:31:00</td>\n      <td>24 марта Слёрм проведёт открытый урок «Первый ...</td>\n      <td>https://habr.com/ru/company/southbridge/news/t...</td>\n      <td>+14</td>\n      <td>Думаете, написать свою первую программу на Pyt...</td>\n    </tr>\n    <tr>\n      <th>20</th>\n      <td>2022-04-22 14:42:00</td>\n      <td>TechnoMeetsPython. Онлайн митап о Python-разра...</td>\n      <td>https://habr.com/ru/news/t/662437/</td>\n      <td>+2</td>\n      <td>27 апреля в 18:00 собираем питонистов на YouTu...</td>\n    </tr>\n    <tr>\n      <th>21</th>\n      <td>2021-09-27 09:03:00</td>\n      <td>«Разработчикам вход запрещен» или курс «Python...</td>\n      <td>https://habr.com/ru/company/southbridge/news/t...</td>\n      <td>+11</td>\n      <td>Полгода назад мы анонсировали первый поток кур...</td>\n    </tr>\n    <tr>\n      <th>22</th>\n      <td>2021-12-10 13:15:00</td>\n      <td>Интенсив для повышения квалификации: как испол...</td>\n      <td>https://habr.com/ru/company/netologyru/news/t/...</td>\n      <td>+4</td>\n      <td>14 декабря в Нетологии пройдёт вебинар, посвящ...</td>\n    </tr>\n    <tr>\n      <th>23</th>\n      <td>2022-02-04 14:04:00</td>\n      <td>В Visual Studio Code добавили новые возможност...</td>\n      <td>https://habr.com/ru/news/t/649717/</td>\n      <td>+9</td>\n      <td>В блоге Microsoft сообщили о нововведениях пла...</td>\n    </tr>\n    <tr>\n      <th>24</th>\n      <td>2022-05-24 10:57:00</td>\n      <td>Дайджест Слёрма: тест на уровень кунг-фу по Py...</td>\n      <td>https://habr.com/ru/company/southbridge/news/t...</td>\n      <td>+9</td>\n      <td>Сделали для вас подборку свежих статей и выгод...</td>\n    </tr>\n    <tr>\n      <th>25</th>\n      <td>2021-09-22 08:03:00</td>\n      <td>Открытый вебинар «The Python Packaging»</td>\n      <td>https://habr.com/ru/news/t/579264/</td>\n      <td>+3</td>\n      <td>23 сентября в 16:30 в рамках цикла открытых те...</td>\n    </tr>\n    <tr>\n      <th>26</th>\n      <td>2021-10-18 10:08:00</td>\n      <td>Intel оптимизировала библиотеку Numpy под AVX-...</td>\n      <td>https://habr.com/ru/company/itsumma/news/t/584...</td>\n      <td>+39</td>\n      <td>\\nРасположение векторного регистрового файла (...</td>\n    </tr>\n    <tr>\n      <th>27</th>\n      <td>2021-10-20 16:43:00</td>\n      <td>Новый хакатон от СберЗвука для Python-разработ...</td>\n      <td>https://habr.com/ru/news/t/584584/</td>\n      <td>+3</td>\n      <td>Привет, Хабр! Если вы хотите проверить свои си...</td>\n    </tr>\n    <tr>\n      <th>28</th>\n      <td>2022-06-27 16:57:00</td>\n      <td>В стороннем официальном репозитории Python был...</td>\n      <td>https://habr.com/ru/news/t/673668/</td>\n      <td>+7</td>\n      <td>В официальном стороннем репозитории Python был...</td>\n    </tr>\n    <tr>\n      <th>29</th>\n      <td>2021-12-08 23:20:00</td>\n      <td>Открытый семинар: FastAPI, или как быстро доба...</td>\n      <td>https://habr.com/ru/news/t/594325/</td>\n      <td>+2</td>\n      <td>9 декабря в 16:30 Виктор Бебнев (Xperience AI)...</td>\n    </tr>\n    <tr>\n      <th>30</th>\n      <td>2022-04-18 06:29:00</td>\n      <td>Онлайн-митап от руководителя практики Python U...</td>\n      <td>https://habr.com/ru/company/usetech/news/t/661...</td>\n      <td>0</td>\n      <td>В конце марта Мстислав Казаков, руководитель п...</td>\n    </tr>\n    <tr>\n      <th>31</th>\n      <td>2012-07-09 10:21:00</td>\n      <td>Мысли о Python 3</td>\n      <td>https://habr.com/ru/post/147281/</td>\n      <td>+108</td>\n      <td>Предлагаю вашему вниманю пересказ замечательно...</td>\n    </tr>\n    <tr>\n      <th>32</th>\n      <td>2012-12-09 07:16:00</td>\n      <td>Дружим Python 3 с MS Visual C++. Строим мост в...</td>\n      <td>https://habr.com/ru/post/161931/</td>\n      <td>+6</td>\n      <td>Всем доброго {daytime}!\\n\\r\\nСегодня пришла по...</td>\n    </tr>\n    <tr>\n      <th>33</th>\n      <td>2013-02-03 17:26:00</td>\n      <td>Объединяя C++ и Python. Тонкости Boost.Python....</td>\n      <td>https://habr.com/ru/post/168083/</td>\n      <td>+64</td>\n      <td>Boost.Python во всех отношениях замечательная ...</td>\n    </tr>\n    <tr>\n      <th>34</th>\n      <td>2013-02-10 12:24:00</td>\n      <td>Конвертация типов в Boost.Python. Делаем преоб...</td>\n      <td>https://habr.com/ru/post/168827/</td>\n      <td>+23</td>\n      <td>Данная статья не является продолжением повеств...</td>\n    </tr>\n    <tr>\n      <th>35</th>\n      <td>2013-02-17 17:37:00</td>\n      <td>Путешествие исключений между C++ и Python или ...</td>\n      <td>https://habr.com/ru/post/169639/</td>\n      <td>+35</td>\n      <td>В этой главе сказа про дружбу C++ и Python буд...</td>\n    </tr>\n    <tr>\n      <th>36</th>\n      <td>2013-11-25 12:41:00</td>\n      <td>Менеджер версий python</td>\n      <td>https://habr.com/ru/post/203516/</td>\n      <td>+29</td>\n      <td>Иногда полезно держать несколько версий python...</td>\n    </tr>\n    <tr>\n      <th>37</th>\n      <td>2013-12-18 10:12:00</td>\n      <td>Python на Хабре</td>\n      <td>https://habr.com/ru/post/205944/</td>\n      <td>+142</td>\n      <td>Некоторое время назад, в силу определенных при...</td>\n    </tr>\n    <tr>\n      <th>38</th>\n      <td>2015-10-23 15:45:00</td>\n      <td>10 приложений для изучения Python на Android-у...</td>\n      <td>https://habr.com/ru/post/269411/</td>\n      <td>+11</td>\n      <td>В процессе изучения языка мы обычно пользуемся...</td>\n    </tr>\n    <tr>\n      <th>39</th>\n      <td>2017-09-07 18:28:00</td>\n      <td>Что за чёрт, Python</td>\n      <td>https://habr.com/ru/company/vk/blog/337364/</td>\n      <td>+54</td>\n      <td>\\nНедавно мы писали о забавных, хитрых и стран...</td>\n    </tr>\n  </tbody>\n</table>\n</div>"
     },
     "execution_count": 76,
     "metadata": {},
     "output_type": "execute_result"
    }
   ],
   "source": [
    "def scrap_habr(theme, page=1):\n",
    "    params_req = {\n",
    "        'url': 'https://habr.com/ru/search/',\n",
    "        'search': {\n",
    "            'target_type': 'posts',\n",
    "            'order': 'relevance',\n",
    "            'q': theme\n",
    "    }}\n",
    "    scrap_df = pd.DataFrame()\n",
    "    for i in range(1,page+1):\n",
    "        print('page', i)\n",
    "        resp = req.get(params_req['url'] + f'page{i}/', params=params_req['search'])\n",
    "        to_data = bs(resp.text)\n",
    "        data = to_data.find_all('article', class_='tm-articles-list__item')\n",
    "        for item in data:\n",
    "            date = datetime.strptime(item.find('time')['title'],'%Y-%m-%d, %H:%M')\n",
    "            title = item.find('h2', class_='tm-article-snippet__title').text\n",
    "            link = 'https://habr.com' + item.find('a', class_='tm-article-snippet__title-link').get('href')\n",
    "            likes = item.find('span', class_='tm-votes-meter__value_rating').text\n",
    "            req_post = req.get(link)\n",
    "            full_text = bs(req_post.text).find('div', class_='article-formatted-body').text\n",
    "            row = {\n",
    "                'date': date,\n",
    "                'title': title,\n",
    "                'link': link,\n",
    "                'likes': likes,\n",
    "                'full_text': full_text,\n",
    "            }\n",
    "            scrap_df = pd.concat([scrap_df, pd.DataFrame([row])])\n",
    "            time.sleep(0.1)\n",
    "        time.sleep(0.2)\n",
    "    return scrap_df.reset_index(drop=True)\n",
    "\n",
    "scrap_habr('python', 2)\n",
    "\n"
   ],
   "metadata": {
    "collapsed": false,
    "pycharm": {
     "name": "#%%\n"
    }
   }
  }
 ],
 "metadata": {
  "kernelspec": {
   "display_name": "Python 3",
   "language": "python",
   "name": "python3"
  },
  "language_info": {
   "codemirror_mode": {
    "name": "ipython",
    "version": 2
   },
   "file_extension": ".py",
   "mimetype": "text/x-python",
   "name": "python",
   "nbconvert_exporter": "python",
   "pygments_lexer": "ipython2",
   "version": "2.7.6"
  }
 },
 "nbformat": 4,
 "nbformat_minor": 0
}