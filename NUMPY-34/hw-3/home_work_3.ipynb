{
 "cells": [
  {
   "cell_type": "code",
   "execution_count": 2,
   "metadata": {
    "collapsed": true
   },
   "outputs": [],
   "source": [
    "import pandas as pd"
   ]
  },
  {
   "cell_type": "markdown",
   "source": [
    "# Задание 1\n",
    "Напишите функцию, которая классифицирует фильмы из материалов занятия по следующим правилам:\n",
    "- оценка 2 и меньше - низкий рейтинг\n",
    "- оценка 4 и меньше - средний рейтинг\n",
    "- оценка 4.5 и 5 - высокий рейтинг\n",
    "\n",
    "Результат классификации запишите в столбец class"
   ],
   "metadata": {
    "collapsed": false
   }
  },
  {
   "cell_type": "code",
   "execution_count": 11,
   "outputs": [
    {
     "name": "stdout",
     "output_type": "stream",
     "text": [
      "<class 'pandas.core.frame.DataFrame'>\n",
      "RangeIndex: 100004 entries, 0 to 100003\n",
      "Data columns (total 4 columns):\n",
      " #   Column     Non-Null Count   Dtype  \n",
      "---  ------     --------------   -----  \n",
      " 0   userId     100004 non-null  int64  \n",
      " 1   movieId    100004 non-null  int64  \n",
      " 2   rating     100004 non-null  float64\n",
      " 3   timestamp  100004 non-null  int64  \n",
      "dtypes: float64(1), int64(3)\n",
      "memory usage: 3.1 MB\n"
     ]
    }
   ],
   "source": [
    "ratings = pd.read_csv('../data/ratings.csv')\n",
    "ratings.info()"
   ],
   "metadata": {
    "collapsed": false,
    "pycharm": {
     "name": "#%%\n"
    }
   }
  },
  {
   "cell_type": "code",
   "execution_count": 15,
   "outputs": [
    {
     "data": {
      "text/plain": "       userId  movieId  rating   timestamp class\n33889     242     2929     5.0   956687566    Hi\n36867     265     1233     5.0   960056214    Hi\n46251     337     1356     5.0  1447176421    Hi\n14749      95     3948     5.0  1025556197    Hi\n14747      95     3917     5.0  1019023102    Hi\n...       ...      ...     ...         ...   ...\n76709     531     1258     0.5  1243454822   Low\n2530       15   109187     0.5  1465794437   Low\n76706     531     1183     0.5  1244062924   Low\n76700     531     1036     0.5  1240402328   Low\n68262     475     3564     0.5  1447778383   Low\n\n[100004 rows x 5 columns]",
      "text/html": "<div>\n<style scoped>\n    .dataframe tbody tr th:only-of-type {\n        vertical-align: middle;\n    }\n\n    .dataframe tbody tr th {\n        vertical-align: top;\n    }\n\n    .dataframe thead th {\n        text-align: right;\n    }\n</style>\n<table border=\"1\" class=\"dataframe\">\n  <thead>\n    <tr style=\"text-align: right;\">\n      <th></th>\n      <th>userId</th>\n      <th>movieId</th>\n      <th>rating</th>\n      <th>timestamp</th>\n      <th>class</th>\n    </tr>\n  </thead>\n  <tbody>\n    <tr>\n      <th>33889</th>\n      <td>242</td>\n      <td>2929</td>\n      <td>5.0</td>\n      <td>956687566</td>\n      <td>Hi</td>\n    </tr>\n    <tr>\n      <th>36867</th>\n      <td>265</td>\n      <td>1233</td>\n      <td>5.0</td>\n      <td>960056214</td>\n      <td>Hi</td>\n    </tr>\n    <tr>\n      <th>46251</th>\n      <td>337</td>\n      <td>1356</td>\n      <td>5.0</td>\n      <td>1447176421</td>\n      <td>Hi</td>\n    </tr>\n    <tr>\n      <th>14749</th>\n      <td>95</td>\n      <td>3948</td>\n      <td>5.0</td>\n      <td>1025556197</td>\n      <td>Hi</td>\n    </tr>\n    <tr>\n      <th>14747</th>\n      <td>95</td>\n      <td>3917</td>\n      <td>5.0</td>\n      <td>1019023102</td>\n      <td>Hi</td>\n    </tr>\n    <tr>\n      <th>...</th>\n      <td>...</td>\n      <td>...</td>\n      <td>...</td>\n      <td>...</td>\n      <td>...</td>\n    </tr>\n    <tr>\n      <th>76709</th>\n      <td>531</td>\n      <td>1258</td>\n      <td>0.5</td>\n      <td>1243454822</td>\n      <td>Low</td>\n    </tr>\n    <tr>\n      <th>2530</th>\n      <td>15</td>\n      <td>109187</td>\n      <td>0.5</td>\n      <td>1465794437</td>\n      <td>Low</td>\n    </tr>\n    <tr>\n      <th>76706</th>\n      <td>531</td>\n      <td>1183</td>\n      <td>0.5</td>\n      <td>1244062924</td>\n      <td>Low</td>\n    </tr>\n    <tr>\n      <th>76700</th>\n      <td>531</td>\n      <td>1036</td>\n      <td>0.5</td>\n      <td>1240402328</td>\n      <td>Low</td>\n    </tr>\n    <tr>\n      <th>68262</th>\n      <td>475</td>\n      <td>3564</td>\n      <td>0.5</td>\n      <td>1447778383</td>\n      <td>Low</td>\n    </tr>\n  </tbody>\n</table>\n<p>100004 rows × 5 columns</p>\n</div>"
     },
     "execution_count": 15,
     "metadata": {},
     "output_type": "execute_result"
    }
   ],
   "source": [
    "def classify(rating):\n",
    "    if rating <= 2:\n",
    "        return 'Low'\n",
    "    elif 2 < rating <= 4:\n",
    "        return \"Middle\"\n",
    "    elif rating == 4.5 or rating == 5:\n",
    "        return \"Hi\"\n",
    "\n",
    "ratings['class'] = ratings['rating'].apply(classify)\n",
    "ratings.sort_values('rating', ascending=False)"
   ],
   "metadata": {
    "collapsed": false,
    "pycharm": {
     "name": "#%%\n"
    }
   }
  },
  {
   "cell_type": "markdown",
   "source": [
    "# Задание 2\n",
    "Используем файл keywords.csv.\n",
    "\n",
    "Необходимо написать гео-классификатор, который каждой строке сможет выставить географическую принадлежность определенному региону. Т. е. если поисковый запрос содержит название города региона, то в столбце ‘region’ пишется название этого региона. Если поисковый запрос не содержит названия города, то ставим ‘undefined’.\n",
    "\n",
    "Правила распределения по регионам Центр, Северо-Запад и Дальний Восток:\n",
    "```python\n",
    "geo_data = {\n",
    "'Центр': ['москва', 'тула', 'ярославль'],\n",
    "'Северо-Запад': ['петербург', 'псков', 'мурманск'],\n",
    "'Дальний Восток': ['владивосток', 'сахалин', 'хабаровск']\n",
    "}\n",
    "```\n",
    "Результат классификации запишите в отдельный столбец region."
   ],
   "metadata": {
    "collapsed": false
   }
  },
  {
   "cell_type": "code",
   "execution_count": 17,
   "outputs": [
    {
     "data": {
      "text/plain": "         keyword     shows\n0             вк  64292779\n1  одноклассники  63810309\n2          порно  41747114\n3           ютуб  39995567\n4      вконтакте  21014195",
      "text/html": "<div>\n<style scoped>\n    .dataframe tbody tr th:only-of-type {\n        vertical-align: middle;\n    }\n\n    .dataframe tbody tr th {\n        vertical-align: top;\n    }\n\n    .dataframe thead th {\n        text-align: right;\n    }\n</style>\n<table border=\"1\" class=\"dataframe\">\n  <thead>\n    <tr style=\"text-align: right;\">\n      <th></th>\n      <th>keyword</th>\n      <th>shows</th>\n    </tr>\n  </thead>\n  <tbody>\n    <tr>\n      <th>0</th>\n      <td>вк</td>\n      <td>64292779</td>\n    </tr>\n    <tr>\n      <th>1</th>\n      <td>одноклассники</td>\n      <td>63810309</td>\n    </tr>\n    <tr>\n      <th>2</th>\n      <td>порно</td>\n      <td>41747114</td>\n    </tr>\n    <tr>\n      <th>3</th>\n      <td>ютуб</td>\n      <td>39995567</td>\n    </tr>\n    <tr>\n      <th>4</th>\n      <td>вконтакте</td>\n      <td>21014195</td>\n    </tr>\n  </tbody>\n</table>\n</div>"
     },
     "execution_count": 17,
     "metadata": {},
     "output_type": "execute_result"
    }
   ],
   "source": [
    "geo_data = {\n",
    "    'Центр': ['москва', 'тула', 'ярославль'],\n",
    "    'Северо-Запад': ['петербург', 'псков', 'мурманск'],\n",
    "    'Дальний Восток': ['владивосток', 'сахалин', 'хабаровск']\n",
    "}\n",
    "\n",
    "geo_df = pd.read_csv('../data/keywords.csv')\n",
    "geo_df.head()"
   ],
   "metadata": {
    "collapsed": false,
    "pycharm": {
     "name": "#%%\n"
    }
   }
  },
  {
   "cell_type": "code",
   "execution_count": 31,
   "outputs": [
    {
     "data": {
      "text/plain": "           keyword   shows          region\n1259        москва  153050           Центр\n5858   владивосток   43038  Дальний Восток\n6075     ярославль   41720           Центр\n8977      мурманск   29984    Северо-Запад\n9084     хабаровск   29655  Дальний Восток\n11222        псков   24885    Северо-Запад\n11785         тула   23898           Центр\n20823    петербург   14859    Северо-Запад\n21445      сахалин   14494  Дальний Восток",
      "text/html": "<div>\n<style scoped>\n    .dataframe tbody tr th:only-of-type {\n        vertical-align: middle;\n    }\n\n    .dataframe tbody tr th {\n        vertical-align: top;\n    }\n\n    .dataframe thead th {\n        text-align: right;\n    }\n</style>\n<table border=\"1\" class=\"dataframe\">\n  <thead>\n    <tr style=\"text-align: right;\">\n      <th></th>\n      <th>keyword</th>\n      <th>shows</th>\n      <th>region</th>\n    </tr>\n  </thead>\n  <tbody>\n    <tr>\n      <th>1259</th>\n      <td>москва</td>\n      <td>153050</td>\n      <td>Центр</td>\n    </tr>\n    <tr>\n      <th>5858</th>\n      <td>владивосток</td>\n      <td>43038</td>\n      <td>Дальний Восток</td>\n    </tr>\n    <tr>\n      <th>6075</th>\n      <td>ярославль</td>\n      <td>41720</td>\n      <td>Центр</td>\n    </tr>\n    <tr>\n      <th>8977</th>\n      <td>мурманск</td>\n      <td>29984</td>\n      <td>Северо-Запад</td>\n    </tr>\n    <tr>\n      <th>9084</th>\n      <td>хабаровск</td>\n      <td>29655</td>\n      <td>Дальний Восток</td>\n    </tr>\n    <tr>\n      <th>11222</th>\n      <td>псков</td>\n      <td>24885</td>\n      <td>Северо-Запад</td>\n    </tr>\n    <tr>\n      <th>11785</th>\n      <td>тула</td>\n      <td>23898</td>\n      <td>Центр</td>\n    </tr>\n    <tr>\n      <th>20823</th>\n      <td>петербург</td>\n      <td>14859</td>\n      <td>Северо-Запад</td>\n    </tr>\n    <tr>\n      <th>21445</th>\n      <td>сахалин</td>\n      <td>14494</td>\n      <td>Дальний Восток</td>\n    </tr>\n  </tbody>\n</table>\n</div>"
     },
     "execution_count": 31,
     "metadata": {},
     "output_type": "execute_result"
    }
   ],
   "source": [
    "def add_region(word):\n",
    "    for key, val in geo_data.items():\n",
    "        if word.lower() in val:\n",
    "            return key\n",
    "    return 'undefined'\n",
    "geo_df['region'] = geo_df['keyword'].apply(add_region)\n",
    "geo_df[geo_df['region'] != 'undefined']"
   ],
   "metadata": {
    "collapsed": false,
    "pycharm": {
     "name": "#%%\n"
    }
   }
  },
  {
   "cell_type": "markdown",
   "source": [
    "# Задание 3 (бонусное)\n",
    "\n",
    "Есть мнение, что “раньше снимали настоящее кино, не то что сейчас”. Ваша задача проверить это утверждение, используя файлы с рейтингами фильмов из прошлого домашнего занятия (файл movies.csv и ratings.csv из базы grouplens.org.../movielens). Т. е. проверить верно ли, что с ростом года выпуска фильма его средний рейтинг становится ниже.\n",
    "\n",
    "При этом мы не будем затрагивать субьективные факторы выставления этих рейтингов, а пройдемся по следующему алгоритму:\n",
    "\n",
    "В переменную years запишите список из всех годов с 1950 по 2010.\n",
    "\n",
    "Напишите функцию production_year, которая каждой строке из названия фильма выставляет год выпуска. Не все названия фильмов содержат год выпуска в одинаковом формате, поэтому используйте следующий алгоритм:\n",
    "\n",
    "для каждой строки пройдите по всем годам списка years\n",
    "если номер года присутствует в названии фильма, то функция возвращает этот год как год выпуска\n",
    "если ни один из номеров года списка years не встретился в названии фильма, то возвращается 1900 год\n",
    "Запишите год выпуска фильма по алгоритму пункта 2 в новый столбец ‘year’\n",
    "\n",
    "Посчитайте средний рейтинг всех фильмов для каждого значения столбца ‘year’ и отсортируйте результат по убыванию рейтинга\n",
    "\n",
    "P.S. все файлы находятся в архиве «дополнительные файлы к лекции и дз»\n"
   ],
   "metadata": {
    "collapsed": false,
    "pycharm": {
     "name": "#%% md\n"
    }
   }
  },
  {
   "cell_type": "code",
   "execution_count": 36,
   "outputs": [
    {
     "data": {
      "text/plain": "        movieId                                              title  \\\n0             1                                   Toy Story (1995)   \n1             1                                   Toy Story (1995)   \n2             1                                   Toy Story (1995)   \n3             1                                   Toy Story (1995)   \n4             1                                   Toy Story (1995)   \n...         ...                                                ...   \n100058   162672                                Mohenjo Daro (2016)   \n100059   163056                               Shin Godzilla (2016)   \n100060   163949  The Beatles: Eight Days a Week - The Touring Y...   \n100061   164977                           The Gay Desperado (1936)   \n100062   164979                              Women of '69, Unboxed   \n\n                                             genres  userId  rating  \\\n0       Adventure|Animation|Children|Comedy|Fantasy     7.0     3.0   \n1       Adventure|Animation|Children|Comedy|Fantasy     9.0     4.0   \n2       Adventure|Animation|Children|Comedy|Fantasy    13.0     5.0   \n3       Adventure|Animation|Children|Comedy|Fantasy    15.0     2.0   \n4       Adventure|Animation|Children|Comedy|Fantasy    19.0     3.0   \n...                                             ...     ...     ...   \n100058                      Adventure|Drama|Romance   611.0     3.0   \n100059              Action|Adventure|Fantasy|Sci-Fi     NaN     NaN   \n100060                                  Documentary   547.0     5.0   \n100061                                       Comedy     NaN     NaN   \n100062                                  Documentary     NaN     NaN   \n\n           timestamp   class  \n0       8.518667e+08  Middle  \n1       9.386292e+08  Middle  \n2       1.331380e+09      Hi  \n3       9.979383e+08     Low  \n4       8.551901e+08  Middle  \n...              ...     ...  \n100058  1.471524e+09  Middle  \n100059           NaN     NaN  \n100060  1.476419e+09      Hi  \n100061           NaN     NaN  \n100062           NaN     NaN  \n\n[100063 rows x 7 columns]",
      "text/html": "<div>\n<style scoped>\n    .dataframe tbody tr th:only-of-type {\n        vertical-align: middle;\n    }\n\n    .dataframe tbody tr th {\n        vertical-align: top;\n    }\n\n    .dataframe thead th {\n        text-align: right;\n    }\n</style>\n<table border=\"1\" class=\"dataframe\">\n  <thead>\n    <tr style=\"text-align: right;\">\n      <th></th>\n      <th>movieId</th>\n      <th>title</th>\n      <th>genres</th>\n      <th>userId</th>\n      <th>rating</th>\n      <th>timestamp</th>\n      <th>class</th>\n    </tr>\n  </thead>\n  <tbody>\n    <tr>\n      <th>0</th>\n      <td>1</td>\n      <td>Toy Story (1995)</td>\n      <td>Adventure|Animation|Children|Comedy|Fantasy</td>\n      <td>7.0</td>\n      <td>3.0</td>\n      <td>8.518667e+08</td>\n      <td>Middle</td>\n    </tr>\n    <tr>\n      <th>1</th>\n      <td>1</td>\n      <td>Toy Story (1995)</td>\n      <td>Adventure|Animation|Children|Comedy|Fantasy</td>\n      <td>9.0</td>\n      <td>4.0</td>\n      <td>9.386292e+08</td>\n      <td>Middle</td>\n    </tr>\n    <tr>\n      <th>2</th>\n      <td>1</td>\n      <td>Toy Story (1995)</td>\n      <td>Adventure|Animation|Children|Comedy|Fantasy</td>\n      <td>13.0</td>\n      <td>5.0</td>\n      <td>1.331380e+09</td>\n      <td>Hi</td>\n    </tr>\n    <tr>\n      <th>3</th>\n      <td>1</td>\n      <td>Toy Story (1995)</td>\n      <td>Adventure|Animation|Children|Comedy|Fantasy</td>\n      <td>15.0</td>\n      <td>2.0</td>\n      <td>9.979383e+08</td>\n      <td>Low</td>\n    </tr>\n    <tr>\n      <th>4</th>\n      <td>1</td>\n      <td>Toy Story (1995)</td>\n      <td>Adventure|Animation|Children|Comedy|Fantasy</td>\n      <td>19.0</td>\n      <td>3.0</td>\n      <td>8.551901e+08</td>\n      <td>Middle</td>\n    </tr>\n    <tr>\n      <th>...</th>\n      <td>...</td>\n      <td>...</td>\n      <td>...</td>\n      <td>...</td>\n      <td>...</td>\n      <td>...</td>\n      <td>...</td>\n    </tr>\n    <tr>\n      <th>100058</th>\n      <td>162672</td>\n      <td>Mohenjo Daro (2016)</td>\n      <td>Adventure|Drama|Romance</td>\n      <td>611.0</td>\n      <td>3.0</td>\n      <td>1.471524e+09</td>\n      <td>Middle</td>\n    </tr>\n    <tr>\n      <th>100059</th>\n      <td>163056</td>\n      <td>Shin Godzilla (2016)</td>\n      <td>Action|Adventure|Fantasy|Sci-Fi</td>\n      <td>NaN</td>\n      <td>NaN</td>\n      <td>NaN</td>\n      <td>NaN</td>\n    </tr>\n    <tr>\n      <th>100060</th>\n      <td>163949</td>\n      <td>The Beatles: Eight Days a Week - The Touring Y...</td>\n      <td>Documentary</td>\n      <td>547.0</td>\n      <td>5.0</td>\n      <td>1.476419e+09</td>\n      <td>Hi</td>\n    </tr>\n    <tr>\n      <th>100061</th>\n      <td>164977</td>\n      <td>The Gay Desperado (1936)</td>\n      <td>Comedy</td>\n      <td>NaN</td>\n      <td>NaN</td>\n      <td>NaN</td>\n      <td>NaN</td>\n    </tr>\n    <tr>\n      <th>100062</th>\n      <td>164979</td>\n      <td>Women of '69, Unboxed</td>\n      <td>Documentary</td>\n      <td>NaN</td>\n      <td>NaN</td>\n      <td>NaN</td>\n      <td>NaN</td>\n    </tr>\n  </tbody>\n</table>\n<p>100063 rows × 7 columns</p>\n</div>"
     },
     "execution_count": 36,
     "metadata": {},
     "output_type": "execute_result"
    }
   ],
   "source": [
    "years = [2010 - index for index in range(61)]\n",
    "movies = pd.read_csv('../data/movies.csv')\n",
    "df_merge = movies.merge(ratings, how='left', left_on='movieId', right_on='movieId')\n",
    "df_merge"
   ],
   "metadata": {
    "collapsed": false,
    "pycharm": {
     "name": "#%%\n"
    }
   }
  },
  {
   "cell_type": "code",
   "execution_count": 76,
   "outputs": [
    {
     "data": {
      "text/plain": "      mean\nyear      \n1972  4.01\n1957  4.01\n1952  4.00\n1974  4.00\n1954  3.99\n...    ...\n1990  3.45\n2003  3.44\n1996  3.43\n1997  3.42\n2000  3.35\n\n[62 rows x 1 columns]",
      "text/html": "<div>\n<style scoped>\n    .dataframe tbody tr th:only-of-type {\n        vertical-align: middle;\n    }\n\n    .dataframe tbody tr th {\n        vertical-align: top;\n    }\n\n    .dataframe thead th {\n        text-align: right;\n    }\n</style>\n<table border=\"1\" class=\"dataframe\">\n  <thead>\n    <tr style=\"text-align: right;\">\n      <th></th>\n      <th>mean</th>\n    </tr>\n    <tr>\n      <th>year</th>\n      <th></th>\n    </tr>\n  </thead>\n  <tbody>\n    <tr>\n      <th>1972</th>\n      <td>4.01</td>\n    </tr>\n    <tr>\n      <th>1957</th>\n      <td>4.01</td>\n    </tr>\n    <tr>\n      <th>1952</th>\n      <td>4.00</td>\n    </tr>\n    <tr>\n      <th>1974</th>\n      <td>4.00</td>\n    </tr>\n    <tr>\n      <th>1954</th>\n      <td>3.99</td>\n    </tr>\n    <tr>\n      <th>...</th>\n      <td>...</td>\n    </tr>\n    <tr>\n      <th>1990</th>\n      <td>3.45</td>\n    </tr>\n    <tr>\n      <th>2003</th>\n      <td>3.44</td>\n    </tr>\n    <tr>\n      <th>1996</th>\n      <td>3.43</td>\n    </tr>\n    <tr>\n      <th>1997</th>\n      <td>3.42</td>\n    </tr>\n    <tr>\n      <th>2000</th>\n      <td>3.35</td>\n    </tr>\n  </tbody>\n</table>\n<p>62 rows × 1 columns</p>\n</div>"
     },
     "execution_count": 76,
     "metadata": {},
     "output_type": "execute_result"
    }
   ],
   "source": [
    "def production_year(title):\n",
    "    for year in years:\n",
    "        if str(year) in title:\n",
    "            return year\n",
    "    return 1900\n",
    "df_merge['year'] = df_merge['title'].apply(production_year)\n",
    "df_merge.groupby(['year'])['rating'].agg(['mean']).round(2).sort_values(by='mean', ascending=False)"
   ],
   "metadata": {
    "collapsed": false,
    "pycharm": {
     "name": "#%%\n"
    }
   }
  }
 ],
 "metadata": {
  "kernelspec": {
   "display_name": "Python 3",
   "language": "python",
   "name": "python3"
  },
  "language_info": {
   "codemirror_mode": {
    "name": "ipython",
    "version": 2
   },
   "file_extension": ".py",
   "mimetype": "text/x-python",
   "name": "python",
   "nbconvert_exporter": "python",
   "pygments_lexer": "ipython2",
   "version": "2.7.6"
  }
 },
 "nbformat": 4,
 "nbformat_minor": 0
}