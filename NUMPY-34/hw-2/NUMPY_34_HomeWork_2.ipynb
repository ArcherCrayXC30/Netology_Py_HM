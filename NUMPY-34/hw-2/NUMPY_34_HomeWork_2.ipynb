{
 "nbformat": 4,
 "nbformat_minor": 0,
 "metadata": {
  "colab": {
   "name": "NUMPY-34_HomeWork 2",
   "provenance": []
  },
  "kernelspec": {
   "name": "python3",
   "display_name": "Python 3"
  },
  "language_info": {
   "name": "python"
  }
 },
 "cells": [
  {
   "cell_type": "markdown",
   "source": [
    "#Задание 1\n",
    "Скачайте с сайта grouplens.org...movielens/ датасет любого размера. \n",
    "\n",
    "Определите, какому фильму было выставлено больше всего оценок 5.0."
   ],
   "metadata": {
    "id": "RlBe3VMgNo2O"
   }
  },
  {
   "cell_type": "code",
   "execution_count": 1,
   "metadata": {
    "id": "eSFZ2p3MJ2nU"
   },
   "outputs": [],
   "source": [
    "import pandas as pd\n"
   ]
  },
  {
   "cell_type": "code",
   "source": [
    "df = pd.read_csv('../data/ratings.csv')\n",
    "df.info()"
   ],
   "metadata": {
    "colab": {
     "base_uri": "https://localhost:8080/"
    },
    "id": "By7z0FyvN27_",
    "outputId": "40c3496f-eb7b-4f02-bcff-5daf1e45a3d6"
   },
   "execution_count": 3,
   "outputs": [
    {
     "name": "stdout",
     "output_type": "stream",
     "text": [
      "<class 'pandas.core.frame.DataFrame'>\n",
      "RangeIndex: 100004 entries, 0 to 100003\n",
      "Data columns (total 4 columns):\n",
      " #   Column     Non-Null Count   Dtype  \n",
      "---  ------     --------------   -----  \n",
      " 0   userId     100004 non-null  int64  \n",
      " 1   movieId    100004 non-null  int64  \n",
      " 2   rating     100004 non-null  float64\n",
      " 3   timestamp  100004 non-null  int64  \n",
      "dtypes: float64(1), int64(3)\n",
      "memory usage: 3.1 MB\n"
     ]
    }
   ]
  },
  {
   "cell_type": "code",
   "source": [
    "\n",
    "df.sort_values([\"movieId\", \"rating\"], ascending=[True, False], inplace=True)"
   ],
   "metadata": {
    "id": "DNjHoIe-PC9x"
   },
   "execution_count": 4,
   "outputs": []
  },
  {
   "cell_type": "code",
   "source": [
    "df[df.rating == 5].groupby([\"movieId\"]).value_counts()"
   ],
   "metadata": {
    "colab": {
     "base_uri": "https://localhost:8080/"
    },
    "id": "FeE7lYNkT48B",
    "outputId": "a487e8d5-f1e6-49b1-de9e-380fc755d6e9"
   },
   "execution_count": 8,
   "outputs": [
    {
     "data": {
      "text/plain": "movieId  userId  rating  timestamp \n1        13      5.0     1331380058    1\n         26      5.0     1360087980    1\n         466     5.0     944892273     1\n         357     5.0     832768614     1\n         358     5.0     957480017     1\n                                      ..\n157296   287     5.0     1469161542    1\n160590   56      5.0     1467095789    1\n161944   287     5.0     1470167824    1\n162542   611     5.0     1471520667    1\n163949   547     5.0     1476419239    1\nLength: 15095, dtype: int64"
     },
     "execution_count": 8,
     "metadata": {},
     "output_type": "execute_result"
    }
   ]
  },
  {
   "cell_type": "markdown",
   "source": [
    "#Задание 2\n",
    "По данным файла power.csv посчитайте суммарное потребление стран Прибалтики (Латвия, Литва и Эстония) категорий 4, 12 и 21 за период с 2005 по 2010 года. Не учитывайте в расчетах отрицательные значения quantity."
   ],
   "metadata": {
    "id": "AcVTvKgiXmjy"
   }
  },
  {
   "cell_type": "code",
   "source": [
    "power = pd.read_csv(\"power.csv\")\n",
    "power.info()"
   ],
   "metadata": {
    "colab": {
     "base_uri": "https://localhost:8080/"
    },
    "id": "pufJ7rlgX4Y-",
    "outputId": "79cfaa25-9c88-4f05-9202-553aac679ea1"
   },
   "execution_count": null,
   "outputs": [
    {
     "output_type": "stream",
     "name": "stdout",
     "text": [
      "<class 'pandas.core.frame.DataFrame'>\n",
      "RangeIndex: 1189482 entries, 0 to 1189481\n",
      "Data columns (total 4 columns):\n",
      " #   Column    Non-Null Count    Dtype  \n",
      "---  ------    --------------    -----  \n",
      " 0   country   1189482 non-null  object \n",
      " 1   year      1189482 non-null  int64  \n",
      " 2   quantity  1189482 non-null  float64\n",
      " 3   category  1189482 non-null  int64  \n",
      "dtypes: float64(1), int64(2), object(1)\n",
      "memory usage: 36.3+ MB\n"
     ]
    }
   ]
  },
  {
   "cell_type": "code",
   "source": [
    "sum_baltica = power[\n",
    "      (power.country.str.contains('Estonia|Latvia|Lithuania')) \n",
    "      & ((power['category'] == 4) | (power['category'] == 12) | (power['category'] == 21)) \n",
    "      & (power['quantity'] >= 0)\n",
    "      & ((power.year > 2004) & ((power.year < 2011)) )\n",
    "      ]['quantity'].sum()\n",
    "print(f'Сумма потребления Прибалтийских стран с 2005 по 2010 по категориям 4, 12, 21: {sum_baltica}')"
   ],
   "metadata": {
    "colab": {
     "base_uri": "https://localhost:8080/"
    },
    "id": "MXV9zV6eZf17",
    "outputId": "82370d46-666f-412f-b91f-a2462cf49d21"
   },
   "execution_count": null,
   "outputs": [
    {
     "output_type": "stream",
     "name": "stdout",
     "text": [
      "Сумма потребления Прибалтийских стран с 2005 по 2010 по категориям 4, 12, 21: 240580.0\n"
     ]
    }
   ]
  },
  {
   "cell_type": "markdown",
   "source": [
    "#Задание 3\n",
    "Выберите страницу любого сайта с табличными данными. Импортируйте таблицы в pandas dataframe.\n",
    "Примеры страниц (необязательно брать именно эти):"
   ],
   "metadata": {
    "id": "fvDaG0n8eAUC"
   }
  },
  {
   "cell_type": "code",
   "source": [
    "url = 'https://fortrader.org/quotes'\n",
    "tables = pd.read_html(url)\n",
    "tables[3].info()\n"
   ],
   "metadata": {
    "colab": {
     "base_uri": "https://localhost:8080/"
    },
    "id": "ifrZhtPJeCXI",
    "outputId": "09279eb7-6a97-46e9-b8c8-741232e5d574"
   },
   "execution_count": null,
   "outputs": [
    {
     "output_type": "stream",
     "name": "stdout",
     "text": [
      "<class 'pandas.core.frame.DataFrame'>\n",
      "RangeIndex: 40 entries, 0 to 39\n",
      "Data columns (total 5 columns):\n",
      " #   Column        Non-Null Count  Dtype  \n",
      "---  ------        --------------  -----  \n",
      " 0   Название      40 non-null     object \n",
      " 1   Цена          40 non-null     object \n",
      " 2   Изменение     40 non-null     object \n",
      " 3   Изменение(%)  40 non-null     object \n",
      " 4   Обновлено     0 non-null      float64\n",
      "dtypes: float64(1), object(4)\n",
      "memory usage: 1.7+ KB\n"
     ]
    }
   ]
  }
 ]
}